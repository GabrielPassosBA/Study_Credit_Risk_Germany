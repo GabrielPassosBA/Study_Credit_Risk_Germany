{
 "cells": [
  {
   "cell_type": "markdown",
   "id": "2bdb5d21",
   "metadata": {},
   "source": [
    "# Estudo de analise de risco de credito da alemanha "
   ]
  },
  {
   "cell_type": "code",
   "execution_count": 1,
   "id": "1ab9e093",
   "metadata": {},
   "outputs": [],
   "source": [
    "#Importar bibliotecas\n",
    "\n",
    "import pandas as pd\n",
    "import numpy as np\n",
    "import seaborn as sns\n",
    "import matplotlib.pyplot as plt\n",
    "import plotly.express as px\n"
   ]
  },
  {
   "cell_type": "code",
   "execution_count": 2,
   "id": "4ee6d3b0",
   "metadata": {},
   "outputs": [],
   "source": [
    "df_risk_credit = pd.read_csv('german_credit.csv')"
   ]
  },
  {
   "cell_type": "code",
   "execution_count": 3,
   "id": "1ce7a4f0",
   "metadata": {},
   "outputs": [
    {
     "data": {
      "text/html": [
       "<div>\n",
       "<style scoped>\n",
       "    .dataframe tbody tr th:only-of-type {\n",
       "        vertical-align: middle;\n",
       "    }\n",
       "\n",
       "    .dataframe tbody tr th {\n",
       "        vertical-align: top;\n",
       "    }\n",
       "\n",
       "    .dataframe thead th {\n",
       "        text-align: right;\n",
       "    }\n",
       "</style>\n",
       "<table border=\"1\" class=\"dataframe\">\n",
       "  <thead>\n",
       "    <tr style=\"text-align: right;\">\n",
       "      <th></th>\n",
       "      <th>Creditability</th>\n",
       "      <th>Account Balance</th>\n",
       "      <th>Duration of Credit (month)</th>\n",
       "      <th>Payment Status of Previous Credit</th>\n",
       "      <th>Purpose</th>\n",
       "      <th>Credit Amount</th>\n",
       "      <th>Value Savings/Stocks</th>\n",
       "      <th>Length of current employment</th>\n",
       "      <th>Instalment per cent</th>\n",
       "      <th>Sex &amp; Marital Status</th>\n",
       "      <th>...</th>\n",
       "      <th>Duration in Current address</th>\n",
       "      <th>Most valuable available asset</th>\n",
       "      <th>Age (years)</th>\n",
       "      <th>Concurrent Credits</th>\n",
       "      <th>Type of apartment</th>\n",
       "      <th>No of Credits at this Bank</th>\n",
       "      <th>Occupation</th>\n",
       "      <th>No of dependents</th>\n",
       "      <th>Telephone</th>\n",
       "      <th>Foreign Worker</th>\n",
       "    </tr>\n",
       "  </thead>\n",
       "  <tbody>\n",
       "    <tr>\n",
       "      <th>0</th>\n",
       "      <td>1</td>\n",
       "      <td>1</td>\n",
       "      <td>18</td>\n",
       "      <td>4</td>\n",
       "      <td>2</td>\n",
       "      <td>1049</td>\n",
       "      <td>1</td>\n",
       "      <td>2</td>\n",
       "      <td>4</td>\n",
       "      <td>2</td>\n",
       "      <td>...</td>\n",
       "      <td>4</td>\n",
       "      <td>2</td>\n",
       "      <td>21</td>\n",
       "      <td>3</td>\n",
       "      <td>1</td>\n",
       "      <td>1</td>\n",
       "      <td>3</td>\n",
       "      <td>1</td>\n",
       "      <td>1</td>\n",
       "      <td>1</td>\n",
       "    </tr>\n",
       "    <tr>\n",
       "      <th>1</th>\n",
       "      <td>1</td>\n",
       "      <td>1</td>\n",
       "      <td>9</td>\n",
       "      <td>4</td>\n",
       "      <td>0</td>\n",
       "      <td>2799</td>\n",
       "      <td>1</td>\n",
       "      <td>3</td>\n",
       "      <td>2</td>\n",
       "      <td>3</td>\n",
       "      <td>...</td>\n",
       "      <td>2</td>\n",
       "      <td>1</td>\n",
       "      <td>36</td>\n",
       "      <td>3</td>\n",
       "      <td>1</td>\n",
       "      <td>2</td>\n",
       "      <td>3</td>\n",
       "      <td>2</td>\n",
       "      <td>1</td>\n",
       "      <td>1</td>\n",
       "    </tr>\n",
       "    <tr>\n",
       "      <th>2</th>\n",
       "      <td>1</td>\n",
       "      <td>2</td>\n",
       "      <td>12</td>\n",
       "      <td>2</td>\n",
       "      <td>9</td>\n",
       "      <td>841</td>\n",
       "      <td>2</td>\n",
       "      <td>4</td>\n",
       "      <td>2</td>\n",
       "      <td>2</td>\n",
       "      <td>...</td>\n",
       "      <td>4</td>\n",
       "      <td>1</td>\n",
       "      <td>23</td>\n",
       "      <td>3</td>\n",
       "      <td>1</td>\n",
       "      <td>1</td>\n",
       "      <td>2</td>\n",
       "      <td>1</td>\n",
       "      <td>1</td>\n",
       "      <td>1</td>\n",
       "    </tr>\n",
       "    <tr>\n",
       "      <th>3</th>\n",
       "      <td>1</td>\n",
       "      <td>1</td>\n",
       "      <td>12</td>\n",
       "      <td>4</td>\n",
       "      <td>0</td>\n",
       "      <td>2122</td>\n",
       "      <td>1</td>\n",
       "      <td>3</td>\n",
       "      <td>3</td>\n",
       "      <td>3</td>\n",
       "      <td>...</td>\n",
       "      <td>2</td>\n",
       "      <td>1</td>\n",
       "      <td>39</td>\n",
       "      <td>3</td>\n",
       "      <td>1</td>\n",
       "      <td>2</td>\n",
       "      <td>2</td>\n",
       "      <td>2</td>\n",
       "      <td>1</td>\n",
       "      <td>2</td>\n",
       "    </tr>\n",
       "    <tr>\n",
       "      <th>4</th>\n",
       "      <td>1</td>\n",
       "      <td>1</td>\n",
       "      <td>12</td>\n",
       "      <td>4</td>\n",
       "      <td>0</td>\n",
       "      <td>2171</td>\n",
       "      <td>1</td>\n",
       "      <td>3</td>\n",
       "      <td>4</td>\n",
       "      <td>3</td>\n",
       "      <td>...</td>\n",
       "      <td>4</td>\n",
       "      <td>2</td>\n",
       "      <td>38</td>\n",
       "      <td>1</td>\n",
       "      <td>2</td>\n",
       "      <td>2</td>\n",
       "      <td>2</td>\n",
       "      <td>1</td>\n",
       "      <td>1</td>\n",
       "      <td>2</td>\n",
       "    </tr>\n",
       "  </tbody>\n",
       "</table>\n",
       "<p>5 rows × 21 columns</p>\n",
       "</div>"
      ],
      "text/plain": [
       "   Creditability  Account Balance  Duration of Credit (month)  \\\n",
       "0              1                1                          18   \n",
       "1              1                1                           9   \n",
       "2              1                2                          12   \n",
       "3              1                1                          12   \n",
       "4              1                1                          12   \n",
       "\n",
       "   Payment Status of Previous Credit  Purpose  Credit Amount  \\\n",
       "0                                  4        2           1049   \n",
       "1                                  4        0           2799   \n",
       "2                                  2        9            841   \n",
       "3                                  4        0           2122   \n",
       "4                                  4        0           2171   \n",
       "\n",
       "   Value Savings/Stocks  Length of current employment  Instalment per cent  \\\n",
       "0                     1                             2                    4   \n",
       "1                     1                             3                    2   \n",
       "2                     2                             4                    2   \n",
       "3                     1                             3                    3   \n",
       "4                     1                             3                    4   \n",
       "\n",
       "   Sex & Marital Status  ...  Duration in Current address  \\\n",
       "0                     2  ...                            4   \n",
       "1                     3  ...                            2   \n",
       "2                     2  ...                            4   \n",
       "3                     3  ...                            2   \n",
       "4                     3  ...                            4   \n",
       "\n",
       "   Most valuable available asset  Age (years)  Concurrent Credits  \\\n",
       "0                              2           21                   3   \n",
       "1                              1           36                   3   \n",
       "2                              1           23                   3   \n",
       "3                              1           39                   3   \n",
       "4                              2           38                   1   \n",
       "\n",
       "   Type of apartment  No of Credits at this Bank  Occupation  \\\n",
       "0                  1                           1           3   \n",
       "1                  1                           2           3   \n",
       "2                  1                           1           2   \n",
       "3                  1                           2           2   \n",
       "4                  2                           2           2   \n",
       "\n",
       "   No of dependents  Telephone  Foreign Worker  \n",
       "0                 1          1               1  \n",
       "1                 2          1               1  \n",
       "2                 1          1               1  \n",
       "3                 2          1               2  \n",
       "4                 1          1               2  \n",
       "\n",
       "[5 rows x 21 columns]"
      ]
     },
     "execution_count": 3,
     "metadata": {},
     "output_type": "execute_result"
    }
   ],
   "source": [
    "df_risk_credit.head(5)"
   ]
  },
  {
   "cell_type": "code",
   "execution_count": 4,
   "id": "7e53fa74",
   "metadata": {},
   "outputs": [
    {
     "data": {
      "text/plain": [
       "(1000, 21)"
      ]
     },
     "execution_count": 4,
     "metadata": {},
     "output_type": "execute_result"
    }
   ],
   "source": [
    "df_risk_credit.shape"
   ]
  },
  {
   "cell_type": "code",
   "execution_count": 5,
   "id": "6d5e124a",
   "metadata": {},
   "outputs": [
    {
     "data": {
      "text/plain": [
       "Creditability                        int64\n",
       "Account Balance                      int64\n",
       "Duration of Credit (month)           int64\n",
       "Payment Status of Previous Credit    int64\n",
       "Purpose                              int64\n",
       "Credit Amount                        int64\n",
       "Value Savings/Stocks                 int64\n",
       "Length of current employment         int64\n",
       "Instalment per cent                  int64\n",
       "Sex & Marital Status                 int64\n",
       "Guarantors                           int64\n",
       "Duration in Current address          int64\n",
       "Most valuable available asset        int64\n",
       "Age (years)                          int64\n",
       "Concurrent Credits                   int64\n",
       "Type of apartment                    int64\n",
       "No of Credits at this Bank           int64\n",
       "Occupation                           int64\n",
       "No of dependents                     int64\n",
       "Telephone                            int64\n",
       "Foreign Worker                       int64\n",
       "dtype: object"
      ]
     },
     "execution_count": 5,
     "metadata": {},
     "output_type": "execute_result"
    }
   ],
   "source": [
    "df_risk_credit.dtypes"
   ]
  },
  {
   "cell_type": "code",
   "execution_count": 6,
   "id": "93c029a6",
   "metadata": {},
   "outputs": [
    {
     "data": {
      "text/plain": [
       "Creditability                        0\n",
       "Account Balance                      0\n",
       "Duration of Credit (month)           0\n",
       "Payment Status of Previous Credit    0\n",
       "Purpose                              0\n",
       "Credit Amount                        0\n",
       "Value Savings/Stocks                 0\n",
       "Length of current employment         0\n",
       "Instalment per cent                  0\n",
       "Sex & Marital Status                 0\n",
       "Guarantors                           0\n",
       "Duration in Current address          0\n",
       "Most valuable available asset        0\n",
       "Age (years)                          0\n",
       "Concurrent Credits                   0\n",
       "Type of apartment                    0\n",
       "No of Credits at this Bank           0\n",
       "Occupation                           0\n",
       "No of dependents                     0\n",
       "Telephone                            0\n",
       "Foreign Worker                       0\n",
       "dtype: int64"
      ]
     },
     "execution_count": 6,
     "metadata": {},
     "output_type": "execute_result"
    }
   ],
   "source": [
    "df_risk_credit.isnull().sum()"
   ]
  },
  {
   "cell_type": "code",
   "execution_count": 7,
   "id": "68317c55",
   "metadata": {},
   "outputs": [
    {
     "data": {
      "text/html": [
       "<div>\n",
       "<style scoped>\n",
       "    .dataframe tbody tr th:only-of-type {\n",
       "        vertical-align: middle;\n",
       "    }\n",
       "\n",
       "    .dataframe tbody tr th {\n",
       "        vertical-align: top;\n",
       "    }\n",
       "\n",
       "    .dataframe thead th {\n",
       "        text-align: right;\n",
       "    }\n",
       "</style>\n",
       "<table border=\"1\" class=\"dataframe\">\n",
       "  <thead>\n",
       "    <tr style=\"text-align: right;\">\n",
       "      <th></th>\n",
       "      <th>Creditability</th>\n",
       "      <th>Account Balance</th>\n",
       "      <th>Duration of Credit (month)</th>\n",
       "      <th>Payment Status of Previous Credit</th>\n",
       "      <th>Purpose</th>\n",
       "      <th>Credit Amount</th>\n",
       "      <th>Value Savings/Stocks</th>\n",
       "      <th>Length of current employment</th>\n",
       "      <th>Instalment per cent</th>\n",
       "      <th>Sex &amp; Marital Status</th>\n",
       "      <th>...</th>\n",
       "      <th>Duration in Current address</th>\n",
       "      <th>Most valuable available asset</th>\n",
       "      <th>Age (years)</th>\n",
       "      <th>Concurrent Credits</th>\n",
       "      <th>Type of apartment</th>\n",
       "      <th>No of Credits at this Bank</th>\n",
       "      <th>Occupation</th>\n",
       "      <th>No of dependents</th>\n",
       "      <th>Telephone</th>\n",
       "      <th>Foreign Worker</th>\n",
       "    </tr>\n",
       "  </thead>\n",
       "  <tbody>\n",
       "    <tr>\n",
       "      <th>count</th>\n",
       "      <td>1000.000000</td>\n",
       "      <td>1000.000000</td>\n",
       "      <td>1000.000000</td>\n",
       "      <td>1000.00000</td>\n",
       "      <td>1000.000000</td>\n",
       "      <td>1000.00000</td>\n",
       "      <td>1000.000000</td>\n",
       "      <td>1000.000000</td>\n",
       "      <td>1000.000000</td>\n",
       "      <td>1000.00000</td>\n",
       "      <td>...</td>\n",
       "      <td>1000.000000</td>\n",
       "      <td>1000.000000</td>\n",
       "      <td>1000.00000</td>\n",
       "      <td>1000.000000</td>\n",
       "      <td>1000.000000</td>\n",
       "      <td>1000.000000</td>\n",
       "      <td>1000.000000</td>\n",
       "      <td>1000.000000</td>\n",
       "      <td>1000.000000</td>\n",
       "      <td>1000.000000</td>\n",
       "    </tr>\n",
       "    <tr>\n",
       "      <th>mean</th>\n",
       "      <td>0.700000</td>\n",
       "      <td>2.577000</td>\n",
       "      <td>20.903000</td>\n",
       "      <td>2.54500</td>\n",
       "      <td>2.828000</td>\n",
       "      <td>3271.24800</td>\n",
       "      <td>2.105000</td>\n",
       "      <td>3.384000</td>\n",
       "      <td>2.973000</td>\n",
       "      <td>2.68200</td>\n",
       "      <td>...</td>\n",
       "      <td>2.845000</td>\n",
       "      <td>2.358000</td>\n",
       "      <td>35.54200</td>\n",
       "      <td>2.675000</td>\n",
       "      <td>1.928000</td>\n",
       "      <td>1.407000</td>\n",
       "      <td>2.904000</td>\n",
       "      <td>1.155000</td>\n",
       "      <td>1.404000</td>\n",
       "      <td>1.037000</td>\n",
       "    </tr>\n",
       "    <tr>\n",
       "      <th>std</th>\n",
       "      <td>0.458487</td>\n",
       "      <td>1.257638</td>\n",
       "      <td>12.058814</td>\n",
       "      <td>1.08312</td>\n",
       "      <td>2.744439</td>\n",
       "      <td>2822.75176</td>\n",
       "      <td>1.580023</td>\n",
       "      <td>1.208306</td>\n",
       "      <td>1.118715</td>\n",
       "      <td>0.70808</td>\n",
       "      <td>...</td>\n",
       "      <td>1.103718</td>\n",
       "      <td>1.050209</td>\n",
       "      <td>11.35267</td>\n",
       "      <td>0.705601</td>\n",
       "      <td>0.530186</td>\n",
       "      <td>0.577654</td>\n",
       "      <td>0.653614</td>\n",
       "      <td>0.362086</td>\n",
       "      <td>0.490943</td>\n",
       "      <td>0.188856</td>\n",
       "    </tr>\n",
       "    <tr>\n",
       "      <th>min</th>\n",
       "      <td>0.000000</td>\n",
       "      <td>1.000000</td>\n",
       "      <td>4.000000</td>\n",
       "      <td>0.00000</td>\n",
       "      <td>0.000000</td>\n",
       "      <td>250.00000</td>\n",
       "      <td>1.000000</td>\n",
       "      <td>1.000000</td>\n",
       "      <td>1.000000</td>\n",
       "      <td>1.00000</td>\n",
       "      <td>...</td>\n",
       "      <td>1.000000</td>\n",
       "      <td>1.000000</td>\n",
       "      <td>19.00000</td>\n",
       "      <td>1.000000</td>\n",
       "      <td>1.000000</td>\n",
       "      <td>1.000000</td>\n",
       "      <td>1.000000</td>\n",
       "      <td>1.000000</td>\n",
       "      <td>1.000000</td>\n",
       "      <td>1.000000</td>\n",
       "    </tr>\n",
       "    <tr>\n",
       "      <th>25%</th>\n",
       "      <td>0.000000</td>\n",
       "      <td>1.000000</td>\n",
       "      <td>12.000000</td>\n",
       "      <td>2.00000</td>\n",
       "      <td>1.000000</td>\n",
       "      <td>1365.50000</td>\n",
       "      <td>1.000000</td>\n",
       "      <td>3.000000</td>\n",
       "      <td>2.000000</td>\n",
       "      <td>2.00000</td>\n",
       "      <td>...</td>\n",
       "      <td>2.000000</td>\n",
       "      <td>1.000000</td>\n",
       "      <td>27.00000</td>\n",
       "      <td>3.000000</td>\n",
       "      <td>2.000000</td>\n",
       "      <td>1.000000</td>\n",
       "      <td>3.000000</td>\n",
       "      <td>1.000000</td>\n",
       "      <td>1.000000</td>\n",
       "      <td>1.000000</td>\n",
       "    </tr>\n",
       "    <tr>\n",
       "      <th>50%</th>\n",
       "      <td>1.000000</td>\n",
       "      <td>2.000000</td>\n",
       "      <td>18.000000</td>\n",
       "      <td>2.00000</td>\n",
       "      <td>2.000000</td>\n",
       "      <td>2319.50000</td>\n",
       "      <td>1.000000</td>\n",
       "      <td>3.000000</td>\n",
       "      <td>3.000000</td>\n",
       "      <td>3.00000</td>\n",
       "      <td>...</td>\n",
       "      <td>3.000000</td>\n",
       "      <td>2.000000</td>\n",
       "      <td>33.00000</td>\n",
       "      <td>3.000000</td>\n",
       "      <td>2.000000</td>\n",
       "      <td>1.000000</td>\n",
       "      <td>3.000000</td>\n",
       "      <td>1.000000</td>\n",
       "      <td>1.000000</td>\n",
       "      <td>1.000000</td>\n",
       "    </tr>\n",
       "    <tr>\n",
       "      <th>75%</th>\n",
       "      <td>1.000000</td>\n",
       "      <td>4.000000</td>\n",
       "      <td>24.000000</td>\n",
       "      <td>4.00000</td>\n",
       "      <td>3.000000</td>\n",
       "      <td>3972.25000</td>\n",
       "      <td>3.000000</td>\n",
       "      <td>5.000000</td>\n",
       "      <td>4.000000</td>\n",
       "      <td>3.00000</td>\n",
       "      <td>...</td>\n",
       "      <td>4.000000</td>\n",
       "      <td>3.000000</td>\n",
       "      <td>42.00000</td>\n",
       "      <td>3.000000</td>\n",
       "      <td>2.000000</td>\n",
       "      <td>2.000000</td>\n",
       "      <td>3.000000</td>\n",
       "      <td>1.000000</td>\n",
       "      <td>2.000000</td>\n",
       "      <td>1.000000</td>\n",
       "    </tr>\n",
       "    <tr>\n",
       "      <th>max</th>\n",
       "      <td>1.000000</td>\n",
       "      <td>4.000000</td>\n",
       "      <td>72.000000</td>\n",
       "      <td>4.00000</td>\n",
       "      <td>10.000000</td>\n",
       "      <td>18424.00000</td>\n",
       "      <td>5.000000</td>\n",
       "      <td>5.000000</td>\n",
       "      <td>4.000000</td>\n",
       "      <td>4.00000</td>\n",
       "      <td>...</td>\n",
       "      <td>4.000000</td>\n",
       "      <td>4.000000</td>\n",
       "      <td>75.00000</td>\n",
       "      <td>3.000000</td>\n",
       "      <td>3.000000</td>\n",
       "      <td>4.000000</td>\n",
       "      <td>4.000000</td>\n",
       "      <td>2.000000</td>\n",
       "      <td>2.000000</td>\n",
       "      <td>2.000000</td>\n",
       "    </tr>\n",
       "  </tbody>\n",
       "</table>\n",
       "<p>8 rows × 21 columns</p>\n",
       "</div>"
      ],
      "text/plain": [
       "       Creditability  Account Balance  Duration of Credit (month)  \\\n",
       "count    1000.000000      1000.000000                 1000.000000   \n",
       "mean        0.700000         2.577000                   20.903000   \n",
       "std         0.458487         1.257638                   12.058814   \n",
       "min         0.000000         1.000000                    4.000000   \n",
       "25%         0.000000         1.000000                   12.000000   \n",
       "50%         1.000000         2.000000                   18.000000   \n",
       "75%         1.000000         4.000000                   24.000000   \n",
       "max         1.000000         4.000000                   72.000000   \n",
       "\n",
       "       Payment Status of Previous Credit      Purpose  Credit Amount  \\\n",
       "count                         1000.00000  1000.000000     1000.00000   \n",
       "mean                             2.54500     2.828000     3271.24800   \n",
       "std                              1.08312     2.744439     2822.75176   \n",
       "min                              0.00000     0.000000      250.00000   \n",
       "25%                              2.00000     1.000000     1365.50000   \n",
       "50%                              2.00000     2.000000     2319.50000   \n",
       "75%                              4.00000     3.000000     3972.25000   \n",
       "max                              4.00000    10.000000    18424.00000   \n",
       "\n",
       "       Value Savings/Stocks  Length of current employment  \\\n",
       "count           1000.000000                   1000.000000   \n",
       "mean               2.105000                      3.384000   \n",
       "std                1.580023                      1.208306   \n",
       "min                1.000000                      1.000000   \n",
       "25%                1.000000                      3.000000   \n",
       "50%                1.000000                      3.000000   \n",
       "75%                3.000000                      5.000000   \n",
       "max                5.000000                      5.000000   \n",
       "\n",
       "       Instalment per cent  Sex & Marital Status  ...  \\\n",
       "count          1000.000000            1000.00000  ...   \n",
       "mean              2.973000               2.68200  ...   \n",
       "std               1.118715               0.70808  ...   \n",
       "min               1.000000               1.00000  ...   \n",
       "25%               2.000000               2.00000  ...   \n",
       "50%               3.000000               3.00000  ...   \n",
       "75%               4.000000               3.00000  ...   \n",
       "max               4.000000               4.00000  ...   \n",
       "\n",
       "       Duration in Current address  Most valuable available asset  \\\n",
       "count                  1000.000000                    1000.000000   \n",
       "mean                      2.845000                       2.358000   \n",
       "std                       1.103718                       1.050209   \n",
       "min                       1.000000                       1.000000   \n",
       "25%                       2.000000                       1.000000   \n",
       "50%                       3.000000                       2.000000   \n",
       "75%                       4.000000                       3.000000   \n",
       "max                       4.000000                       4.000000   \n",
       "\n",
       "       Age (years)  Concurrent Credits  Type of apartment  \\\n",
       "count   1000.00000         1000.000000        1000.000000   \n",
       "mean      35.54200            2.675000           1.928000   \n",
       "std       11.35267            0.705601           0.530186   \n",
       "min       19.00000            1.000000           1.000000   \n",
       "25%       27.00000            3.000000           2.000000   \n",
       "50%       33.00000            3.000000           2.000000   \n",
       "75%       42.00000            3.000000           2.000000   \n",
       "max       75.00000            3.000000           3.000000   \n",
       "\n",
       "       No of Credits at this Bank   Occupation  No of dependents    Telephone  \\\n",
       "count                 1000.000000  1000.000000       1000.000000  1000.000000   \n",
       "mean                     1.407000     2.904000          1.155000     1.404000   \n",
       "std                      0.577654     0.653614          0.362086     0.490943   \n",
       "min                      1.000000     1.000000          1.000000     1.000000   \n",
       "25%                      1.000000     3.000000          1.000000     1.000000   \n",
       "50%                      1.000000     3.000000          1.000000     1.000000   \n",
       "75%                      2.000000     3.000000          1.000000     2.000000   \n",
       "max                      4.000000     4.000000          2.000000     2.000000   \n",
       "\n",
       "       Foreign Worker  \n",
       "count     1000.000000  \n",
       "mean         1.037000  \n",
       "std          0.188856  \n",
       "min          1.000000  \n",
       "25%          1.000000  \n",
       "50%          1.000000  \n",
       "75%          1.000000  \n",
       "max          2.000000  \n",
       "\n",
       "[8 rows x 21 columns]"
      ]
     },
     "execution_count": 7,
     "metadata": {},
     "output_type": "execute_result"
    }
   ],
   "source": [
    "df_risk_credit.describe()"
   ]
  },
  {
   "cell_type": "markdown",
   "id": "cd15be79",
   "metadata": {},
   "source": [
    "# Analise de corrlação de variáveis "
   ]
  },
  {
   "cell_type": "code",
   "execution_count": 8,
   "id": "3d1bd7c8",
   "metadata": {},
   "outputs": [
    {
     "data": {
      "image/png": "[encoded data removed]",
      "text/plain": [
       "<Figure size 1296x720 with 2 Axes>"
      ]
     },
     "metadata": {
      "needs_background": "light"
     },
     "output_type": "display_data"
    }
   ],
   "source": [
    "MatrizdeCorrelacao = sns.heatmap(df_risk_credit.corr(),annot=True, vmin=-1, vmax=1, cmap='Spectral')\n",
    "MatrizdeCorrelacao.figure.set_size_inches(18,10)\n"
   ]
  },
  {
   "cell_type": "markdown",
   "id": "be9ea6e5",
   "metadata": {},
   "source": [
    "The variable Credit Duration and Credit Amount have a positive correlation of 0.62, which we can deduce that as the amount of credit increases the credit duration is also greater."
   ]
  },
  {
   "cell_type": "markdown",
   "id": "9d9185cf",
   "metadata": {},
   "source": [
    "# Plotar Graficos estatisticos "
   ]
  },
  {
   "cell_type": "code",
   "execution_count": 9,
   "id": "15fe39e1",
   "metadata": {},
   "outputs": [
    {
     "data": {
      "text/plain": [
       "Index(['Creditability', 'Account Balance', 'Duration of Credit (month)',\n",
       "       'Payment Status of Previous Credit', 'Purpose', 'Credit Amount',\n",
       "       'Value Savings/Stocks', 'Length of current employment',\n",
       "       'Instalment per cent', 'Sex & Marital Status', 'Guarantors',\n",
       "       'Duration in Current address', 'Most valuable available asset',\n",
       "       'Age (years)', 'Concurrent Credits', 'Type of apartment',\n",
       "       'No of Credits at this Bank', 'Occupation', 'No of dependents',\n",
       "       'Telephone', 'Foreign Worker'],\n",
       "      dtype='object')"
      ]
     },
     "execution_count": 9,
     "metadata": {},
     "output_type": "execute_result"
    }
   ],
   "source": [
    "df_risk_credit.columns"
   ]
  },
  {
   "cell_type": "code",
   "execution_count": 1,
   "id": "32f0da15",
   "metadata": {},
   "outputs": [
    {
     "ename": "NameError",
     "evalue": "name 'px' is not defined",
     "output_type": "error",
     "traceback": [
      "\u001b[1;31m---------------------------------------------------------------------------\u001b[0m",
      "\u001b[1;31mNameError\u001b[0m                                 Traceback (most recent call last)",
      "\u001b[1;32m~\\AppData\\Local\\Temp/ipykernel_8412/3444793990.py\u001b[0m in \u001b[0;36m<module>\u001b[1;34m\u001b[0m\n\u001b[1;32m----> 1\u001b[1;33m grafico = px.scatter_matrix(df_risk_credit, dimensions=['Duration of Credit (month)', 'Credit Amount', 'Age (years)'], \n\u001b[0m\u001b[0;32m      2\u001b[0m                             color = 'Creditability')\n\u001b[0;32m      3\u001b[0m \u001b[0mgrafico\u001b[0m\u001b[1;33m.\u001b[0m\u001b[0mshow\u001b[0m\u001b[1;33m(\u001b[0m\u001b[1;33m)\u001b[0m\u001b[1;33m\u001b[0m\u001b[1;33m\u001b[0m\u001b[0m\n",
      "\u001b[1;31mNameError\u001b[0m: name 'px' is not defined"
     ]
    }
   ],
   "source": [
    "grafico = px.scatter_matrix(df_risk_credit, dimensions=['Duration of Credit (month)', 'Credit Amount', 'Age (years)'], \n",
    "                            color = 'Creditability')\n",
    "grafico.show()"
   ]
  },
  {
   "cell_type": "markdown",
   "id": "a0779173",
   "metadata": {},
   "source": [
    "In this scatter plot we can see that in the intersection of Credit Duration and Credit Amount, the smaller the Credit Amount, the less likely there is to be credibility."
   ]
  },
  {
   "cell_type": "code",
   "execution_count": 47,
   "id": "747215c3",
   "metadata": {},
   "outputs": [
    {
     "data": {
      "application/vnd.plotly.v1+json": {
       "config": {
        "plotlyServerURL": "https://plot.ly"
       },
       "data": [
        {
         "contours": {
          "coloring": "fill",
          "showlabels": true
         },
         "hovertemplate": "Duration of Credit (month)=%{x}<br>Credit Amount=%{y}<br>count=%{z}<extra></extra>",
         "legendgroup": "",
         "line": {
          "color": "#636efa"
         },
         "name": "",
         "showlegend": false,
         "type": "histogram2dcontour",
         "x": [
          18,
          9,
          12,
          12,
          12,
          10,
          8,
          6,
          18,
          24,
          11,
          30,
          6,
          48,
          18,
          6,
          11,
          18,
          36,
          11,
          6,
          12,
          36,
          12,
          6,
          11,
          12,
          9,
          15,
          42,
          30,
          36,
          36,
          24,
          15,
          6,
          12,
          12,
          18,
          24,
          12,
          24,
          18,
          24,
          18,
          18,
          24,
          18,
          24,
          24,
          12,
          36,
          9,
          12,
          24,
          12,
          12,
          15,
          21,
          36,
          12,
          24,
          48,
          36,
          12,
          6,
          12,
          24,
          12,
          24,
          21,
          30,
          36,
          24,
          12,
          9,
          21,
          24,
          21,
          15,
          24,
          36,
          18,
          15,
          15,
          12,
          24,
          36,
          6,
          24,
          12,
          30,
          30,
          9,
          18,
          27,
          12,
          36,
          9,
          42,
          24,
          15,
          24,
          36,
          24,
          24,
          12,
          18,
          24,
          12,
          15,
          6,
          12,
          12,
          21,
          18,
          9,
          24,
          9,
          24,
          36,
          36,
          6,
          15,
          15,
          24,
          15,
          6,
          18,
          24,
          24,
          18,
          6,
          18,
          10,
          6,
          12,
          24,
          6,
          24,
          36,
          9,
          24,
          9,
          36,
          21,
          24,
          12,
          12,
          24,
          12,
          12,
          48,
          24,
          12,
          24,
          12,
          30,
          48,
          12,
          12,
          24,
          24,
          15,
          15,
          9,
          30,
          24,
          15,
          6,
          36,
          12,
          12,
          24,
          12,
          24,
          24,
          12,
          18,
          48,
          9,
          18,
          30,
          30,
          9,
          36,
          12,
          24,
          36,
          21,
          24,
          36,
          48,
          24,
          12,
          33,
          6,
          18,
          12,
          48,
          30,
          28,
          18,
          24,
          21,
          18,
          12,
          15,
          48,
          9,
          4,
          24,
          24,
          6,
          9,
          10,
          10,
          6,
          47,
          10,
          18,
          30,
          24,
          27,
          18,
          24,
          18,
          14,
          21,
          48,
          24,
          6,
          39,
          30,
          12,
          24,
          21,
          24,
          4,
          39,
          15,
          60,
          18,
          18,
          6,
          24,
          18,
          24,
          15,
          21,
          18,
          18,
          12,
          36,
          36,
          15,
          15,
          10,
          10,
          5,
          15,
          11,
          10,
          9,
          12,
          22,
          9,
          36,
          12,
          15,
          6,
          36,
          6,
          24,
          24,
          12,
          15,
          21,
          24,
          9,
          6,
          12,
          12,
          21,
          21,
          6,
          6,
          9,
          9,
          15,
          12,
          15,
          6,
          6,
          15,
          36,
          9,
          6,
          12,
          18,
          12,
          24,
          24,
          9,
          9,
          24,
          6,
          6,
          21,
          54,
          12,
          48,
          6,
          24,
          6,
          15,
          24,
          12,
          15,
          6,
          10,
          12,
          11,
          10,
          10,
          24,
          10,
          6,
          18,
          18,
          24,
          18,
          6,
          22,
          24,
          24,
          9,
          10,
          10,
          12,
          30,
          24,
          18,
          9,
          12,
          10,
          10,
          10,
          12,
          12,
          10,
          24,
          48,
          12,
          6,
          36,
          24,
          10,
          18,
          15,
          12,
          12,
          6,
          9,
          12,
          12,
          24,
          12,
          15,
          24,
          24,
          24,
          24,
          6,
          21,
          27,
          12,
          27,
          15,
          30,
          18,
          21,
          60,
          9,
          42,
          9,
          9,
          24,
          10,
          24,
          15,
          12,
          6,
          15,
          24,
          9,
          24,
          12,
          12,
          12,
          27,
          12,
          6,
          24,
          18,
          48,
          15,
          9,
          18,
          42,
          13,
          24,
          12,
          24,
          12,
          28,
          11,
          24,
          18,
          15,
          12,
          11,
          16,
          12,
          15,
          12,
          39,
          9,
          12,
          9,
          30,
          12,
          15,
          18,
          12,
          7,
          15,
          6,
          27,
          18,
          21,
          27,
          39,
          15,
          12,
          12,
          6,
          12,
          36,
          9,
          12,
          20,
          10,
          24,
          14,
          60,
          20,
          18,
          24,
          12,
          20,
          18,
          15,
          28,
          12,
          12,
          12,
          15,
          36,
          12,
          18,
          24,
          36,
          15,
          36,
          24,
          18,
          24,
          12,
          18,
          27,
          18,
          24,
          12,
          12,
          12,
          18,
          18,
          12,
          12,
          18,
          12,
          18,
          24,
          12,
          24,
          6,
          24,
          12,
          12,
          24,
          24,
          6,
          24,
          24,
          6,
          12,
          24,
          24,
          6,
          6,
          6,
          24,
          30,
          15,
          24,
          24,
          36,
          24,
          36,
          36,
          36,
          6,
          18,
          12,
          36,
          12,
          12,
          18,
          18,
          4,
          24,
          12,
          18,
          18,
          24,
          4,
          4,
          7,
          18,
          9,
          48,
          12,
          18,
          4,
          8,
          30,
          10,
          12,
          12,
          12,
          12,
          12,
          10,
          11,
          33,
          48,
          12,
          24,
          14,
          20,
          18,
          60,
          24,
          30,
          24,
          36,
          6,
          12,
          48,
          12,
          36,
          26,
          30,
          36,
          48,
          36,
          12,
          33,
          42,
          24,
          24,
          24,
          12,
          12,
          24,
          18,
          36,
          18,
          12,
          12,
          8,
          36,
          24,
          30,
          36,
          12,
          21,
          30,
          36,
          36,
          24,
          6,
          12,
          36,
          15,
          6,
          6,
          48,
          24,
          12,
          12,
          12,
          15,
          24,
          12,
          30,
          18,
          30,
          12,
          24,
          24,
          12,
          12,
          24,
          6,
          12,
          18,
          6,
          12,
          15,
          42,
          24,
          36,
          36,
          24,
          12,
          13,
          20,
          24,
          36,
          42,
          24,
          48,
          24,
          36,
          24,
          48,
          30,
          18,
          24,
          6,
          12,
          24,
          48,
          18,
          24,
          6,
          7,
          6,
          8,
          12,
          12,
          6,
          8,
          12,
          7,
          13,
          18,
          7,
          13,
          18,
          18,
          8,
          12,
          6,
          9,
          18,
          15,
          6,
          10,
          12,
          20,
          15,
          12,
          24,
          10,
          36,
          18,
          24,
          60,
          12,
          6,
          15,
          12,
          60,
          12,
          24,
          45,
          24,
          36,
          36,
          18,
          30,
          6,
          15,
          24,
          30,
          48,
          48,
          24,
          42,
          36,
          9,
          6,
          36,
          48,
          24,
          18,
          72,
          48,
          15,
          21,
          36,
          24,
          18,
          21,
          12,
          36,
          60,
          42,
          60,
          15,
          15,
          36,
          6,
          9,
          18,
          15,
          20,
          12,
          12,
          24,
          30,
          30,
          6,
          24,
          24,
          9,
          24,
          36,
          9,
          9,
          24,
          6,
          15,
          24,
          12,
          30,
          36,
          48,
          18,
          21,
          60,
          24,
          9,
          39,
          18,
          9,
          15,
          24,
          9,
          18,
          36,
          36,
          36,
          18,
          6,
          18,
          15,
          30,
          24,
          36,
          6,
          12,
          24,
          6,
          15,
          24,
          24,
          15,
          15,
          24,
          12,
          30,
          36,
          18,
          21,
          24,
          24,
          24,
          24,
          24,
          18,
          12,
          24,
          18,
          60,
          24,
          6,
          48,
          60,
          18,
          18,
          9,
          18,
          10,
          12,
          8,
          9,
          48,
          36,
          24,
          21,
          24,
          6,
          48,
          12,
          12,
          48,
          36,
          36,
          36,
          36,
          6,
          24,
          18,
          24,
          18,
          12,
          36,
          18,
          12,
          24,
          24,
          27,
          30,
          60,
          36,
          36,
          45,
          12,
          24,
          24,
          18,
          48,
          24,
          36,
          42,
          12,
          48,
          48,
          12,
          18,
          40,
          15,
          12,
          36,
          12,
          24,
          48,
          36,
          18,
          36,
          24,
          30,
          30,
          48,
          9,
          24,
          18,
          9,
          48,
          15,
          15,
          48,
          24,
          36,
          24,
          36,
          60,
          36,
          12,
          18,
          24,
          18,
          21,
          27,
          27,
          10,
          24,
          12,
          36,
          18,
          18,
          18,
          18,
          30,
          24,
          48,
          24,
          12,
          42,
          36,
          24,
          18,
          12,
          12,
          48,
          48,
          24,
          12,
          24,
          27,
          21,
          18,
          24,
          12,
          48,
          48,
          18,
          12,
          12,
          12,
          16,
          20,
          9,
          18,
          24,
          36,
          48,
          12,
          12,
          36,
          12,
          15,
          10,
          30,
          18,
          12,
          45,
          12,
          21,
          48,
          12,
          18,
          21,
          30,
          30,
          24,
          18,
          12,
          54,
          24,
          15,
          48,
          24,
          18,
          45,
          21,
          48,
          27,
          18,
          45,
          6,
          30,
          48,
          6,
          12,
          12,
          24,
          18,
          48,
          18,
          48,
          12,
          14,
          12,
          18,
          24,
          18,
          24,
          18,
          18,
          12,
          24,
          24,
          21,
          12,
          30
         ],
         "xaxis": "x",
         "xbingroup": "x",
         "y": [
          1049,
          2799,
          841,
          2122,
          2171,
          2241,
          3398,
          1361,
          1098,
          3758,
          3905,
          6187,
          1957,
          7582,
          1936,
          2647,
          3939,
          3213,
          2337,
          7228,
          3676,
          3124,
          2384,
          1424,
          4716,
          4771,
          652,
          1154,
          3556,
          4796,
          3017,
          3535,
          6614,
          1376,
          1721,
          860,
          1495,
          1934,
          3378,
          3868,
          996,
          1755,
          1028,
          2825,
          1239,
          1216,
          1258,
          1864,
          1474,
          1382,
          640,
          3919,
          1224,
          2331,
          6313,
          385,
          1655,
          1053,
          3160,
          3079,
          1163,
          2679,
          3578,
          10875,
          1344,
          1237,
          3077,
          2284,
          1567,
          2032,
          2745,
          1867,
          2299,
          929,
          3399,
          2030,
          3275,
          1940,
          1602,
          1979,
          2022,
          3342,
          5866,
          2360,
          1520,
          3651,
          2346,
          4454,
          666,
          1965,
          1995,
          2991,
          4221,
          1364,
          6361,
          4526,
          3573,
          4455,
          2136,
          5954,
          3777,
          806,
          4712,
          7432,
          1851,
          1393,
          1412,
          1473,
          1533,
          2012,
          3959,
          428,
          2366,
          763,
          3976,
          6260,
          1919,
          2603,
          936,
          3062,
          4795,
          5842,
          2063,
          1459,
          1213,
          5103,
          874,
          2978,
          1820,
          2872,
          1925,
          2515,
          2116,
          1453,
          1364,
          1543,
          1318,
          2325,
          932,
          3148,
          3835,
          3832,
          5084,
          2406,
          2394,
          2476,
          2964,
          1262,
          1542,
          1743,
          409,
          2171,
          8858,
          3512,
          1158,
          2684,
          1498,
          5954,
          6416,
          3617,
          1291,
          1275,
          3972,
          3343,
          392,
          2134,
          5771,
          4526,
          2788,
          1382,
          5848,
          1228,
          1297,
          1552,
          1963,
          3235,
          4139,
          1804,
          1950,
          12749,
          1236,
          1055,
          8072,
          2831,
          1449,
          5742,
          2390,
          3430,
          2273,
          2923,
          1901,
          3711,
          8487,
          2255,
          1262,
          7253,
          6761,
          1817,
          2141,
          3609,
          2333,
          7824,
          1445,
          7721,
          3763,
          4439,
          1107,
          1444,
          12169,
          2753,
          1494,
          2828,
          2483,
          1299,
          1549,
          3949,
          2901,
          709,
          10722,
          1287,
          1940,
          3656,
          4679,
          8613,
          2659,
          1516,
          4380,
          802,
          1572,
          3566,
          1278,
          426,
          8588,
          3857,
          685,
          1603,
          2241,
          2384,
          601,
          2569,
          1316,
          10366,
          1568,
          629,
          1750,
          3488,
          1800,
          4151,
          2631,
          5248,
          2899,
          6204,
          804,
          3595,
          5711,
          2687,
          3643,
          2146,
          2315,
          3448,
          2708,
          1393,
          1275,
          1313,
          1493,
          2675,
          2118,
          909,
          1258,
          1569,
          1236,
          7678,
          660,
          2835,
          2670,
          3447,
          3568,
          3652,
          3660,
          1126,
          683,
          2251,
          4675,
          2353,
          3357,
          672,
          338,
          2697,
          2507,
          1478,
          3565,
          2221,
          1898,
          1449,
          960,
          8133,
          2301,
          1743,
          983,
          2320,
          339,
          5152,
          3749,
          3074,
          745,
          1469,
          1374,
          783,
          2606,
          9436,
          930,
          2751,
          250,
          1201,
          662,
          1300,
          1559,
          3016,
          1360,
          1204,
          1597,
          2073,
          2142,
          2132,
          1546,
          1287,
          1418,
          1343,
          2662,
          6070,
          1927,
          2404,
          1554,
          1283,
          717,
          1747,
          1288,
          1038,
          2848,
          1413,
          3077,
          3632,
          3229,
          3577,
          682,
          1924,
          727,
          781,
          2121,
          701,
          2069,
          1525,
          7629,
          3499,
          1346,
          10477,
          2924,
          1231,
          1961,
          5045,
          1255,
          1858,
          1221,
          1388,
          2279,
          2759,
          1258,
          1410,
          1403,
          3021,
          6568,
          2578,
          7758,
          343,
          1591,
          3416,
          1108,
          5965,
          1514,
          6742,
          3650,
          3599,
          13756,
          276,
          4041,
          458,
          918,
          7393,
          1225,
          2812,
          3029,
          1480,
          1047,
          1471,
          5511,
          1206,
          6403,
          707,
          1503,
          6078,
          2528,
          1037,
          1352,
          3181,
          4594,
          5381,
          4657,
          1391,
          1913,
          7166,
          1409,
          2978,
          976,
          2375,
          522,
          2743,
          1154,
          5804,
          1169,
          1478,
          776,
          1322,
          1175,
          2133,
          1829,
          717,
          11760,
          1501,
          1200,
          3195,
          4530,
          1555,
          2326,
          1887,
          1264,
          846,
          1532,
          935,
          2442,
          3590,
          2288,
          5117,
          14179,
          1386,
          618,
          1574,
          700,
          886,
          4686,
          790,
          766,
          2212,
          7308,
          5743,
          3973,
          7418,
          2629,
          1941,
          2333,
          2445,
          6468,
          7374,
          3812,
          4006,
          7472,
          1424,
          2028,
          5324,
          2323,
          1393,
          1984,
          999,
          7409,
          2186,
          4473,
          937,
          3422,
          3105,
          2748,
          3872,
          5190,
          3001,
          3863,
          5801,
          1592,
          1185,
          3780,
          3612,
          1076,
          3527,
          2051,
          3331,
          3104,
          2611,
          1409,
          1311,
          2108,
          4042,
          926,
          1680,
          1249,
          2463,
          1595,
          2058,
          7814,
          1740,
          1240,
          6842,
          5150,
          1203,
          2080,
          1538,
          3878,
          3832,
          3186,
          2896,
          6967,
          1819,
          5943,
          7127,
          3349,
          10974,
          518,
          1126,
          1860,
          9566,
          701,
          2930,
          1505,
          2238,
          1503,
          2197,
          1881,
          1880,
          2389,
          1967,
          3380,
          1455,
          730,
          3244,
          1670,
          3979,
          1922,
          1295,
          1544,
          907,
          1715,
          1347,
          1007,
          1402,
          2002,
          2096,
          1101,
          894,
          1577,
          2764,
          8358,
          1474,
          5433,
          1410,
          3485,
          3850,
          7408,
          1377,
          4272,
          1553,
          9857,
          362,
          1935,
          10222,
          1330,
          9055,
          7966,
          3496,
          6948,
          12204,
          3446,
          684,
          4281,
          7174,
          1546,
          2359,
          3621,
          741,
          7865,
          2910,
          5302,
          3620,
          3509,
          3017,
          1657,
          1164,
          6229,
          1193,
          4583,
          5371,
          708,
          571,
          2522,
          5179,
          8229,
          2028,
          1374,
          1289,
          2712,
          975,
          1050,
          609,
          4788,
          3069,
          836,
          2577,
          1620,
          1845,
          6579,
          1893,
          10623,
          2249,
          3108,
          958,
          9277,
          6314,
          1526,
          3590,
          6615,
          1872,
          2859,
          1582,
          1238,
          2578,
          1433,
          7882,
          4169,
          3959,
          3249,
          3149,
          2246,
          1797,
          4272,
          2957,
          2348,
          6289,
          6419,
          6143,
          1597,
          15857,
          2223,
          7238,
          2503,
          2622,
          4351,
          368,
          754,
          2424,
          6681,
          2427,
          1216,
          753,
          2576,
          590,
          1414,
          1103,
          585,
          1068,
          713,
          1092,
          2329,
          882,
          866,
          2415,
          2101,
          1301,
          1113,
          760,
          625,
          1323,
          1138,
          1795,
          2728,
          484,
          1048,
          1155,
          7057,
          1537,
          2214,
          1585,
          1521,
          3990,
          3049,
          1282,
          10144,
          1168,
          454,
          3594,
          1768,
          15653,
          2247,
          1413,
          4576,
          1231,
          8335,
          5800,
          8471,
          3622,
          1169,
          1262,
          3617,
          2181,
          7685,
          6110,
          3757,
          3394,
          6304,
          1244,
          3518,
          2613,
          7476,
          4591,
          1924,
          5595,
          6224,
          1905,
          2993,
          8947,
          4020,
          2779,
          2782,
          1884,
          11054,
          9157,
          9283,
          6527,
          3368,
          2511,
          5493,
          1338,
          1082,
          1149,
          1308,
          6148,
          1736,
          3059,
          2996,
          7596,
          4811,
          1766,
          2760,
          5507,
          1199,
          2892,
          2862,
          654,
          1136,
          4113,
          14555,
          950,
          1199,
          1082,
          2150,
          2820,
          3060,
          2600,
          5003,
          6288,
          2538,
          1478,
          4933,
          1530,
          1437,
          1275,
          1823,
          1422,
          1217,
          9271,
          2145,
          1842,
          4297,
          3384,
          1245,
          4623,
          8386,
          1024,
          14318,
          433,
          2149,
          2397,
          931,
          1512,
          4241,
          4736,
          1778,
          2327,
          6872,
          795,
          1908,
          1953,
          2864,
          2319,
          915,
          947,
          1381,
          1285,
          1371,
          1042,
          900,
          1207,
          2278,
          6836,
          3345,
          1198,
          15672,
          7297,
          1943,
          3190,
          5129,
          1808,
          1240,
          759,
          1237,
          1980,
          10961,
          6887,
          1938,
          1835,
          1659,
          1209,
          3844,
          4843,
          639,
          5951,
          3804,
          4463,
          7980,
          4210,
          4611,
          11560,
          4165,
          4057,
          6458,
          1386,
          1977,
          1928,
          1123,
          11328,
          11938,
          2520,
          1919,
          14782,
          2671,
          12612,
          3031,
          626,
          1935,
          1344,
          1533,
          3931,
          3349,
          2302,
          3965,
          727,
          3914,
          4308,
          1534,
          2775,
          5998,
          1271,
          1295,
          9398,
          951,
          1355,
          3051,
          7855,
          433,
          9572,
          1837,
          4249,
          5234,
          6758,
          1366,
          1358,
          2473,
          1337,
          7763,
          1264,
          2631,
          6560,
          3123,
          8065,
          2439,
          9034,
          14027,
          9629,
          1484,
          1131,
          2064,
          12976,
          2580,
          2570,
          3915,
          1309,
          4817,
          2579,
          2225,
          4153,
          3114,
          2124,
          1553,
          2406,
          1333,
          7119,
          4870,
          691,
          4370,
          2746,
          4110,
          2462,
          1282,
          2969,
          4605,
          6331,
          3552,
          697,
          1442,
          5293,
          3414,
          2039,
          3161,
          902,
          10297,
          14421,
          1056,
          1274,
          1223,
          1372,
          2625,
          2235,
          959,
          884,
          1246,
          8086,
          10127,
          888,
          719,
          12389,
          709,
          6850,
          2210,
          7485,
          1442,
          797,
          4746,
          939,
          1188,
          11590,
          609,
          1190,
          2767,
          3441,
          4280,
          3092,
          6761,
          1331,
          15945,
          3234,
          802,
          9960,
          8648,
          1345,
          1845,
          1647,
          4844,
          8318,
          2100,
          11816,
          448,
          11998,
          18424,
          14896,
          2762,
          3386,
          2039,
          2169,
          5096,
          1882,
          6999,
          2292,
          8978,
          674,
          976,
          2718,
          750,
          12579,
          7511,
          3966,
          6199,
          1987,
          2303,
          12680,
          6468,
          6350
         ],
         "yaxis": "y",
         "ybingroup": "y"
        }
       ],
       "layout": {
        "legend": {
         "tracegroupgap": 0
        },
        "margin": {
         "t": 60
        },
        "template": {
         "data": {
          "bar": [
           {
            "error_x": {
             "color": "#2a3f5f"
            },
            "error_y": {
             "color": "#2a3f5f"
            },
            "marker": {
             "line": {
              "color": "#E5ECF6",
              "width": 0.5
             },
             "pattern": {
              "fillmode": "overlay",
              "size": 10,
              "solidity": 0.2
             }
            },
            "type": "bar"
           }
          ],
          "barpolar": [
           {
            "marker": {
             "line": {
              "color": "#E5ECF6",
              "width": 0.5
             },
             "pattern": {
              "fillmode": "overlay",
              "size": 10,
              "solidity": 0.2
             }
            },
            "type": "barpolar"
           }
          ],
          "carpet": [
           {
            "aaxis": {
             "endlinecolor": "#2a3f5f",
             "gridcolor": "white",
             "linecolor": "white",
             "minorgridcolor": "white",
             "startlinecolor": "#2a3f5f"
            },
            "baxis": {
             "endlinecolor": "#2a3f5f",
             "gridcolor": "white",
             "linecolor": "white",
             "minorgridcolor": "white",
             "startlinecolor": "#2a3f5f"
            },
            "type": "carpet"
           }
          ],
          "choropleth": [
           {
            "colorbar": {
             "outlinewidth": 0,
             "ticks": ""
            },
            "type": "choropleth"
           }
          ],
          "contour": [
           {
            "colorbar": {
             "outlinewidth": 0,
             "ticks": ""
            },
            "colorscale": [
             [
              0,
              "#0d0887"
             ],
             [
              0.1111111111111111,
              "#46039f"
             ],
             [
              0.2222222222222222,
              "#7201a8"
             ],
             [
              0.3333333333333333,
              "#9c179e"
             ],
             [
              0.4444444444444444,
              "#bd3786"
             ],
             [
              0.5555555555555556,
              "#d8576b"
             ],
             [
              0.6666666666666666,
              "#ed7953"
             ],
             [
              0.7777777777777778,
              "#fb9f3a"
             ],
             [
              0.8888888888888888,
              "#fdca26"
             ],
             [
              1,
              "#f0f921"
             ]
            ],
            "type": "contour"
           }
          ],
          "contourcarpet": [
           {
            "colorbar": {
             "outlinewidth": 0,
             "ticks": ""
            },
            "type": "contourcarpet"
           }
          ],
          "heatmap": [
           {
            "colorbar": {
             "outlinewidth": 0,
             "ticks": ""
            },
            "colorscale": [
             [
              0,
              "#0d0887"
             ],
             [
              0.1111111111111111,
              "#46039f"
             ],
             [
              0.2222222222222222,
              "#7201a8"
             ],
             [
              0.3333333333333333,
              "#9c179e"
             ],
             [
              0.4444444444444444,
              "#bd3786"
             ],
             [
              0.5555555555555556,
              "#d8576b"
             ],
             [
              0.6666666666666666,
              "#ed7953"
             ],
             [
              0.7777777777777778,
              "#fb9f3a"
             ],
             [
              0.8888888888888888,
              "#fdca26"
             ],
             [
              1,
              "#f0f921"
             ]
            ],
            "type": "heatmap"
           }
          ],
          "heatmapgl": [
           {
            "colorbar": {
             "outlinewidth": 0,
             "ticks": ""
            },
            "colorscale": [
             [
              0,
              "#0d0887"
             ],
             [
              0.1111111111111111,
              "#46039f"
             ],
             [
              0.2222222222222222,
              "#7201a8"
             ],
             [
              0.3333333333333333,
              "#9c179e"
             ],
             [
              0.4444444444444444,
              "#bd3786"
             ],
             [
              0.5555555555555556,
              "#d8576b"
             ],
             [
              0.6666666666666666,
              "#ed7953"
             ],
             [
              0.7777777777777778,
              "#fb9f3a"
             ],
             [
              0.8888888888888888,
              "#fdca26"
             ],
             [
              1,
              "#f0f921"
             ]
            ],
            "type": "heatmapgl"
           }
          ],
          "histogram": [
           {
            "marker": {
             "pattern": {
              "fillmode": "overlay",
              "size": 10,
              "solidity": 0.2
             }
            },
            "type": "histogram"
           }
          ],
          "histogram2d": [
           {
            "colorbar": {
             "outlinewidth": 0,
             "ticks": ""
            },
            "colorscale": [
             [
              0,
              "#0d0887"
             ],
             [
              0.1111111111111111,
              "#46039f"
             ],
             [
              0.2222222222222222,
              "#7201a8"
             ],
             [
              0.3333333333333333,
              "#9c179e"
             ],
             [
              0.4444444444444444,
              "#bd3786"
             ],
             [
              0.5555555555555556,
              "#d8576b"
             ],
             [
              0.6666666666666666,
              "#ed7953"
             ],
             [
              0.7777777777777778,
              "#fb9f3a"
             ],
             [
              0.8888888888888888,
              "#fdca26"
             ],
             [
              1,
              "#f0f921"
             ]
            ],
            "type": "histogram2d"
           }
          ],
          "histogram2dcontour": [
           {
            "colorbar": {
             "outlinewidth": 0,
             "ticks": ""
            },
            "colorscale": [
             [
              0,
              "#0d0887"
             ],
             [
              0.1111111111111111,
              "#46039f"
             ],
             [
              0.2222222222222222,
              "#7201a8"
             ],
             [
              0.3333333333333333,
              "#9c179e"
             ],
             [
              0.4444444444444444,
              "#bd3786"
             ],
             [
              0.5555555555555556,
              "#d8576b"
             ],
             [
              0.6666666666666666,
              "#ed7953"
             ],
             [
              0.7777777777777778,
              "#fb9f3a"
             ],
             [
              0.8888888888888888,
              "#fdca26"
             ],
             [
              1,
              "#f0f921"
             ]
            ],
            "type": "histogram2dcontour"
           }
          ],
          "mesh3d": [
           {
            "colorbar": {
             "outlinewidth": 0,
             "ticks": ""
            },
            "type": "mesh3d"
           }
          ],
          "parcoords": [
           {
            "line": {
             "colorbar": {
              "outlinewidth": 0,
              "ticks": ""
             }
            },
            "type": "parcoords"
           }
          ],
          "pie": [
           {
            "automargin": true,
            "type": "pie"
           }
          ],
          "scatter": [
           {
            "fillpattern": {
             "fillmode": "overlay",
             "size": 10,
             "solidity": 0.2
            },
            "type": "scatter"
           }
          ],
          "scatter3d": [
           {
            "line": {
             "colorbar": {
              "outlinewidth": 0,
              "ticks": ""
             }
            },
            "marker": {
             "colorbar": {
              "outlinewidth": 0,
              "ticks": ""
             }
            },
            "type": "scatter3d"
           }
          ],
          "scattercarpet": [
           {
            "marker": {
             "colorbar": {
              "outlinewidth": 0,
              "ticks": ""
             }
            },
            "type": "scattercarpet"
           }
          ],
          "scattergeo": [
           {
            "marker": {
             "colorbar": {
              "outlinewidth": 0,
              "ticks": ""
             }
            },
            "type": "scattergeo"
           }
          ],
          "scattergl": [
           {
            "marker": {
             "colorbar": {
              "outlinewidth": 0,
              "ticks": ""
             }
            },
            "type": "scattergl"
           }
          ],
          "scattermapbox": [
           {
            "marker": {
             "colorbar": {
              "outlinewidth": 0,
              "ticks": ""
             }
            },
            "type": "scattermapbox"
           }
          ],
          "scatterpolar": [
           {
            "marker": {
             "colorbar": {
              "outlinewidth": 0,
              "ticks": ""
             }
            },
            "type": "scatterpolar"
           }
          ],
          "scatterpolargl": [
           {
            "marker": {
             "colorbar": {
              "outlinewidth": 0,
              "ticks": ""
             }
            },
            "type": "scatterpolargl"
           }
          ],
          "scatterternary": [
           {
            "marker": {
             "colorbar": {
              "outlinewidth": 0,
              "ticks": ""
             }
            },
            "type": "scatterternary"
           }
          ],
          "surface": [
           {
            "colorbar": {
             "outlinewidth": 0,
             "ticks": ""
            },
            "colorscale": [
             [
              0,
              "#0d0887"
             ],
             [
              0.1111111111111111,
              "#46039f"
             ],
             [
              0.2222222222222222,
              "#7201a8"
             ],
             [
              0.3333333333333333,
              "#9c179e"
             ],
             [
              0.4444444444444444,
              "#bd3786"
             ],
             [
              0.5555555555555556,
              "#d8576b"
             ],
             [
              0.6666666666666666,
              "#ed7953"
             ],
             [
              0.7777777777777778,
              "#fb9f3a"
             ],
             [
              0.8888888888888888,
              "#fdca26"
             ],
             [
              1,
              "#f0f921"
             ]
            ],
            "type": "surface"
           }
          ],
          "table": [
           {
            "cells": {
             "fill": {
              "color": "#EBF0F8"
             },
             "line": {
              "color": "white"
             }
            },
            "header": {
             "fill": {
              "color": "#C8D4E3"
             },
             "line": {
              "color": "white"
             }
            },
            "type": "table"
           }
          ]
         },
         "layout": {
          "annotationdefaults": {
           "arrowcolor": "#2a3f5f",
           "arrowhead": 0,
           "arrowwidth": 1
          },
          "autotypenumbers": "strict",
          "coloraxis": {
           "colorbar": {
            "outlinewidth": 0,
            "ticks": ""
           }
          },
          "colorscale": {
           "diverging": [
            [
             0,
             "#8e0152"
            ],
            [
             0.1,
             "#c51b7d"
            ],
            [
             0.2,
             "#de77ae"
            ],
            [
             0.3,
             "#f1b6da"
            ],
            [
             0.4,
             "#fde0ef"
            ],
            [
             0.5,
             "#f7f7f7"
            ],
            [
             0.6,
             "#e6f5d0"
            ],
            [
             0.7,
             "#b8e186"
            ],
            [
             0.8,
             "#7fbc41"
            ],
            [
             0.9,
             "#4d9221"
            ],
            [
             1,
             "#276419"
            ]
           ],
           "sequential": [
            [
             0,
             "#0d0887"
            ],
            [
             0.1111111111111111,
             "#46039f"
            ],
            [
             0.2222222222222222,
             "#7201a8"
            ],
            [
             0.3333333333333333,
             "#9c179e"
            ],
            [
             0.4444444444444444,
             "#bd3786"
            ],
            [
             0.5555555555555556,
             "#d8576b"
            ],
            [
             0.6666666666666666,
             "#ed7953"
            ],
            [
             0.7777777777777778,
             "#fb9f3a"
            ],
            [
             0.8888888888888888,
             "#fdca26"
            ],
            [
             1,
             "#f0f921"
            ]
           ],
           "sequentialminus": [
            [
             0,
             "#0d0887"
            ],
            [
             0.1111111111111111,
             "#46039f"
            ],
            [
             0.2222222222222222,
             "#7201a8"
            ],
            [
             0.3333333333333333,
             "#9c179e"
            ],
            [
             0.4444444444444444,
             "#bd3786"
            ],
            [
             0.5555555555555556,
             "#d8576b"
            ],
            [
             0.6666666666666666,
             "#ed7953"
            ],
            [
             0.7777777777777778,
             "#fb9f3a"
            ],
            [
             0.8888888888888888,
             "#fdca26"
            ],
            [
             1,
             "#f0f921"
            ]
           ]
          },
          "colorway": [
           "#636efa",
           "#EF553B",
           "#00cc96",
           "#ab63fa",
           "#FFA15A",
           "#19d3f3",
           "#FF6692",
           "#B6E880",
           "#FF97FF",
           "#FECB52"
          ],
          "font": {
           "color": "#2a3f5f"
          },
          "geo": {
           "bgcolor": "white",
           "lakecolor": "white",
           "landcolor": "#E5ECF6",
           "showlakes": true,
           "showland": true,
           "subunitcolor": "white"
          },
          "hoverlabel": {
           "align": "left"
          },
          "hovermode": "closest",
          "mapbox": {
           "style": "light"
          },
          "paper_bgcolor": "white",
          "plot_bgcolor": "#E5ECF6",
          "polar": {
           "angularaxis": {
            "gridcolor": "white",
            "linecolor": "white",
            "ticks": ""
           },
           "bgcolor": "#E5ECF6",
           "radialaxis": {
            "gridcolor": "white",
            "linecolor": "white",
            "ticks": ""
           }
          },
          "scene": {
           "xaxis": {
            "backgroundcolor": "#E5ECF6",
            "gridcolor": "white",
            "gridwidth": 2,
            "linecolor": "white",
            "showbackground": true,
            "ticks": "",
            "zerolinecolor": "white"
           },
           "yaxis": {
            "backgroundcolor": "#E5ECF6",
            "gridcolor": "white",
            "gridwidth": 2,
            "linecolor": "white",
            "showbackground": true,
            "ticks": "",
            "zerolinecolor": "white"
           },
           "zaxis": {
            "backgroundcolor": "#E5ECF6",
            "gridcolor": "white",
            "gridwidth": 2,
            "linecolor": "white",
            "showbackground": true,
            "ticks": "",
            "zerolinecolor": "white"
           }
          },
          "shapedefaults": {
           "line": {
            "color": "#2a3f5f"
           }
          },
          "ternary": {
           "aaxis": {
            "gridcolor": "white",
            "linecolor": "white",
            "ticks": ""
           },
           "baxis": {
            "gridcolor": "white",
            "linecolor": "white",
            "ticks": ""
           },
           "bgcolor": "#E5ECF6",
           "caxis": {
            "gridcolor": "white",
            "linecolor": "white",
            "ticks": ""
           }
          },
          "title": {
           "x": 0.05
          },
          "xaxis": {
           "automargin": true,
           "gridcolor": "white",
           "linecolor": "white",
           "ticks": "",
           "title": {
            "standoff": 15
           },
           "zerolinecolor": "white",
           "zerolinewidth": 2
          },
          "yaxis": {
           "automargin": true,
           "gridcolor": "white",
           "linecolor": "white",
           "ticks": "",
           "title": {
            "standoff": 15
           },
           "zerolinecolor": "white",
           "zerolinewidth": 2
          }
         }
        },
        "xaxis": {
         "anchor": "y",
         "domain": [
          0,
          1
         ],
         "title": {
          "text": "Duration of Credit (month)"
         }
        },
        "yaxis": {
         "anchor": "x",
         "domain": [
          0,
          1
         ],
         "title": {
          "text": "Credit Amount"
         }
        }
       }
      },
      "text/html": [
       "<div>                            <div id=\"ab006f0e-6984-438b-9d4e-9981d338dab1\" class=\"plotly-graph-div\" style=\"height:525px; width:100%;\"></div>            <script type=\"text/javascript\">                require([\"plotly\"], function(Plotly) {                    window.PLOTLYENV=window.PLOTLYENV || {};                                    if (document.getElementById(\"ab006f0e-6984-438b-9d4e-9981d338dab1\")) {                    Plotly.newPlot(                        \"ab006f0e-6984-438b-9d4e-9981d338dab1\",                        [{\"contours\":{\"coloring\":\"fill\",\"showlabels\":true},\"hovertemplate\":\"Duration of Credit (month)=%{x}<br>Credit Amount=%{y}<br>count=%{z}<extra></extra>\",\"legendgroup\":\"\",\"line\":{\"color\":\"#636efa\"},\"name\":\"\",\"showlegend\":false,\"x\":[18,9,12,12,12,10,8,6,18,24,11,30,6,48,18,6,11,18,36,11,6,12,36,12,6,11,12,9,15,42,30,36,36,24,15,6,12,12,18,24,12,24,18,24,18,18,24,18,24,24,12,36,9,12,24,12,12,15,21,36,12,24,48,36,12,6,12,24,12,24,21,30,36,24,12,9,21,24,21,15,24,36,18,15,15,12,24,36,6,24,12,30,30,9,18,27,12,36,9,42,24,15,24,36,24,24,12,18,24,12,15,6,12,12,21,18,9,24,9,24,36,36,6,15,15,24,15,6,18,24,24,18,6,18,10,6,12,24,6,24,36,9,24,9,36,21,24,12,12,24,12,12,48,24,12,24,12,30,48,12,12,24,24,15,15,9,30,24,15,6,36,12,12,24,12,24,24,12,18,48,9,18,30,30,9,36,12,24,36,21,24,36,48,24,12,33,6,18,12,48,30,28,18,24,21,18,12,15,48,9,4,24,24,6,9,10,10,6,47,10,18,30,24,27,18,24,18,14,21,48,24,6,39,30,12,24,21,24,4,39,15,60,18,18,6,24,18,24,15,21,18,18,12,36,36,15,15,10,10,5,15,11,10,9,12,22,9,36,12,15,6,36,6,24,24,12,15,21,24,9,6,12,12,21,21,6,6,9,9,15,12,15,6,6,15,36,9,6,12,18,12,24,24,9,9,24,6,6,21,54,12,48,6,24,6,15,24,12,15,6,10,12,11,10,10,24,10,6,18,18,24,18,6,22,24,24,9,10,10,12,30,24,18,9,12,10,10,10,12,12,10,24,48,12,6,36,24,10,18,15,12,12,6,9,12,12,24,12,15,24,24,24,24,6,21,27,12,27,15,30,18,21,60,9,42,9,9,24,10,24,15,12,6,15,24,9,24,12,12,12,27,12,6,24,18,48,15,9,18,42,13,24,12,24,12,28,11,24,18,15,12,11,16,12,15,12,39,9,12,9,30,12,15,18,12,7,15,6,27,18,21,27,39,15,12,12,6,12,36,9,12,20,10,24,14,60,20,18,24,12,20,18,15,28,12,12,12,15,36,12,18,24,36,15,36,24,18,24,12,18,27,18,24,12,12,12,18,18,12,12,18,12,18,24,12,24,6,24,12,12,24,24,6,24,24,6,12,24,24,6,6,6,24,30,15,24,24,36,24,36,36,36,6,18,12,36,12,12,18,18,4,24,12,18,18,24,4,4,7,18,9,48,12,18,4,8,30,10,12,12,12,12,12,10,11,33,48,12,24,14,20,18,60,24,30,24,36,6,12,48,12,36,26,30,36,48,36,12,33,42,24,24,24,12,12,24,18,36,18,12,12,8,36,24,30,36,12,21,30,36,36,24,6,12,36,15,6,6,48,24,12,12,12,15,24,12,30,18,30,12,24,24,12,12,24,6,12,18,6,12,15,42,24,36,36,24,12,13,20,24,36,42,24,48,24,36,24,48,30,18,24,6,12,24,48,18,24,6,7,6,8,12,12,6,8,12,7,13,18,7,13,18,18,8,12,6,9,18,15,6,10,12,20,15,12,24,10,36,18,24,60,12,6,15,12,60,12,24,45,24,36,36,18,30,6,15,24,30,48,48,24,42,36,9,6,36,48,24,18,72,48,15,21,36,24,18,21,12,36,60,42,60,15,15,36,6,9,18,15,20,12,12,24,30,30,6,24,24,9,24,36,9,9,24,6,15,24,12,30,36,48,18,21,60,24,9,39,18,9,15,24,9,18,36,36,36,18,6,18,15,30,24,36,6,12,24,6,15,24,24,15,15,24,12,30,36,18,21,24,24,24,24,24,18,12,24,18,60,24,6,48,60,18,18,9,18,10,12,8,9,48,36,24,21,24,6,48,12,12,48,36,36,36,36,6,24,18,24,18,12,36,18,12,24,24,27,30,60,36,36,45,12,24,24,18,48,24,36,42,12,48,48,12,18,40,15,12,36,12,24,48,36,18,36,24,30,30,48,9,24,18,9,48,15,15,48,24,36,24,36,60,36,12,18,24,18,21,27,27,10,24,12,36,18,18,18,18,30,24,48,24,12,42,36,24,18,12,12,48,48,24,12,24,27,21,18,24,12,48,48,18,12,12,12,16,20,9,18,24,36,48,12,12,36,12,15,10,30,18,12,45,12,21,48,12,18,21,30,30,24,18,12,54,24,15,48,24,18,45,21,48,27,18,45,6,30,48,6,12,12,24,18,48,18,48,12,14,12,18,24,18,24,18,18,12,24,24,21,12,30],\"xaxis\":\"x\",\"xbingroup\":\"x\",\"y\":[1049,2799,841,2122,2171,2241,3398,1361,1098,3758,3905,6187,1957,7582,1936,2647,3939,3213,2337,7228,3676,3124,2384,1424,4716,4771,652,1154,3556,4796,3017,3535,6614,1376,1721,860,1495,1934,3378,3868,996,1755,1028,2825,1239,1216,1258,1864,1474,1382,640,3919,1224,2331,6313,385,1655,1053,3160,3079,1163,2679,3578,10875,1344,1237,3077,2284,1567,2032,2745,1867,2299,929,3399,2030,3275,1940,1602,1979,2022,3342,5866,2360,1520,3651,2346,4454,666,1965,1995,2991,4221,1364,6361,4526,3573,4455,2136,5954,3777,806,4712,7432,1851,1393,1412,1473,1533,2012,3959,428,2366,763,3976,6260,1919,2603,936,3062,4795,5842,2063,1459,1213,5103,874,2978,1820,2872,1925,2515,2116,1453,1364,1543,1318,2325,932,3148,3835,3832,5084,2406,2394,2476,2964,1262,1542,1743,409,2171,8858,3512,1158,2684,1498,5954,6416,3617,1291,1275,3972,3343,392,2134,5771,4526,2788,1382,5848,1228,1297,1552,1963,3235,4139,1804,1950,12749,1236,1055,8072,2831,1449,5742,2390,3430,2273,2923,1901,3711,8487,2255,1262,7253,6761,1817,2141,3609,2333,7824,1445,7721,3763,4439,1107,1444,12169,2753,1494,2828,2483,1299,1549,3949,2901,709,10722,1287,1940,3656,4679,8613,2659,1516,4380,802,1572,3566,1278,426,8588,3857,685,1603,2241,2384,601,2569,1316,10366,1568,629,1750,3488,1800,4151,2631,5248,2899,6204,804,3595,5711,2687,3643,2146,2315,3448,2708,1393,1275,1313,1493,2675,2118,909,1258,1569,1236,7678,660,2835,2670,3447,3568,3652,3660,1126,683,2251,4675,2353,3357,672,338,2697,2507,1478,3565,2221,1898,1449,960,8133,2301,1743,983,2320,339,5152,3749,3074,745,1469,1374,783,2606,9436,930,2751,250,1201,662,1300,1559,3016,1360,1204,1597,2073,2142,2132,1546,1287,1418,1343,2662,6070,1927,2404,1554,1283,717,1747,1288,1038,2848,1413,3077,3632,3229,3577,682,1924,727,781,2121,701,2069,1525,7629,3499,1346,10477,2924,1231,1961,5045,1255,1858,1221,1388,2279,2759,1258,1410,1403,3021,6568,2578,7758,343,1591,3416,1108,5965,1514,6742,3650,3599,13756,276,4041,458,918,7393,1225,2812,3029,1480,1047,1471,5511,1206,6403,707,1503,6078,2528,1037,1352,3181,4594,5381,4657,1391,1913,7166,1409,2978,976,2375,522,2743,1154,5804,1169,1478,776,1322,1175,2133,1829,717,11760,1501,1200,3195,4530,1555,2326,1887,1264,846,1532,935,2442,3590,2288,5117,14179,1386,618,1574,700,886,4686,790,766,2212,7308,5743,3973,7418,2629,1941,2333,2445,6468,7374,3812,4006,7472,1424,2028,5324,2323,1393,1984,999,7409,2186,4473,937,3422,3105,2748,3872,5190,3001,3863,5801,1592,1185,3780,3612,1076,3527,2051,3331,3104,2611,1409,1311,2108,4042,926,1680,1249,2463,1595,2058,7814,1740,1240,6842,5150,1203,2080,1538,3878,3832,3186,2896,6967,1819,5943,7127,3349,10974,518,1126,1860,9566,701,2930,1505,2238,1503,2197,1881,1880,2389,1967,3380,1455,730,3244,1670,3979,1922,1295,1544,907,1715,1347,1007,1402,2002,2096,1101,894,1577,2764,8358,1474,5433,1410,3485,3850,7408,1377,4272,1553,9857,362,1935,10222,1330,9055,7966,3496,6948,12204,3446,684,4281,7174,1546,2359,3621,741,7865,2910,5302,3620,3509,3017,1657,1164,6229,1193,4583,5371,708,571,2522,5179,8229,2028,1374,1289,2712,975,1050,609,4788,3069,836,2577,1620,1845,6579,1893,10623,2249,3108,958,9277,6314,1526,3590,6615,1872,2859,1582,1238,2578,1433,7882,4169,3959,3249,3149,2246,1797,4272,2957,2348,6289,6419,6143,1597,15857,2223,7238,2503,2622,4351,368,754,2424,6681,2427,1216,753,2576,590,1414,1103,585,1068,713,1092,2329,882,866,2415,2101,1301,1113,760,625,1323,1138,1795,2728,484,1048,1155,7057,1537,2214,1585,1521,3990,3049,1282,10144,1168,454,3594,1768,15653,2247,1413,4576,1231,8335,5800,8471,3622,1169,1262,3617,2181,7685,6110,3757,3394,6304,1244,3518,2613,7476,4591,1924,5595,6224,1905,2993,8947,4020,2779,2782,1884,11054,9157,9283,6527,3368,2511,5493,1338,1082,1149,1308,6148,1736,3059,2996,7596,4811,1766,2760,5507,1199,2892,2862,654,1136,4113,14555,950,1199,1082,2150,2820,3060,2600,5003,6288,2538,1478,4933,1530,1437,1275,1823,1422,1217,9271,2145,1842,4297,3384,1245,4623,8386,1024,14318,433,2149,2397,931,1512,4241,4736,1778,2327,6872,795,1908,1953,2864,2319,915,947,1381,1285,1371,1042,900,1207,2278,6836,3345,1198,15672,7297,1943,3190,5129,1808,1240,759,1237,1980,10961,6887,1938,1835,1659,1209,3844,4843,639,5951,3804,4463,7980,4210,4611,11560,4165,4057,6458,1386,1977,1928,1123,11328,11938,2520,1919,14782,2671,12612,3031,626,1935,1344,1533,3931,3349,2302,3965,727,3914,4308,1534,2775,5998,1271,1295,9398,951,1355,3051,7855,433,9572,1837,4249,5234,6758,1366,1358,2473,1337,7763,1264,2631,6560,3123,8065,2439,9034,14027,9629,1484,1131,2064,12976,2580,2570,3915,1309,4817,2579,2225,4153,3114,2124,1553,2406,1333,7119,4870,691,4370,2746,4110,2462,1282,2969,4605,6331,3552,697,1442,5293,3414,2039,3161,902,10297,14421,1056,1274,1223,1372,2625,2235,959,884,1246,8086,10127,888,719,12389,709,6850,2210,7485,1442,797,4746,939,1188,11590,609,1190,2767,3441,4280,3092,6761,1331,15945,3234,802,9960,8648,1345,1845,1647,4844,8318,2100,11816,448,11998,18424,14896,2762,3386,2039,2169,5096,1882,6999,2292,8978,674,976,2718,750,12579,7511,3966,6199,1987,2303,12680,6468,6350],\"yaxis\":\"y\",\"ybingroup\":\"y\",\"type\":\"histogram2dcontour\"}],                        {\"template\":{\"data\":{\"histogram2dcontour\":[{\"type\":\"histogram2dcontour\",\"colorbar\":{\"outlinewidth\":0,\"ticks\":\"\"},\"colorscale\":[[0.0,\"#0d0887\"],[0.1111111111111111,\"#46039f\"],[0.2222222222222222,\"#7201a8\"],[0.3333333333333333,\"#9c179e\"],[0.4444444444444444,\"#bd3786\"],[0.5555555555555556,\"#d8576b\"],[0.6666666666666666,\"#ed7953\"],[0.7777777777777778,\"#fb9f3a\"],[0.8888888888888888,\"#fdca26\"],[1.0,\"#f0f921\"]]}],\"choropleth\":[{\"type\":\"choropleth\",\"colorbar\":{\"outlinewidth\":0,\"ticks\":\"\"}}],\"histogram2d\":[{\"type\":\"histogram2d\",\"colorbar\":{\"outlinewidth\":0,\"ticks\":\"\"},\"colorscale\":[[0.0,\"#0d0887\"],[0.1111111111111111,\"#46039f\"],[0.2222222222222222,\"#7201a8\"],[0.3333333333333333,\"#9c179e\"],[0.4444444444444444,\"#bd3786\"],[0.5555555555555556,\"#d8576b\"],[0.6666666666666666,\"#ed7953\"],[0.7777777777777778,\"#fb9f3a\"],[0.8888888888888888,\"#fdca26\"],[1.0,\"#f0f921\"]]}],\"heatmap\":[{\"type\":\"heatmap\",\"colorbar\":{\"outlinewidth\":0,\"ticks\":\"\"},\"colorscale\":[[0.0,\"#0d0887\"],[0.1111111111111111,\"#46039f\"],[0.2222222222222222,\"#7201a8\"],[0.3333333333333333,\"#9c179e\"],[0.4444444444444444,\"#bd3786\"],[0.5555555555555556,\"#d8576b\"],[0.6666666666666666,\"#ed7953\"],[0.7777777777777778,\"#fb9f3a\"],[0.8888888888888888,\"#fdca26\"],[1.0,\"#f0f921\"]]}],\"heatmapgl\":[{\"type\":\"heatmapgl\",\"colorbar\":{\"outlinewidth\":0,\"ticks\":\"\"},\"colorscale\":[[0.0,\"#0d0887\"],[0.1111111111111111,\"#46039f\"],[0.2222222222222222,\"#7201a8\"],[0.3333333333333333,\"#9c179e\"],[0.4444444444444444,\"#bd3786\"],[0.5555555555555556,\"#d8576b\"],[0.6666666666666666,\"#ed7953\"],[0.7777777777777778,\"#fb9f3a\"],[0.8888888888888888,\"#fdca26\"],[1.0,\"#f0f921\"]]}],\"contourcarpet\":[{\"type\":\"contourcarpet\",\"colorbar\":{\"outlinewidth\":0,\"ticks\":\"\"}}],\"contour\":[{\"type\":\"contour\",\"colorbar\":{\"outlinewidth\":0,\"ticks\":\"\"},\"colorscale\":[[0.0,\"#0d0887\"],[0.1111111111111111,\"#46039f\"],[0.2222222222222222,\"#7201a8\"],[0.3333333333333333,\"#9c179e\"],[0.4444444444444444,\"#bd3786\"],[0.5555555555555556,\"#d8576b\"],[0.6666666666666666,\"#ed7953\"],[0.7777777777777778,\"#fb9f3a\"],[0.8888888888888888,\"#fdca26\"],[1.0,\"#f0f921\"]]}],\"surface\":[{\"type\":\"surface\",\"colorbar\":{\"outlinewidth\":0,\"ticks\":\"\"},\"colorscale\":[[0.0,\"#0d0887\"],[0.1111111111111111,\"#46039f\"],[0.2222222222222222,\"#7201a8\"],[0.3333333333333333,\"#9c179e\"],[0.4444444444444444,\"#bd3786\"],[0.5555555555555556,\"#d8576b\"],[0.6666666666666666,\"#ed7953\"],[0.7777777777777778,\"#fb9f3a\"],[0.8888888888888888,\"#fdca26\"],[1.0,\"#f0f921\"]]}],\"mesh3d\":[{\"type\":\"mesh3d\",\"colorbar\":{\"outlinewidth\":0,\"ticks\":\"\"}}],\"scatter\":[{\"fillpattern\":{\"fillmode\":\"overlay\",\"size\":10,\"solidity\":0.2},\"type\":\"scatter\"}],\"parcoords\":[{\"type\":\"parcoords\",\"line\":{\"colorbar\":{\"outlinewidth\":0,\"ticks\":\"\"}}}],\"scatterpolargl\":[{\"type\":\"scatterpolargl\",\"marker\":{\"colorbar\":{\"outlinewidth\":0,\"ticks\":\"\"}}}],\"bar\":[{\"error_x\":{\"color\":\"#2a3f5f\"},\"error_y\":{\"color\":\"#2a3f5f\"},\"marker\":{\"line\":{\"color\":\"#E5ECF6\",\"width\":0.5},\"pattern\":{\"fillmode\":\"overlay\",\"size\":10,\"solidity\":0.2}},\"type\":\"bar\"}],\"scattergeo\":[{\"type\":\"scattergeo\",\"marker\":{\"colorbar\":{\"outlinewidth\":0,\"ticks\":\"\"}}}],\"scatterpolar\":[{\"type\":\"scatterpolar\",\"marker\":{\"colorbar\":{\"outlinewidth\":0,\"ticks\":\"\"}}}],\"histogram\":[{\"marker\":{\"pattern\":{\"fillmode\":\"overlay\",\"size\":10,\"solidity\":0.2}},\"type\":\"histogram\"}],\"scattergl\":[{\"type\":\"scattergl\",\"marker\":{\"colorbar\":{\"outlinewidth\":0,\"ticks\":\"\"}}}],\"scatter3d\":[{\"type\":\"scatter3d\",\"line\":{\"colorbar\":{\"outlinewidth\":0,\"ticks\":\"\"}},\"marker\":{\"colorbar\":{\"outlinewidth\":0,\"ticks\":\"\"}}}],\"scattermapbox\":[{\"type\":\"scattermapbox\",\"marker\":{\"colorbar\":{\"outlinewidth\":0,\"ticks\":\"\"}}}],\"scatterternary\":[{\"type\":\"scatterternary\",\"marker\":{\"colorbar\":{\"outlinewidth\":0,\"ticks\":\"\"}}}],\"scattercarpet\":[{\"type\":\"scattercarpet\",\"marker\":{\"colorbar\":{\"outlinewidth\":0,\"ticks\":\"\"}}}],\"carpet\":[{\"aaxis\":{\"endlinecolor\":\"#2a3f5f\",\"gridcolor\":\"white\",\"linecolor\":\"white\",\"minorgridcolor\":\"white\",\"startlinecolor\":\"#2a3f5f\"},\"baxis\":{\"endlinecolor\":\"#2a3f5f\",\"gridcolor\":\"white\",\"linecolor\":\"white\",\"minorgridcolor\":\"white\",\"startlinecolor\":\"#2a3f5f\"},\"type\":\"carpet\"}],\"table\":[{\"cells\":{\"fill\":{\"color\":\"#EBF0F8\"},\"line\":{\"color\":\"white\"}},\"header\":{\"fill\":{\"color\":\"#C8D4E3\"},\"line\":{\"color\":\"white\"}},\"type\":\"table\"}],\"barpolar\":[{\"marker\":{\"line\":{\"color\":\"#E5ECF6\",\"width\":0.5},\"pattern\":{\"fillmode\":\"overlay\",\"size\":10,\"solidity\":0.2}},\"type\":\"barpolar\"}],\"pie\":[{\"automargin\":true,\"type\":\"pie\"}]},\"layout\":{\"autotypenumbers\":\"strict\",\"colorway\":[\"#636efa\",\"#EF553B\",\"#00cc96\",\"#ab63fa\",\"#FFA15A\",\"#19d3f3\",\"#FF6692\",\"#B6E880\",\"#FF97FF\",\"#FECB52\"],\"font\":{\"color\":\"#2a3f5f\"},\"hovermode\":\"closest\",\"hoverlabel\":{\"align\":\"left\"},\"paper_bgcolor\":\"white\",\"plot_bgcolor\":\"#E5ECF6\",\"polar\":{\"bgcolor\":\"#E5ECF6\",\"angularaxis\":{\"gridcolor\":\"white\",\"linecolor\":\"white\",\"ticks\":\"\"},\"radialaxis\":{\"gridcolor\":\"white\",\"linecolor\":\"white\",\"ticks\":\"\"}},\"ternary\":{\"bgcolor\":\"#E5ECF6\",\"aaxis\":{\"gridcolor\":\"white\",\"linecolor\":\"white\",\"ticks\":\"\"},\"baxis\":{\"gridcolor\":\"white\",\"linecolor\":\"white\",\"ticks\":\"\"},\"caxis\":{\"gridcolor\":\"white\",\"linecolor\":\"white\",\"ticks\":\"\"}},\"coloraxis\":{\"colorbar\":{\"outlinewidth\":0,\"ticks\":\"\"}},\"colorscale\":{\"sequential\":[[0.0,\"#0d0887\"],[0.1111111111111111,\"#46039f\"],[0.2222222222222222,\"#7201a8\"],[0.3333333333333333,\"#9c179e\"],[0.4444444444444444,\"#bd3786\"],[0.5555555555555556,\"#d8576b\"],[0.6666666666666666,\"#ed7953\"],[0.7777777777777778,\"#fb9f3a\"],[0.8888888888888888,\"#fdca26\"],[1.0,\"#f0f921\"]],\"sequentialminus\":[[0.0,\"#0d0887\"],[0.1111111111111111,\"#46039f\"],[0.2222222222222222,\"#7201a8\"],[0.3333333333333333,\"#9c179e\"],[0.4444444444444444,\"#bd3786\"],[0.5555555555555556,\"#d8576b\"],[0.6666666666666666,\"#ed7953\"],[0.7777777777777778,\"#fb9f3a\"],[0.8888888888888888,\"#fdca26\"],[1.0,\"#f0f921\"]],\"diverging\":[[0,\"#8e0152\"],[0.1,\"#c51b7d\"],[0.2,\"#de77ae\"],[0.3,\"#f1b6da\"],[0.4,\"#fde0ef\"],[0.5,\"#f7f7f7\"],[0.6,\"#e6f5d0\"],[0.7,\"#b8e186\"],[0.8,\"#7fbc41\"],[0.9,\"#4d9221\"],[1,\"#276419\"]]},\"xaxis\":{\"gridcolor\":\"white\",\"linecolor\":\"white\",\"ticks\":\"\",\"title\":{\"standoff\":15},\"zerolinecolor\":\"white\",\"automargin\":true,\"zerolinewidth\":2},\"yaxis\":{\"gridcolor\":\"white\",\"linecolor\":\"white\",\"ticks\":\"\",\"title\":{\"standoff\":15},\"zerolinecolor\":\"white\",\"automargin\":true,\"zerolinewidth\":2},\"scene\":{\"xaxis\":{\"backgroundcolor\":\"#E5ECF6\",\"gridcolor\":\"white\",\"linecolor\":\"white\",\"showbackground\":true,\"ticks\":\"\",\"zerolinecolor\":\"white\",\"gridwidth\":2},\"yaxis\":{\"backgroundcolor\":\"#E5ECF6\",\"gridcolor\":\"white\",\"linecolor\":\"white\",\"showbackground\":true,\"ticks\":\"\",\"zerolinecolor\":\"white\",\"gridwidth\":2},\"zaxis\":{\"backgroundcolor\":\"#E5ECF6\",\"gridcolor\":\"white\",\"linecolor\":\"white\",\"showbackground\":true,\"ticks\":\"\",\"zerolinecolor\":\"white\",\"gridwidth\":2}},\"shapedefaults\":{\"line\":{\"color\":\"#2a3f5f\"}},\"annotationdefaults\":{\"arrowcolor\":\"#2a3f5f\",\"arrowhead\":0,\"arrowwidth\":1},\"geo\":{\"bgcolor\":\"white\",\"landcolor\":\"#E5ECF6\",\"subunitcolor\":\"white\",\"showland\":true,\"showlakes\":true,\"lakecolor\":\"white\"},\"title\":{\"x\":0.05},\"mapbox\":{\"style\":\"light\"}}},\"xaxis\":{\"anchor\":\"y\",\"domain\":[0.0,1.0],\"title\":{\"text\":\"Duration of Credit (month)\"}},\"yaxis\":{\"anchor\":\"x\",\"domain\":[0.0,1.0],\"title\":{\"text\":\"Credit Amount\"}},\"legend\":{\"tracegroupgap\":0},\"margin\":{\"t\":60}},                        {\"responsive\": true}                    ).then(function(){\n",
       "                            \n",
       "var gd = document.getElementById('ab006f0e-6984-438b-9d4e-9981d338dab1');\n",
       "var x = new MutationObserver(function (mutations, observer) {{\n",
       "        var display = window.getComputedStyle(gd).display;\n",
       "        if (!display || display === 'none') {{\n",
       "            console.log([gd, 'removed!']);\n",
       "            Plotly.purge(gd);\n",
       "            observer.disconnect();\n",
       "        }}\n",
       "}});\n",
       "\n",
       "// Listen for the removal of the full notebook cells\n",
       "var notebookContainer = gd.closest('#notebook-container');\n",
       "if (notebookContainer) {{\n",
       "    x.observe(notebookContainer, {childList: true});\n",
       "}}\n",
       "\n",
       "// Listen for the clearing of the current output cell\n",
       "var outputEl = gd.closest('.output');\n",
       "if (outputEl) {{\n",
       "    x.observe(outputEl, {childList: true});\n",
       "}}\n",
       "\n",
       "                        })                };                });            </script>        </div>"
      ]
     },
     "metadata": {},
     "output_type": "display_data"
    }
   ],
   "source": [
    "fig = px.density_contour(df_risk_credit, x='Duration of Credit (month)', y='Credit Amount')\n",
    "fig.update_traces(contours_coloring=\"fill\", contours_showlabels = True)\n",
    "fig.show()"
   ]
  },
  {
   "cell_type": "code",
   "execution_count": 45,
   "id": "d0e480e8",
   "metadata": {},
   "outputs": [
    {
     "data": {
      "image/png": "[encoded data removed]",
      "text/plain": [
       "<Figure size 432x432 with 3 Axes>"
      ]
     },
     "metadata": {
      "needs_background": "light"
     },
     "output_type": "display_data"
    }
   ],
   "source": [
    "sns.jointplot(x=df_risk_credit['Duration of Credit (month)'], y=df_risk_credit['Credit Amount'], kind='reg');"
   ]
  },
  {
   "cell_type": "code",
   "execution_count": 48,
   "id": "3f9a0c69",
   "metadata": {},
   "outputs": [
    {
     "data": {
      "application/vnd.plotly.v1+json": {
       "config": {
        "plotlyServerURL": "https://plot.ly"
       },
       "data": [
        {
         "contours": {
          "coloring": "fill",
          "showlabels": true
         },
         "hovertemplate": "Age (years)=%{x}<br>Credit Amount=%{y}<br>count=%{z}<extra></extra>",
         "legendgroup": "",
         "line": {
          "color": "#636efa"
         },
         "name": "",
         "showlegend": false,
         "type": "histogram2dcontour",
         "x": [
          21,
          36,
          23,
          39,
          38,
          48,
          39,
          40,
          65,
          23,
          36,
          24,
          31,
          31,
          23,
          44,
          40,
          25,
          36,
          39,
          37,
          49,
          33,
          26,
          44,
          51,
          24,
          37,
          29,
          56,
          47,
          37,
          34,
          28,
          36,
          39,
          38,
          26,
          31,
          41,
          23,
          58,
          36,
          34,
          61,
          23,
          25,
          30,
          33,
          26,
          49,
          23,
          30,
          49,
          41,
          58,
          63,
          27,
          41,
          36,
          44,
          29,
          47,
          45,
          43,
          27,
          52,
          28,
          22,
          60,
          32,
          58,
          39,
          31,
          37,
          24,
          36,
          60,
          30,
          35,
          37,
          51,
          30,
          36,
          63,
          31,
          35,
          34,
          39,
          42,
          27,
          25,
          28,
          59,
          41,
          32,
          23,
          30,
          25,
          41,
          40,
          22,
          34,
          54,
          33,
          31,
          29,
          39,
          38,
          61,
          29,
          49,
          36,
          26,
          35,
          28,
          35,
          28,
          52,
          32,
          30,
          35,
          30,
          43,
          47,
          47,
          24,
          32,
          30,
          36,
          26,
          43,
          41,
          26,
          64,
          33,
          54,
          32,
          39,
          31,
          45,
          64,
          42,
          31,
          25,
          46,
          49,
          49,
          36,
          48,
          42,
          29,
          35,
          38,
          26,
          35,
          23,
          38,
          59,
          28,
          35,
          36,
          25,
          28,
          23,
          48,
          25,
          74,
          24,
          28,
          24,
          24,
          23,
          32,
          31,
          36,
          27,
          44,
          34,
          37,
          23,
          30,
          25,
          33,
          27,
          31,
          50,
          31,
          32,
          28,
          29,
          27,
          24,
          54,
          25,
          35,
          45,
          28,
          35,
          27,
          30,
          40,
          49,
          30,
          24,
          33,
          20,
          23,
          36,
          35,
          29,
          22,
          22,
          74,
          35,
          37,
          31,
          27,
          35,
          45,
          36,
          49,
          35,
          27,
          28,
          43,
          35,
          27,
          36,
          30,
          36,
          39,
          45,
          40,
          25,
          55,
          50,
          64,
          23,
          24,
          47,
          42,
          24,
          32,
          45,
          23,
          24,
          35,
          25,
          26,
          43,
          44,
          38,
          28,
          38,
          26,
          27,
          23,
          52,
          74,
          27,
          35,
          23,
          20,
          34,
          40,
          37,
          36,
          22,
          34,
          50,
          40,
          23,
          53,
          35,
          35,
          54,
          27,
          28,
          49,
          29,
          46,
          20,
          47,
          29,
          54,
          52,
          32,
          51,
          33,
          37,
          20,
          34,
          31,
          30,
          30,
          22,
          34,
          19,
          34,
          45,
          25,
          26,
          33,
          28,
          41,
          36,
          26,
          28,
          39,
          65,
          38,
          41,
          26,
          41,
          45,
          40,
          24,
          31,
          35,
          40,
          28,
          28,
          27,
          31,
          37,
          35,
          46,
          32,
          33,
          33,
          26,
          24,
          25,
          54,
          24,
          48,
          49,
          32,
          55,
          40,
          22,
          38,
          26,
          51,
          38,
          46,
          63,
          30,
          32,
          26,
          34,
          46,
          29,
          42,
          42,
          63,
          32,
          23,
          59,
          61,
          22,
          27,
          26,
          37,
          34,
          57,
          31,
          28,
          24,
          21,
          34,
          29,
          27,
          34,
          27,
          28,
          30,
          22,
          36,
          22,
          26,
          63,
          22,
          36,
          24,
          30,
          43,
          37,
          26,
          33,
          66,
          50,
          35,
          25,
          25,
          33,
          30,
          41,
          32,
          32,
          39,
          23,
          26,
          32,
          40,
          30,
          27,
          36,
          29,
          64,
          32,
          35,
          44,
          42,
          29,
          57,
          27,
          29,
          44,
          28,
          40,
          68,
          52,
          46,
          52,
          32,
          34,
          23,
          33,
          26,
          55,
          27,
          28,
          57,
          36,
          31,
          24,
          43,
          40,
          23,
          26,
          30,
          40,
          56,
          50,
          36,
          21,
          32,
          66,
          66,
          39,
          70,
          24,
          22,
          27,
          29,
          35,
          29,
          26,
          60,
          40,
          23,
          45,
          24,
          55,
          30,
          35,
          24,
          47,
          47,
          25,
          37,
          33,
          31,
          27,
          47,
          25,
          57,
          67,
          48,
          40,
          32,
          49,
          35,
          27,
          35,
          37,
          26,
          45,
          33,
          42,
          31,
          46,
          54,
          26,
          29,
          43,
          38,
          35,
          28,
          27,
          51,
          33,
          38,
          30,
          38,
          46,
          33,
          43,
          24,
          56,
          37,
          22,
          20,
          29,
          36,
          37,
          44,
          23,
          28,
          26,
          29,
          21,
          34,
          31,
          40,
          27,
          32,
          25,
          42,
          43,
          44,
          32,
          27,
          20,
          37,
          42,
          46,
          33,
          22,
          41,
          37,
          27,
          42,
          26,
          26,
          27,
          22,
          37,
          30,
          49,
          27,
          40,
          20,
          26,
          30,
          33,
          26,
          35,
          44,
          27,
          24,
          47,
          26,
          23,
          31,
          52,
          43,
          37,
          26,
          35,
          30,
          34,
          35,
          48,
          42,
          40,
          23,
          30,
          24,
          33,
          31,
          22,
          53,
          34,
          36,
          37,
          25,
          34,
          27,
          51,
          23,
          29,
          32,
          28,
          38,
          65,
          39,
          29,
          26,
          30,
          75,
          21,
          41,
          25,
          35,
          37,
          26,
          30,
          23,
          42,
          30,
          46,
          29,
          29,
          38,
          30,
          31,
          47,
          48,
          27,
          66,
          29,
          75,
          36,
          38,
          46,
          36,
          55,
          25,
          45,
          28,
          30,
          39,
          22,
          60,
          28,
          24,
          63,
          46,
          33,
          44,
          58,
          54,
          43,
          52,
          32,
          41,
          34,
          48,
          38,
          38,
          53,
          38,
          42,
          38,
          64,
          35,
          26,
          33,
          29,
          20,
          28,
          47,
          49,
          45,
          23,
          25,
          34,
          23,
          32,
          26,
          44,
          26,
          28,
          25,
          48,
          35,
          28,
          23,
          40,
          36,
          50,
          24,
          40,
          31,
          29,
          45,
          32,
          21,
          27,
          22,
          46,
          24,
          21,
          36,
          28,
          27,
          57,
          47,
          34,
          23,
          57,
          67,
          36,
          20,
          36,
          37,
          31,
          62,
          65,
          36,
          41,
          26,
          27,
          50,
          54,
          27,
          24,
          50,
          40,
          28,
          31,
          27,
          21,
          31,
          39,
          30,
          27,
          55,
          34,
          23,
          23,
          42,
          62,
          37,
          46,
          38,
          31,
          31,
          61,
          20,
          63,
          24,
          21,
          36,
          44,
          67,
          51,
          30,
          28,
          32,
          28,
          23,
          33,
          60,
          48,
          24,
          27,
          28,
          65,
          29,
          42,
          47,
          22,
          25,
          32,
          29,
          24,
          30,
          27,
          47,
          24,
          24,
          34,
          40,
          44,
          33,
          40,
          49,
          48,
          57,
          24,
          29,
          35,
          32,
          61,
          36,
          25,
          26,
          25,
          55,
          53,
          66,
          61,
          34,
          33,
          29,
          38,
          35,
          32,
          25,
          33,
          23,
          24,
          28,
          63,
          39,
          35,
          23,
          36,
          23,
          24,
          74,
          22,
          48,
          26,
          24,
          19,
          27,
          29,
          32,
          25,
          29,
          47,
          34,
          43,
          30,
          22,
          42,
          26,
          27,
          26,
          32,
          23,
          36,
          43,
          39,
          26,
          40,
          31,
          29,
          29,
          39,
          23,
          30,
          60,
          50,
          47,
          21,
          24,
          31,
          37,
          43,
          46,
          30,
          31,
          34,
          33,
          38,
          24,
          23,
          31,
          27,
          39,
          25,
          28,
          27,
          25,
          54,
          25,
          22,
          28,
          34,
          28,
          28,
          31,
          22,
          40,
          25,
          34,
          42,
          25,
          28,
          24,
          27,
          25,
          35,
          29,
          27,
          24,
          25,
          33,
          34,
          38,
          41,
          21,
          36,
          27,
          31,
          33,
          57,
          42,
          26,
          24,
          44,
          23,
          43,
          53,
          53,
          35,
          26,
          31,
          23,
          22,
          20,
          25,
          24,
          46,
          27,
          46,
          23,
          50,
          26,
          20,
          31,
          21,
          39,
          25,
          30,
          37,
          46,
          36,
          43,
          33,
          29,
          36,
          23,
          42,
          44,
          41,
          41,
          37,
          57,
          34,
          25,
          53,
          32,
          33,
          24,
          28,
          39,
          24,
          26,
          55,
          61,
          21,
          26,
          22,
          68,
          22,
          58,
          23,
          37,
          26,
          27,
          26,
          23,
          40,
          33,
          42,
          37,
          29,
          23,
          34,
          32,
          68,
          25,
          35,
          22,
          28,
          30,
          25,
          34,
          42,
          45,
          20,
          23,
          20,
          27,
          44,
          51,
          33,
          28,
          21,
          45,
          30,
          52,
          31
         ],
         "xaxis": "x",
         "xbingroup": "x",
         "y": [
          1049,
          2799,
          841,
          2122,
          2171,
          2241,
          3398,
          1361,
          1098,
          3758,
          3905,
          6187,
          1957,
          7582,
          1936,
          2647,
          3939,
          3213,
          2337,
          7228,
          3676,
          3124,
          2384,
          1424,
          4716,
          4771,
          652,
          1154,
          3556,
          4796,
          3017,
          3535,
          6614,
          1376,
          1721,
          860,
          1495,
          1934,
          3378,
          3868,
          996,
          1755,
          1028,
          2825,
          1239,
          1216,
          1258,
          1864,
          1474,
          1382,
          640,
          3919,
          1224,
          2331,
          6313,
          385,
          1655,
          1053,
          3160,
          3079,
          1163,
          2679,
          3578,
          10875,
          1344,
          1237,
          3077,
          2284,
          1567,
          2032,
          2745,
          1867,
          2299,
          929,
          3399,
          2030,
          3275,
          1940,
          1602,
          1979,
          2022,
          3342,
          5866,
          2360,
          1520,
          3651,
          2346,
          4454,
          666,
          1965,
          1995,
          2991,
          4221,
          1364,
          6361,
          4526,
          3573,
          4455,
          2136,
          5954,
          3777,
          806,
          4712,
          7432,
          1851,
          1393,
          1412,
          1473,
          1533,
          2012,
          3959,
          428,
          2366,
          763,
          3976,
          6260,
          1919,
          2603,
          936,
          3062,
          4795,
          5842,
          2063,
          1459,
          1213,
          5103,
          874,
          2978,
          1820,
          2872,
          1925,
          2515,
          2116,
          1453,
          1364,
          1543,
          1318,
          2325,
          932,
          3148,
          3835,
          3832,
          5084,
          2406,
          2394,
          2476,
          2964,
          1262,
          1542,
          1743,
          409,
          2171,
          8858,
          3512,
          1158,
          2684,
          1498,
          5954,
          6416,
          3617,
          1291,
          1275,
          3972,
          3343,
          392,
          2134,
          5771,
          4526,
          2788,
          1382,
          5848,
          1228,
          1297,
          1552,
          1963,
          3235,
          4139,
          1804,
          1950,
          12749,
          1236,
          1055,
          8072,
          2831,
          1449,
          5742,
          2390,
          3430,
          2273,
          2923,
          1901,
          3711,
          8487,
          2255,
          1262,
          7253,
          6761,
          1817,
          2141,
          3609,
          2333,
          7824,
          1445,
          7721,
          3763,
          4439,
          1107,
          1444,
          12169,
          2753,
          1494,
          2828,
          2483,
          1299,
          1549,
          3949,
          2901,
          709,
          10722,
          1287,
          1940,
          3656,
          4679,
          8613,
          2659,
          1516,
          4380,
          802,
          1572,
          3566,
          1278,
          426,
          8588,
          3857,
          685,
          1603,
          2241,
          2384,
          601,
          2569,
          1316,
          10366,
          1568,
          629,
          1750,
          3488,
          1800,
          4151,
          2631,
          5248,
          2899,
          6204,
          804,
          3595,
          5711,
          2687,
          3643,
          2146,
          2315,
          3448,
          2708,
          1393,
          1275,
          1313,
          1493,
          2675,
          2118,
          909,
          1258,
          1569,
          1236,
          7678,
          660,
          2835,
          2670,
          3447,
          3568,
          3652,
          3660,
          1126,
          683,
          2251,
          4675,
          2353,
          3357,
          672,
          338,
          2697,
          2507,
          1478,
          3565,
          2221,
          1898,
          1449,
          960,
          8133,
          2301,
          1743,
          983,
          2320,
          339,
          5152,
          3749,
          3074,
          745,
          1469,
          1374,
          783,
          2606,
          9436,
          930,
          2751,
          250,
          1201,
          662,
          1300,
          1559,
          3016,
          1360,
          1204,
          1597,
          2073,
          2142,
          2132,
          1546,
          1287,
          1418,
          1343,
          2662,
          6070,
          1927,
          2404,
          1554,
          1283,
          717,
          1747,
          1288,
          1038,
          2848,
          1413,
          3077,
          3632,
          3229,
          3577,
          682,
          1924,
          727,
          781,
          2121,
          701,
          2069,
          1525,
          7629,
          3499,
          1346,
          10477,
          2924,
          1231,
          1961,
          5045,
          1255,
          1858,
          1221,
          1388,
          2279,
          2759,
          1258,
          1410,
          1403,
          3021,
          6568,
          2578,
          7758,
          343,
          1591,
          3416,
          1108,
          5965,
          1514,
          6742,
          3650,
          3599,
          13756,
          276,
          4041,
          458,
          918,
          7393,
          1225,
          2812,
          3029,
          1480,
          1047,
          1471,
          5511,
          1206,
          6403,
          707,
          1503,
          6078,
          2528,
          1037,
          1352,
          3181,
          4594,
          5381,
          4657,
          1391,
          1913,
          7166,
          1409,
          2978,
          976,
          2375,
          522,
          2743,
          1154,
          5804,
          1169,
          1478,
          776,
          1322,
          1175,
          2133,
          1829,
          717,
          11760,
          1501,
          1200,
          3195,
          4530,
          1555,
          2326,
          1887,
          1264,
          846,
          1532,
          935,
          2442,
          3590,
          2288,
          5117,
          14179,
          1386,
          618,
          1574,
          700,
          886,
          4686,
          790,
          766,
          2212,
          7308,
          5743,
          3973,
          7418,
          2629,
          1941,
          2333,
          2445,
          6468,
          7374,
          3812,
          4006,
          7472,
          1424,
          2028,
          5324,
          2323,
          1393,
          1984,
          999,
          7409,
          2186,
          4473,
          937,
          3422,
          3105,
          2748,
          3872,
          5190,
          3001,
          3863,
          5801,
          1592,
          1185,
          3780,
          3612,
          1076,
          3527,
          2051,
          3331,
          3104,
          2611,
          1409,
          1311,
          2108,
          4042,
          926,
          1680,
          1249,
          2463,
          1595,
          2058,
          7814,
          1740,
          1240,
          6842,
          5150,
          1203,
          2080,
          1538,
          3878,
          3832,
          3186,
          2896,
          6967,
          1819,
          5943,
          7127,
          3349,
          10974,
          518,
          1126,
          1860,
          9566,
          701,
          2930,
          1505,
          2238,
          1503,
          2197,
          1881,
          1880,
          2389,
          1967,
          3380,
          1455,
          730,
          3244,
          1670,
          3979,
          1922,
          1295,
          1544,
          907,
          1715,
          1347,
          1007,
          1402,
          2002,
          2096,
          1101,
          894,
          1577,
          2764,
          8358,
          1474,
          5433,
          1410,
          3485,
          3850,
          7408,
          1377,
          4272,
          1553,
          9857,
          362,
          1935,
          10222,
          1330,
          9055,
          7966,
          3496,
          6948,
          12204,
          3446,
          684,
          4281,
          7174,
          1546,
          2359,
          3621,
          741,
          7865,
          2910,
          5302,
          3620,
          3509,
          3017,
          1657,
          1164,
          6229,
          1193,
          4583,
          5371,
          708,
          571,
          2522,
          5179,
          8229,
          2028,
          1374,
          1289,
          2712,
          975,
          1050,
          609,
          4788,
          3069,
          836,
          2577,
          1620,
          1845,
          6579,
          1893,
          10623,
          2249,
          3108,
          958,
          9277,
          6314,
          1526,
          3590,
          6615,
          1872,
          2859,
          1582,
          1238,
          2578,
          1433,
          7882,
          4169,
          3959,
          3249,
          3149,
          2246,
          1797,
          4272,
          2957,
          2348,
          6289,
          6419,
          6143,
          1597,
          15857,
          2223,
          7238,
          2503,
          2622,
          4351,
          368,
          754,
          2424,
          6681,
          2427,
          1216,
          753,
          2576,
          590,
          1414,
          1103,
          585,
          1068,
          713,
          1092,
          2329,
          882,
          866,
          2415,
          2101,
          1301,
          1113,
          760,
          625,
          1323,
          1138,
          1795,
          2728,
          484,
          1048,
          1155,
          7057,
          1537,
          2214,
          1585,
          1521,
          3990,
          3049,
          1282,
          10144,
          1168,
          454,
          3594,
          1768,
          15653,
          2247,
          1413,
          4576,
          1231,
          8335,
          5800,
          8471,
          3622,
          1169,
          1262,
          3617,
          2181,
          7685,
          6110,
          3757,
          3394,
          6304,
          1244,
          3518,
          2613,
          7476,
          4591,
          1924,
          5595,
          6224,
          1905,
          2993,
          8947,
          4020,
          2779,
          2782,
          1884,
          11054,
          9157,
          9283,
          6527,
          3368,
          2511,
          5493,
          1338,
          1082,
          1149,
          1308,
          6148,
          1736,
          3059,
          2996,
          7596,
          4811,
          1766,
          2760,
          5507,
          1199,
          2892,
          2862,
          654,
          1136,
          4113,
          14555,
          950,
          1199,
          1082,
          2150,
          2820,
          3060,
          2600,
          5003,
          6288,
          2538,
          1478,
          4933,
          1530,
          1437,
          1275,
          1823,
          1422,
          1217,
          9271,
          2145,
          1842,
          4297,
          3384,
          1245,
          4623,
          8386,
          1024,
          14318,
          433,
          2149,
          2397,
          931,
          1512,
          4241,
          4736,
          1778,
          2327,
          6872,
          795,
          1908,
          1953,
          2864,
          2319,
          915,
          947,
          1381,
          1285,
          1371,
          1042,
          900,
          1207,
          2278,
          6836,
          3345,
          1198,
          15672,
          7297,
          1943,
          3190,
          5129,
          1808,
          1240,
          759,
          1237,
          1980,
          10961,
          6887,
          1938,
          1835,
          1659,
          1209,
          3844,
          4843,
          639,
          5951,
          3804,
          4463,
          7980,
          4210,
          4611,
          11560,
          4165,
          4057,
          6458,
          1386,
          1977,
          1928,
          1123,
          11328,
          11938,
          2520,
          1919,
          14782,
          2671,
          12612,
          3031,
          626,
          1935,
          1344,
          1533,
          3931,
          3349,
          2302,
          3965,
          727,
          3914,
          4308,
          1534,
          2775,
          5998,
          1271,
          1295,
          9398,
          951,
          1355,
          3051,
          7855,
          433,
          9572,
          1837,
          4249,
          5234,
          6758,
          1366,
          1358,
          2473,
          1337,
          7763,
          1264,
          2631,
          6560,
          3123,
          8065,
          2439,
          9034,
          14027,
          9629,
          1484,
          1131,
          2064,
          12976,
          2580,
          2570,
          3915,
          1309,
          4817,
          2579,
          2225,
          4153,
          3114,
          2124,
          1553,
          2406,
          1333,
          7119,
          4870,
          691,
          4370,
          2746,
          4110,
          2462,
          1282,
          2969,
          4605,
          6331,
          3552,
          697,
          1442,
          5293,
          3414,
          2039,
          3161,
          902,
          10297,
          14421,
          1056,
          1274,
          1223,
          1372,
          2625,
          2235,
          959,
          884,
          1246,
          8086,
          10127,
          888,
          719,
          12389,
          709,
          6850,
          2210,
          7485,
          1442,
          797,
          4746,
          939,
          1188,
          11590,
          609,
          1190,
          2767,
          3441,
          4280,
          3092,
          6761,
          1331,
          15945,
          3234,
          802,
          9960,
          8648,
          1345,
          1845,
          1647,
          4844,
          8318,
          2100,
          11816,
          448,
          11998,
          18424,
          14896,
          2762,
          3386,
          2039,
          2169,
          5096,
          1882,
          6999,
          2292,
          8978,
          674,
          976,
          2718,
          750,
          12579,
          7511,
          3966,
          6199,
          1987,
          2303,
          12680,
          6468,
          6350
         ],
         "yaxis": "y",
         "ybingroup": "y"
        }
       ],
       "layout": {
        "legend": {
         "tracegroupgap": 0
        },
        "margin": {
         "t": 60
        },
        "template": {
         "data": {
          "bar": [
           {
            "error_x": {
             "color": "#2a3f5f"
            },
            "error_y": {
             "color": "#2a3f5f"
            },
            "marker": {
             "line": {
              "color": "#E5ECF6",
              "width": 0.5
             },
             "pattern": {
              "fillmode": "overlay",
              "size": 10,
              "solidity": 0.2
             }
            },
            "type": "bar"
           }
          ],
          "barpolar": [
           {
            "marker": {
             "line": {
              "color": "#E5ECF6",
              "width": 0.5
             },
             "pattern": {
              "fillmode": "overlay",
              "size": 10,
              "solidity": 0.2
             }
            },
            "type": "barpolar"
           }
          ],
          "carpet": [
           {
            "aaxis": {
             "endlinecolor": "#2a3f5f",
             "gridcolor": "white",
             "linecolor": "white",
             "minorgridcolor": "white",
             "startlinecolor": "#2a3f5f"
            },
            "baxis": {
             "endlinecolor": "#2a3f5f",
             "gridcolor": "white",
             "linecolor": "white",
             "minorgridcolor": "white",
             "startlinecolor": "#2a3f5f"
            },
            "type": "carpet"
           }
          ],
          "choropleth": [
           {
            "colorbar": {
             "outlinewidth": 0,
             "ticks": ""
            },
            "type": "choropleth"
           }
          ],
          "contour": [
           {
            "colorbar": {
             "outlinewidth": 0,
             "ticks": ""
            },
            "colorscale": [
             [
              0,
              "#0d0887"
             ],
             [
              0.1111111111111111,
              "#46039f"
             ],
             [
              0.2222222222222222,
              "#7201a8"
             ],
             [
              0.3333333333333333,
              "#9c179e"
             ],
             [
              0.4444444444444444,
              "#bd3786"
             ],
             [
              0.5555555555555556,
              "#d8576b"
             ],
             [
              0.6666666666666666,
              "#ed7953"
             ],
             [
              0.7777777777777778,
              "#fb9f3a"
             ],
             [
              0.8888888888888888,
              "#fdca26"
             ],
             [
              1,
              "#f0f921"
             ]
            ],
            "type": "contour"
           }
          ],
          "contourcarpet": [
           {
            "colorbar": {
             "outlinewidth": 0,
             "ticks": ""
            },
            "type": "contourcarpet"
           }
          ],
          "heatmap": [
           {
            "colorbar": {
             "outlinewidth": 0,
             "ticks": ""
            },
            "colorscale": [
             [
              0,
              "#0d0887"
             ],
             [
              0.1111111111111111,
              "#46039f"
             ],
             [
              0.2222222222222222,
              "#7201a8"
             ],
             [
              0.3333333333333333,
              "#9c179e"
             ],
             [
              0.4444444444444444,
              "#bd3786"
             ],
             [
              0.5555555555555556,
              "#d8576b"
             ],
             [
              0.6666666666666666,
              "#ed7953"
             ],
             [
              0.7777777777777778,
              "#fb9f3a"
             ],
             [
              0.8888888888888888,
              "#fdca26"
             ],
             [
              1,
              "#f0f921"
             ]
            ],
            "type": "heatmap"
           }
          ],
          "heatmapgl": [
           {
            "colorbar": {
             "outlinewidth": 0,
             "ticks": ""
            },
            "colorscale": [
             [
              0,
              "#0d0887"
             ],
             [
              0.1111111111111111,
              "#46039f"
             ],
             [
              0.2222222222222222,
              "#7201a8"
             ],
             [
              0.3333333333333333,
              "#9c179e"
             ],
             [
              0.4444444444444444,
              "#bd3786"
             ],
             [
              0.5555555555555556,
              "#d8576b"
             ],
             [
              0.6666666666666666,
              "#ed7953"
             ],
             [
              0.7777777777777778,
              "#fb9f3a"
             ],
             [
              0.8888888888888888,
              "#fdca26"
             ],
             [
              1,
              "#f0f921"
             ]
            ],
            "type": "heatmapgl"
           }
          ],
          "histogram": [
           {
            "marker": {
             "pattern": {
              "fillmode": "overlay",
              "size": 10,
              "solidity": 0.2
             }
            },
            "type": "histogram"
           }
          ],
          "histogram2d": [
           {
            "colorbar": {
             "outlinewidth": 0,
             "ticks": ""
            },
            "colorscale": [
             [
              0,
              "#0d0887"
             ],
             [
              0.1111111111111111,
              "#46039f"
             ],
             [
              0.2222222222222222,
              "#7201a8"
             ],
             [
              0.3333333333333333,
              "#9c179e"
             ],
             [
              0.4444444444444444,
              "#bd3786"
             ],
             [
              0.5555555555555556,
              "#d8576b"
             ],
             [
              0.6666666666666666,
              "#ed7953"
             ],
             [
              0.7777777777777778,
              "#fb9f3a"
             ],
             [
              0.8888888888888888,
              "#fdca26"
             ],
             [
              1,
              "#f0f921"
             ]
            ],
            "type": "histogram2d"
           }
          ],
          "histogram2dcontour": [
           {
            "colorbar": {
             "outlinewidth": 0,
             "ticks": ""
            },
            "colorscale": [
             [
              0,
              "#0d0887"
             ],
             [
              0.1111111111111111,
              "#46039f"
             ],
             [
              0.2222222222222222,
              "#7201a8"
             ],
             [
              0.3333333333333333,
              "#9c179e"
             ],
             [
              0.4444444444444444,
              "#bd3786"
             ],
             [
              0.5555555555555556,
              "#d8576b"
             ],
             [
              0.6666666666666666,
              "#ed7953"
             ],
             [
              0.7777777777777778,
              "#fb9f3a"
             ],
             [
              0.8888888888888888,
              "#fdca26"
             ],
             [
              1,
              "#f0f921"
             ]
            ],
            "type": "histogram2dcontour"
           }
          ],
          "mesh3d": [
           {
            "colorbar": {
             "outlinewidth": 0,
             "ticks": ""
            },
            "type": "mesh3d"
           }
          ],
          "parcoords": [
           {
            "line": {
             "colorbar": {
              "outlinewidth": 0,
              "ticks": ""
             }
            },
            "type": "parcoords"
           }
          ],
          "pie": [
           {
            "automargin": true,
            "type": "pie"
           }
          ],
          "scatter": [
           {
            "fillpattern": {
             "fillmode": "overlay",
             "size": 10,
             "solidity": 0.2
            },
            "type": "scatter"
           }
          ],
          "scatter3d": [
           {
            "line": {
             "colorbar": {
              "outlinewidth": 0,
              "ticks": ""
             }
            },
            "marker": {
             "colorbar": {
              "outlinewidth": 0,
              "ticks": ""
             }
            },
            "type": "scatter3d"
           }
          ],
          "scattercarpet": [
           {
            "marker": {
             "colorbar": {
              "outlinewidth": 0,
              "ticks": ""
             }
            },
            "type": "scattercarpet"
           }
          ],
          "scattergeo": [
           {
            "marker": {
             "colorbar": {
              "outlinewidth": 0,
              "ticks": ""
             }
            },
            "type": "scattergeo"
           }
          ],
          "scattergl": [
           {
            "marker": {
             "colorbar": {
              "outlinewidth": 0,
              "ticks": ""
             }
            },
            "type": "scattergl"
           }
          ],
          "scattermapbox": [
           {
            "marker": {
             "colorbar": {
              "outlinewidth": 0,
              "ticks": ""
             }
            },
            "type": "scattermapbox"
           }
          ],
          "scatterpolar": [
           {
            "marker": {
             "colorbar": {
              "outlinewidth": 0,
              "ticks": ""
             }
            },
            "type": "scatterpolar"
           }
          ],
          "scatterpolargl": [
           {
            "marker": {
             "colorbar": {
              "outlinewidth": 0,
              "ticks": ""
             }
            },
            "type": "scatterpolargl"
           }
          ],
          "scatterternary": [
           {
            "marker": {
             "colorbar": {
              "outlinewidth": 0,
              "ticks": ""
             }
            },
            "type": "scatterternary"
           }
          ],
          "surface": [
           {
            "colorbar": {
             "outlinewidth": 0,
             "ticks": ""
            },
            "colorscale": [
             [
              0,
              "#0d0887"
             ],
             [
              0.1111111111111111,
              "#46039f"
             ],
             [
              0.2222222222222222,
              "#7201a8"
             ],
             [
              0.3333333333333333,
              "#9c179e"
             ],
             [
              0.4444444444444444,
              "#bd3786"
             ],
             [
              0.5555555555555556,
              "#d8576b"
             ],
             [
              0.6666666666666666,
              "#ed7953"
             ],
             [
              0.7777777777777778,
              "#fb9f3a"
             ],
             [
              0.8888888888888888,
              "#fdca26"
             ],
             [
              1,
              "#f0f921"
             ]
            ],
            "type": "surface"
           }
          ],
          "table": [
           {
            "cells": {
             "fill": {
              "color": "#EBF0F8"
             },
             "line": {
              "color": "white"
             }
            },
            "header": {
             "fill": {
              "color": "#C8D4E3"
             },
             "line": {
              "color": "white"
             }
            },
            "type": "table"
           }
          ]
         },
         "layout": {
          "annotationdefaults": {
           "arrowcolor": "#2a3f5f",
           "arrowhead": 0,
           "arrowwidth": 1
          },
          "autotypenumbers": "strict",
          "coloraxis": {
           "colorbar": {
            "outlinewidth": 0,
            "ticks": ""
           }
          },
          "colorscale": {
           "diverging": [
            [
             0,
             "#8e0152"
            ],
            [
             0.1,
             "#c51b7d"
            ],
            [
             0.2,
             "#de77ae"
            ],
            [
             0.3,
             "#f1b6da"
            ],
            [
             0.4,
             "#fde0ef"
            ],
            [
             0.5,
             "#f7f7f7"
            ],
            [
             0.6,
             "#e6f5d0"
            ],
            [
             0.7,
             "#b8e186"
            ],
            [
             0.8,
             "#7fbc41"
            ],
            [
             0.9,
             "#4d9221"
            ],
            [
             1,
             "#276419"
            ]
           ],
           "sequential": [
            [
             0,
             "#0d0887"
            ],
            [
             0.1111111111111111,
             "#46039f"
            ],
            [
             0.2222222222222222,
             "#7201a8"
            ],
            [
             0.3333333333333333,
             "#9c179e"
            ],
            [
             0.4444444444444444,
             "#bd3786"
            ],
            [
             0.5555555555555556,
             "#d8576b"
            ],
            [
             0.6666666666666666,
             "#ed7953"
            ],
            [
             0.7777777777777778,
             "#fb9f3a"
            ],
            [
             0.8888888888888888,
             "#fdca26"
            ],
            [
             1,
             "#f0f921"
            ]
           ],
           "sequentialminus": [
            [
             0,
             "#0d0887"
            ],
            [
             0.1111111111111111,
             "#46039f"
            ],
            [
             0.2222222222222222,
             "#7201a8"
            ],
            [
             0.3333333333333333,
             "#9c179e"
            ],
            [
             0.4444444444444444,
             "#bd3786"
            ],
            [
             0.5555555555555556,
             "#d8576b"
            ],
            [
             0.6666666666666666,
             "#ed7953"
            ],
            [
             0.7777777777777778,
             "#fb9f3a"
            ],
            [
             0.8888888888888888,
             "#fdca26"
            ],
            [
             1,
             "#f0f921"
            ]
           ]
          },
          "colorway": [
           "#636efa",
           "#EF553B",
           "#00cc96",
           "#ab63fa",
           "#FFA15A",
           "#19d3f3",
           "#FF6692",
           "#B6E880",
           "#FF97FF",
           "#FECB52"
          ],
          "font": {
           "color": "#2a3f5f"
          },
          "geo": {
           "bgcolor": "white",
           "lakecolor": "white",
           "landcolor": "#E5ECF6",
           "showlakes": true,
           "showland": true,
           "subunitcolor": "white"
          },
          "hoverlabel": {
           "align": "left"
          },
          "hovermode": "closest",
          "mapbox": {
           "style": "light"
          },
          "paper_bgcolor": "white",
          "plot_bgcolor": "#E5ECF6",
          "polar": {
           "angularaxis": {
            "gridcolor": "white",
            "linecolor": "white",
            "ticks": ""
           },
           "bgcolor": "#E5ECF6",
           "radialaxis": {
            "gridcolor": "white",
            "linecolor": "white",
            "ticks": ""
           }
          },
          "scene": {
           "xaxis": {
            "backgroundcolor": "#E5ECF6",
            "gridcolor": "white",
            "gridwidth": 2,
            "linecolor": "white",
            "showbackground": true,
            "ticks": "",
            "zerolinecolor": "white"
           },
           "yaxis": {
            "backgroundcolor": "#E5ECF6",
            "gridcolor": "white",
            "gridwidth": 2,
            "linecolor": "white",
            "showbackground": true,
            "ticks": "",
            "zerolinecolor": "white"
           },
           "zaxis": {
            "backgroundcolor": "#E5ECF6",
            "gridcolor": "white",
            "gridwidth": 2,
            "linecolor": "white",
            "showbackground": true,
            "ticks": "",
            "zerolinecolor": "white"
           }
          },
          "shapedefaults": {
           "line": {
            "color": "#2a3f5f"
           }
          },
          "ternary": {
           "aaxis": {
            "gridcolor": "white",
            "linecolor": "white",
            "ticks": ""
           },
           "baxis": {
            "gridcolor": "white",
            "linecolor": "white",
            "ticks": ""
           },
           "bgcolor": "#E5ECF6",
           "caxis": {
            "gridcolor": "white",
            "linecolor": "white",
            "ticks": ""
           }
          },
          "title": {
           "x": 0.05
          },
          "xaxis": {
           "automargin": true,
           "gridcolor": "white",
           "linecolor": "white",
           "ticks": "",
           "title": {
            "standoff": 15
           },
           "zerolinecolor": "white",
           "zerolinewidth": 2
          },
          "yaxis": {
           "automargin": true,
           "gridcolor": "white",
           "linecolor": "white",
           "ticks": "",
           "title": {
            "standoff": 15
           },
           "zerolinecolor": "white",
           "zerolinewidth": 2
          }
         }
        },
        "xaxis": {
         "anchor": "y",
         "domain": [
          0,
          1
         ],
         "title": {
          "text": "Age (years)"
         }
        },
        "yaxis": {
         "anchor": "x",
         "domain": [
          0,
          1
         ],
         "title": {
          "text": "Credit Amount"
         }
        }
       }
      },
      "text/html": [
       "<div>                            <div id=\"3a48c147-0a5f-4f6c-8446-f1279623ee78\" class=\"plotly-graph-div\" style=\"height:525px; width:100%;\"></div>            <script type=\"text/javascript\">                require([\"plotly\"], function(Plotly) {                    window.PLOTLYENV=window.PLOTLYENV || {};                                    if (document.getElementById(\"3a48c147-0a5f-4f6c-8446-f1279623ee78\")) {                    Plotly.newPlot(                        \"3a48c147-0a5f-4f6c-8446-f1279623ee78\",                        [{\"contours\":{\"coloring\":\"fill\",\"showlabels\":true},\"hovertemplate\":\"Age (years)=%{x}<br>Credit Amount=%{y}<br>count=%{z}<extra></extra>\",\"legendgroup\":\"\",\"line\":{\"color\":\"#636efa\"},\"name\":\"\",\"showlegend\":false,\"x\":[21,36,23,39,38,48,39,40,65,23,36,24,31,31,23,44,40,25,36,39,37,49,33,26,44,51,24,37,29,56,47,37,34,28,36,39,38,26,31,41,23,58,36,34,61,23,25,30,33,26,49,23,30,49,41,58,63,27,41,36,44,29,47,45,43,27,52,28,22,60,32,58,39,31,37,24,36,60,30,35,37,51,30,36,63,31,35,34,39,42,27,25,28,59,41,32,23,30,25,41,40,22,34,54,33,31,29,39,38,61,29,49,36,26,35,28,35,28,52,32,30,35,30,43,47,47,24,32,30,36,26,43,41,26,64,33,54,32,39,31,45,64,42,31,25,46,49,49,36,48,42,29,35,38,26,35,23,38,59,28,35,36,25,28,23,48,25,74,24,28,24,24,23,32,31,36,27,44,34,37,23,30,25,33,27,31,50,31,32,28,29,27,24,54,25,35,45,28,35,27,30,40,49,30,24,33,20,23,36,35,29,22,22,74,35,37,31,27,35,45,36,49,35,27,28,43,35,27,36,30,36,39,45,40,25,55,50,64,23,24,47,42,24,32,45,23,24,35,25,26,43,44,38,28,38,26,27,23,52,74,27,35,23,20,34,40,37,36,22,34,50,40,23,53,35,35,54,27,28,49,29,46,20,47,29,54,52,32,51,33,37,20,34,31,30,30,22,34,19,34,45,25,26,33,28,41,36,26,28,39,65,38,41,26,41,45,40,24,31,35,40,28,28,27,31,37,35,46,32,33,33,26,24,25,54,24,48,49,32,55,40,22,38,26,51,38,46,63,30,32,26,34,46,29,42,42,63,32,23,59,61,22,27,26,37,34,57,31,28,24,21,34,29,27,34,27,28,30,22,36,22,26,63,22,36,24,30,43,37,26,33,66,50,35,25,25,33,30,41,32,32,39,23,26,32,40,30,27,36,29,64,32,35,44,42,29,57,27,29,44,28,40,68,52,46,52,32,34,23,33,26,55,27,28,57,36,31,24,43,40,23,26,30,40,56,50,36,21,32,66,66,39,70,24,22,27,29,35,29,26,60,40,23,45,24,55,30,35,24,47,47,25,37,33,31,27,47,25,57,67,48,40,32,49,35,27,35,37,26,45,33,42,31,46,54,26,29,43,38,35,28,27,51,33,38,30,38,46,33,43,24,56,37,22,20,29,36,37,44,23,28,26,29,21,34,31,40,27,32,25,42,43,44,32,27,20,37,42,46,33,22,41,37,27,42,26,26,27,22,37,30,49,27,40,20,26,30,33,26,35,44,27,24,47,26,23,31,52,43,37,26,35,30,34,35,48,42,40,23,30,24,33,31,22,53,34,36,37,25,34,27,51,23,29,32,28,38,65,39,29,26,30,75,21,41,25,35,37,26,30,23,42,30,46,29,29,38,30,31,47,48,27,66,29,75,36,38,46,36,55,25,45,28,30,39,22,60,28,24,63,46,33,44,58,54,43,52,32,41,34,48,38,38,53,38,42,38,64,35,26,33,29,20,28,47,49,45,23,25,34,23,32,26,44,26,28,25,48,35,28,23,40,36,50,24,40,31,29,45,32,21,27,22,46,24,21,36,28,27,57,47,34,23,57,67,36,20,36,37,31,62,65,36,41,26,27,50,54,27,24,50,40,28,31,27,21,31,39,30,27,55,34,23,23,42,62,37,46,38,31,31,61,20,63,24,21,36,44,67,51,30,28,32,28,23,33,60,48,24,27,28,65,29,42,47,22,25,32,29,24,30,27,47,24,24,34,40,44,33,40,49,48,57,24,29,35,32,61,36,25,26,25,55,53,66,61,34,33,29,38,35,32,25,33,23,24,28,63,39,35,23,36,23,24,74,22,48,26,24,19,27,29,32,25,29,47,34,43,30,22,42,26,27,26,32,23,36,43,39,26,40,31,29,29,39,23,30,60,50,47,21,24,31,37,43,46,30,31,34,33,38,24,23,31,27,39,25,28,27,25,54,25,22,28,34,28,28,31,22,40,25,34,42,25,28,24,27,25,35,29,27,24,25,33,34,38,41,21,36,27,31,33,57,42,26,24,44,23,43,53,53,35,26,31,23,22,20,25,24,46,27,46,23,50,26,20,31,21,39,25,30,37,46,36,43,33,29,36,23,42,44,41,41,37,57,34,25,53,32,33,24,28,39,24,26,55,61,21,26,22,68,22,58,23,37,26,27,26,23,40,33,42,37,29,23,34,32,68,25,35,22,28,30,25,34,42,45,20,23,20,27,44,51,33,28,21,45,30,52,31],\"xaxis\":\"x\",\"xbingroup\":\"x\",\"y\":[1049,2799,841,2122,2171,2241,3398,1361,1098,3758,3905,6187,1957,7582,1936,2647,3939,3213,2337,7228,3676,3124,2384,1424,4716,4771,652,1154,3556,4796,3017,3535,6614,1376,1721,860,1495,1934,3378,3868,996,1755,1028,2825,1239,1216,1258,1864,1474,1382,640,3919,1224,2331,6313,385,1655,1053,3160,3079,1163,2679,3578,10875,1344,1237,3077,2284,1567,2032,2745,1867,2299,929,3399,2030,3275,1940,1602,1979,2022,3342,5866,2360,1520,3651,2346,4454,666,1965,1995,2991,4221,1364,6361,4526,3573,4455,2136,5954,3777,806,4712,7432,1851,1393,1412,1473,1533,2012,3959,428,2366,763,3976,6260,1919,2603,936,3062,4795,5842,2063,1459,1213,5103,874,2978,1820,2872,1925,2515,2116,1453,1364,1543,1318,2325,932,3148,3835,3832,5084,2406,2394,2476,2964,1262,1542,1743,409,2171,8858,3512,1158,2684,1498,5954,6416,3617,1291,1275,3972,3343,392,2134,5771,4526,2788,1382,5848,1228,1297,1552,1963,3235,4139,1804,1950,12749,1236,1055,8072,2831,1449,5742,2390,3430,2273,2923,1901,3711,8487,2255,1262,7253,6761,1817,2141,3609,2333,7824,1445,7721,3763,4439,1107,1444,12169,2753,1494,2828,2483,1299,1549,3949,2901,709,10722,1287,1940,3656,4679,8613,2659,1516,4380,802,1572,3566,1278,426,8588,3857,685,1603,2241,2384,601,2569,1316,10366,1568,629,1750,3488,1800,4151,2631,5248,2899,6204,804,3595,5711,2687,3643,2146,2315,3448,2708,1393,1275,1313,1493,2675,2118,909,1258,1569,1236,7678,660,2835,2670,3447,3568,3652,3660,1126,683,2251,4675,2353,3357,672,338,2697,2507,1478,3565,2221,1898,1449,960,8133,2301,1743,983,2320,339,5152,3749,3074,745,1469,1374,783,2606,9436,930,2751,250,1201,662,1300,1559,3016,1360,1204,1597,2073,2142,2132,1546,1287,1418,1343,2662,6070,1927,2404,1554,1283,717,1747,1288,1038,2848,1413,3077,3632,3229,3577,682,1924,727,781,2121,701,2069,1525,7629,3499,1346,10477,2924,1231,1961,5045,1255,1858,1221,1388,2279,2759,1258,1410,1403,3021,6568,2578,7758,343,1591,3416,1108,5965,1514,6742,3650,3599,13756,276,4041,458,918,7393,1225,2812,3029,1480,1047,1471,5511,1206,6403,707,1503,6078,2528,1037,1352,3181,4594,5381,4657,1391,1913,7166,1409,2978,976,2375,522,2743,1154,5804,1169,1478,776,1322,1175,2133,1829,717,11760,1501,1200,3195,4530,1555,2326,1887,1264,846,1532,935,2442,3590,2288,5117,14179,1386,618,1574,700,886,4686,790,766,2212,7308,5743,3973,7418,2629,1941,2333,2445,6468,7374,3812,4006,7472,1424,2028,5324,2323,1393,1984,999,7409,2186,4473,937,3422,3105,2748,3872,5190,3001,3863,5801,1592,1185,3780,3612,1076,3527,2051,3331,3104,2611,1409,1311,2108,4042,926,1680,1249,2463,1595,2058,7814,1740,1240,6842,5150,1203,2080,1538,3878,3832,3186,2896,6967,1819,5943,7127,3349,10974,518,1126,1860,9566,701,2930,1505,2238,1503,2197,1881,1880,2389,1967,3380,1455,730,3244,1670,3979,1922,1295,1544,907,1715,1347,1007,1402,2002,2096,1101,894,1577,2764,8358,1474,5433,1410,3485,3850,7408,1377,4272,1553,9857,362,1935,10222,1330,9055,7966,3496,6948,12204,3446,684,4281,7174,1546,2359,3621,741,7865,2910,5302,3620,3509,3017,1657,1164,6229,1193,4583,5371,708,571,2522,5179,8229,2028,1374,1289,2712,975,1050,609,4788,3069,836,2577,1620,1845,6579,1893,10623,2249,3108,958,9277,6314,1526,3590,6615,1872,2859,1582,1238,2578,1433,7882,4169,3959,3249,3149,2246,1797,4272,2957,2348,6289,6419,6143,1597,15857,2223,7238,2503,2622,4351,368,754,2424,6681,2427,1216,753,2576,590,1414,1103,585,1068,713,1092,2329,882,866,2415,2101,1301,1113,760,625,1323,1138,1795,2728,484,1048,1155,7057,1537,2214,1585,1521,3990,3049,1282,10144,1168,454,3594,1768,15653,2247,1413,4576,1231,8335,5800,8471,3622,1169,1262,3617,2181,7685,6110,3757,3394,6304,1244,3518,2613,7476,4591,1924,5595,6224,1905,2993,8947,4020,2779,2782,1884,11054,9157,9283,6527,3368,2511,5493,1338,1082,1149,1308,6148,1736,3059,2996,7596,4811,1766,2760,5507,1199,2892,2862,654,1136,4113,14555,950,1199,1082,2150,2820,3060,2600,5003,6288,2538,1478,4933,1530,1437,1275,1823,1422,1217,9271,2145,1842,4297,3384,1245,4623,8386,1024,14318,433,2149,2397,931,1512,4241,4736,1778,2327,6872,795,1908,1953,2864,2319,915,947,1381,1285,1371,1042,900,1207,2278,6836,3345,1198,15672,7297,1943,3190,5129,1808,1240,759,1237,1980,10961,6887,1938,1835,1659,1209,3844,4843,639,5951,3804,4463,7980,4210,4611,11560,4165,4057,6458,1386,1977,1928,1123,11328,11938,2520,1919,14782,2671,12612,3031,626,1935,1344,1533,3931,3349,2302,3965,727,3914,4308,1534,2775,5998,1271,1295,9398,951,1355,3051,7855,433,9572,1837,4249,5234,6758,1366,1358,2473,1337,7763,1264,2631,6560,3123,8065,2439,9034,14027,9629,1484,1131,2064,12976,2580,2570,3915,1309,4817,2579,2225,4153,3114,2124,1553,2406,1333,7119,4870,691,4370,2746,4110,2462,1282,2969,4605,6331,3552,697,1442,5293,3414,2039,3161,902,10297,14421,1056,1274,1223,1372,2625,2235,959,884,1246,8086,10127,888,719,12389,709,6850,2210,7485,1442,797,4746,939,1188,11590,609,1190,2767,3441,4280,3092,6761,1331,15945,3234,802,9960,8648,1345,1845,1647,4844,8318,2100,11816,448,11998,18424,14896,2762,3386,2039,2169,5096,1882,6999,2292,8978,674,976,2718,750,12579,7511,3966,6199,1987,2303,12680,6468,6350],\"yaxis\":\"y\",\"ybingroup\":\"y\",\"type\":\"histogram2dcontour\"}],                        {\"template\":{\"data\":{\"histogram2dcontour\":[{\"type\":\"histogram2dcontour\",\"colorbar\":{\"outlinewidth\":0,\"ticks\":\"\"},\"colorscale\":[[0.0,\"#0d0887\"],[0.1111111111111111,\"#46039f\"],[0.2222222222222222,\"#7201a8\"],[0.3333333333333333,\"#9c179e\"],[0.4444444444444444,\"#bd3786\"],[0.5555555555555556,\"#d8576b\"],[0.6666666666666666,\"#ed7953\"],[0.7777777777777778,\"#fb9f3a\"],[0.8888888888888888,\"#fdca26\"],[1.0,\"#f0f921\"]]}],\"choropleth\":[{\"type\":\"choropleth\",\"colorbar\":{\"outlinewidth\":0,\"ticks\":\"\"}}],\"histogram2d\":[{\"type\":\"histogram2d\",\"colorbar\":{\"outlinewidth\":0,\"ticks\":\"\"},\"colorscale\":[[0.0,\"#0d0887\"],[0.1111111111111111,\"#46039f\"],[0.2222222222222222,\"#7201a8\"],[0.3333333333333333,\"#9c179e\"],[0.4444444444444444,\"#bd3786\"],[0.5555555555555556,\"#d8576b\"],[0.6666666666666666,\"#ed7953\"],[0.7777777777777778,\"#fb9f3a\"],[0.8888888888888888,\"#fdca26\"],[1.0,\"#f0f921\"]]}],\"heatmap\":[{\"type\":\"heatmap\",\"colorbar\":{\"outlinewidth\":0,\"ticks\":\"\"},\"colorscale\":[[0.0,\"#0d0887\"],[0.1111111111111111,\"#46039f\"],[0.2222222222222222,\"#7201a8\"],[0.3333333333333333,\"#9c179e\"],[0.4444444444444444,\"#bd3786\"],[0.5555555555555556,\"#d8576b\"],[0.6666666666666666,\"#ed7953\"],[0.7777777777777778,\"#fb9f3a\"],[0.8888888888888888,\"#fdca26\"],[1.0,\"#f0f921\"]]}],\"heatmapgl\":[{\"type\":\"heatmapgl\",\"colorbar\":{\"outlinewidth\":0,\"ticks\":\"\"},\"colorscale\":[[0.0,\"#0d0887\"],[0.1111111111111111,\"#46039f\"],[0.2222222222222222,\"#7201a8\"],[0.3333333333333333,\"#9c179e\"],[0.4444444444444444,\"#bd3786\"],[0.5555555555555556,\"#d8576b\"],[0.6666666666666666,\"#ed7953\"],[0.7777777777777778,\"#fb9f3a\"],[0.8888888888888888,\"#fdca26\"],[1.0,\"#f0f921\"]]}],\"contourcarpet\":[{\"type\":\"contourcarpet\",\"colorbar\":{\"outlinewidth\":0,\"ticks\":\"\"}}],\"contour\":[{\"type\":\"contour\",\"colorbar\":{\"outlinewidth\":0,\"ticks\":\"\"},\"colorscale\":[[0.0,\"#0d0887\"],[0.1111111111111111,\"#46039f\"],[0.2222222222222222,\"#7201a8\"],[0.3333333333333333,\"#9c179e\"],[0.4444444444444444,\"#bd3786\"],[0.5555555555555556,\"#d8576b\"],[0.6666666666666666,\"#ed7953\"],[0.7777777777777778,\"#fb9f3a\"],[0.8888888888888888,\"#fdca26\"],[1.0,\"#f0f921\"]]}],\"surface\":[{\"type\":\"surface\",\"colorbar\":{\"outlinewidth\":0,\"ticks\":\"\"},\"colorscale\":[[0.0,\"#0d0887\"],[0.1111111111111111,\"#46039f\"],[0.2222222222222222,\"#7201a8\"],[0.3333333333333333,\"#9c179e\"],[0.4444444444444444,\"#bd3786\"],[0.5555555555555556,\"#d8576b\"],[0.6666666666666666,\"#ed7953\"],[0.7777777777777778,\"#fb9f3a\"],[0.8888888888888888,\"#fdca26\"],[1.0,\"#f0f921\"]]}],\"mesh3d\":[{\"type\":\"mesh3d\",\"colorbar\":{\"outlinewidth\":0,\"ticks\":\"\"}}],\"scatter\":[{\"fillpattern\":{\"fillmode\":\"overlay\",\"size\":10,\"solidity\":0.2},\"type\":\"scatter\"}],\"parcoords\":[{\"type\":\"parcoords\",\"line\":{\"colorbar\":{\"outlinewidth\":0,\"ticks\":\"\"}}}],\"scatterpolargl\":[{\"type\":\"scatterpolargl\",\"marker\":{\"colorbar\":{\"outlinewidth\":0,\"ticks\":\"\"}}}],\"bar\":[{\"error_x\":{\"color\":\"#2a3f5f\"},\"error_y\":{\"color\":\"#2a3f5f\"},\"marker\":{\"line\":{\"color\":\"#E5ECF6\",\"width\":0.5},\"pattern\":{\"fillmode\":\"overlay\",\"size\":10,\"solidity\":0.2}},\"type\":\"bar\"}],\"scattergeo\":[{\"type\":\"scattergeo\",\"marker\":{\"colorbar\":{\"outlinewidth\":0,\"ticks\":\"\"}}}],\"scatterpolar\":[{\"type\":\"scatterpolar\",\"marker\":{\"colorbar\":{\"outlinewidth\":0,\"ticks\":\"\"}}}],\"histogram\":[{\"marker\":{\"pattern\":{\"fillmode\":\"overlay\",\"size\":10,\"solidity\":0.2}},\"type\":\"histogram\"}],\"scattergl\":[{\"type\":\"scattergl\",\"marker\":{\"colorbar\":{\"outlinewidth\":0,\"ticks\":\"\"}}}],\"scatter3d\":[{\"type\":\"scatter3d\",\"line\":{\"colorbar\":{\"outlinewidth\":0,\"ticks\":\"\"}},\"marker\":{\"colorbar\":{\"outlinewidth\":0,\"ticks\":\"\"}}}],\"scattermapbox\":[{\"type\":\"scattermapbox\",\"marker\":{\"colorbar\":{\"outlinewidth\":0,\"ticks\":\"\"}}}],\"scatterternary\":[{\"type\":\"scatterternary\",\"marker\":{\"colorbar\":{\"outlinewidth\":0,\"ticks\":\"\"}}}],\"scattercarpet\":[{\"type\":\"scattercarpet\",\"marker\":{\"colorbar\":{\"outlinewidth\":0,\"ticks\":\"\"}}}],\"carpet\":[{\"aaxis\":{\"endlinecolor\":\"#2a3f5f\",\"gridcolor\":\"white\",\"linecolor\":\"white\",\"minorgridcolor\":\"white\",\"startlinecolor\":\"#2a3f5f\"},\"baxis\":{\"endlinecolor\":\"#2a3f5f\",\"gridcolor\":\"white\",\"linecolor\":\"white\",\"minorgridcolor\":\"white\",\"startlinecolor\":\"#2a3f5f\"},\"type\":\"carpet\"}],\"table\":[{\"cells\":{\"fill\":{\"color\":\"#EBF0F8\"},\"line\":{\"color\":\"white\"}},\"header\":{\"fill\":{\"color\":\"#C8D4E3\"},\"line\":{\"color\":\"white\"}},\"type\":\"table\"}],\"barpolar\":[{\"marker\":{\"line\":{\"color\":\"#E5ECF6\",\"width\":0.5},\"pattern\":{\"fillmode\":\"overlay\",\"size\":10,\"solidity\":0.2}},\"type\":\"barpolar\"}],\"pie\":[{\"automargin\":true,\"type\":\"pie\"}]},\"layout\":{\"autotypenumbers\":\"strict\",\"colorway\":[\"#636efa\",\"#EF553B\",\"#00cc96\",\"#ab63fa\",\"#FFA15A\",\"#19d3f3\",\"#FF6692\",\"#B6E880\",\"#FF97FF\",\"#FECB52\"],\"font\":{\"color\":\"#2a3f5f\"},\"hovermode\":\"closest\",\"hoverlabel\":{\"align\":\"left\"},\"paper_bgcolor\":\"white\",\"plot_bgcolor\":\"#E5ECF6\",\"polar\":{\"bgcolor\":\"#E5ECF6\",\"angularaxis\":{\"gridcolor\":\"white\",\"linecolor\":\"white\",\"ticks\":\"\"},\"radialaxis\":{\"gridcolor\":\"white\",\"linecolor\":\"white\",\"ticks\":\"\"}},\"ternary\":{\"bgcolor\":\"#E5ECF6\",\"aaxis\":{\"gridcolor\":\"white\",\"linecolor\":\"white\",\"ticks\":\"\"},\"baxis\":{\"gridcolor\":\"white\",\"linecolor\":\"white\",\"ticks\":\"\"},\"caxis\":{\"gridcolor\":\"white\",\"linecolor\":\"white\",\"ticks\":\"\"}},\"coloraxis\":{\"colorbar\":{\"outlinewidth\":0,\"ticks\":\"\"}},\"colorscale\":{\"sequential\":[[0.0,\"#0d0887\"],[0.1111111111111111,\"#46039f\"],[0.2222222222222222,\"#7201a8\"],[0.3333333333333333,\"#9c179e\"],[0.4444444444444444,\"#bd3786\"],[0.5555555555555556,\"#d8576b\"],[0.6666666666666666,\"#ed7953\"],[0.7777777777777778,\"#fb9f3a\"],[0.8888888888888888,\"#fdca26\"],[1.0,\"#f0f921\"]],\"sequentialminus\":[[0.0,\"#0d0887\"],[0.1111111111111111,\"#46039f\"],[0.2222222222222222,\"#7201a8\"],[0.3333333333333333,\"#9c179e\"],[0.4444444444444444,\"#bd3786\"],[0.5555555555555556,\"#d8576b\"],[0.6666666666666666,\"#ed7953\"],[0.7777777777777778,\"#fb9f3a\"],[0.8888888888888888,\"#fdca26\"],[1.0,\"#f0f921\"]],\"diverging\":[[0,\"#8e0152\"],[0.1,\"#c51b7d\"],[0.2,\"#de77ae\"],[0.3,\"#f1b6da\"],[0.4,\"#fde0ef\"],[0.5,\"#f7f7f7\"],[0.6,\"#e6f5d0\"],[0.7,\"#b8e186\"],[0.8,\"#7fbc41\"],[0.9,\"#4d9221\"],[1,\"#276419\"]]},\"xaxis\":{\"gridcolor\":\"white\",\"linecolor\":\"white\",\"ticks\":\"\",\"title\":{\"standoff\":15},\"zerolinecolor\":\"white\",\"automargin\":true,\"zerolinewidth\":2},\"yaxis\":{\"gridcolor\":\"white\",\"linecolor\":\"white\",\"ticks\":\"\",\"title\":{\"standoff\":15},\"zerolinecolor\":\"white\",\"automargin\":true,\"zerolinewidth\":2},\"scene\":{\"xaxis\":{\"backgroundcolor\":\"#E5ECF6\",\"gridcolor\":\"white\",\"linecolor\":\"white\",\"showbackground\":true,\"ticks\":\"\",\"zerolinecolor\":\"white\",\"gridwidth\":2},\"yaxis\":{\"backgroundcolor\":\"#E5ECF6\",\"gridcolor\":\"white\",\"linecolor\":\"white\",\"showbackground\":true,\"ticks\":\"\",\"zerolinecolor\":\"white\",\"gridwidth\":2},\"zaxis\":{\"backgroundcolor\":\"#E5ECF6\",\"gridcolor\":\"white\",\"linecolor\":\"white\",\"showbackground\":true,\"ticks\":\"\",\"zerolinecolor\":\"white\",\"gridwidth\":2}},\"shapedefaults\":{\"line\":{\"color\":\"#2a3f5f\"}},\"annotationdefaults\":{\"arrowcolor\":\"#2a3f5f\",\"arrowhead\":0,\"arrowwidth\":1},\"geo\":{\"bgcolor\":\"white\",\"landcolor\":\"#E5ECF6\",\"subunitcolor\":\"white\",\"showland\":true,\"showlakes\":true,\"lakecolor\":\"white\"},\"title\":{\"x\":0.05},\"mapbox\":{\"style\":\"light\"}}},\"xaxis\":{\"anchor\":\"y\",\"domain\":[0.0,1.0],\"title\":{\"text\":\"Age (years)\"}},\"yaxis\":{\"anchor\":\"x\",\"domain\":[0.0,1.0],\"title\":{\"text\":\"Credit Amount\"}},\"legend\":{\"tracegroupgap\":0},\"margin\":{\"t\":60}},                        {\"responsive\": true}                    ).then(function(){\n",
       "                            \n",
       "var gd = document.getElementById('3a48c147-0a5f-4f6c-8446-f1279623ee78');\n",
       "var x = new MutationObserver(function (mutations, observer) {{\n",
       "        var display = window.getComputedStyle(gd).display;\n",
       "        if (!display || display === 'none') {{\n",
       "            console.log([gd, 'removed!']);\n",
       "            Plotly.purge(gd);\n",
       "            observer.disconnect();\n",
       "        }}\n",
       "}});\n",
       "\n",
       "// Listen for the removal of the full notebook cells\n",
       "var notebookContainer = gd.closest('#notebook-container');\n",
       "if (notebookContainer) {{\n",
       "    x.observe(notebookContainer, {childList: true});\n",
       "}}\n",
       "\n",
       "// Listen for the clearing of the current output cell\n",
       "var outputEl = gd.closest('.output');\n",
       "if (outputEl) {{\n",
       "    x.observe(outputEl, {childList: true});\n",
       "}}\n",
       "\n",
       "                        })                };                });            </script>        </div>"
      ]
     },
     "metadata": {},
     "output_type": "display_data"
    }
   ],
   "source": [
    "fig = px.density_contour(df_risk_credit, x='Age (years)', y='Credit Amount')\n",
    "fig.update_traces(contours_coloring=\"fill\", contours_showlabels = True)\n",
    "fig.show()"
   ]
  },
  {
   "cell_type": "code",
   "execution_count": 46,
   "id": "1ef97b37",
   "metadata": {},
   "outputs": [
    {
     "data": {
      "image/png": "[encoded data removed]",
      "text/plain": [
       "<Figure size 432x432 with 3 Axes>"
      ]
     },
     "metadata": {
      "needs_background": "light"
     },
     "output_type": "display_data"
    }
   ],
   "source": [
    "sns.jointplot(x=df_risk_credit['Age (years)'], y=df_risk_credit['Credit Amount'], kind='reg');"
   ]
  },
  {
   "cell_type": "markdown",
   "id": "2db655aa",
   "metadata": {},
   "source": [
    "In that graph we can see the possible correlation of 0.62 being plotted and we can see how the data behaves."
   ]
  },
  {
   "cell_type": "code",
   "execution_count": 49,
   "id": "2124aec6",
   "metadata": {},
   "outputs": [
    {
     "data": {
      "application/vnd.plotly.v1+json": {
       "config": {
        "plotlyServerURL": "https://plot.ly"
       },
       "data": [
        {
         "contours": {
          "coloring": "fill",
          "showlabels": true
         },
         "hovertemplate": "Age (years)=%{x}<br>Duration of Credit (month)=%{y}<br>count=%{z}<extra></extra>",
         "legendgroup": "",
         "line": {
          "color": "#636efa"
         },
         "name": "",
         "showlegend": false,
         "type": "histogram2dcontour",
         "x": [
          21,
          36,
          23,
          39,
          38,
          48,
          39,
          40,
          65,
          23,
          36,
          24,
          31,
          31,
          23,
          44,
          40,
          25,
          36,
          39,
          37,
          49,
          33,
          26,
          44,
          51,
          24,
          37,
          29,
          56,
          47,
          37,
          34,
          28,
          36,
          39,
          38,
          26,
          31,
          41,
          23,
          58,
          36,
          34,
          61,
          23,
          25,
          30,
          33,
          26,
          49,
          23,
          30,
          49,
          41,
          58,
          63,
          27,
          41,
          36,
          44,
          29,
          47,
          45,
          43,
          27,
          52,
          28,
          22,
          60,
          32,
          58,
          39,
          31,
          37,
          24,
          36,
          60,
          30,
          35,
          37,
          51,
          30,
          36,
          63,
          31,
          35,
          34,
          39,
          42,
          27,
          25,
          28,
          59,
          41,
          32,
          23,
          30,
          25,
          41,
          40,
          22,
          34,
          54,
          33,
          31,
          29,
          39,
          38,
          61,
          29,
          49,
          36,
          26,
          35,
          28,
          35,
          28,
          52,
          32,
          30,
          35,
          30,
          43,
          47,
          47,
          24,
          32,
          30,
          36,
          26,
          43,
          41,
          26,
          64,
          33,
          54,
          32,
          39,
          31,
          45,
          64,
          42,
          31,
          25,
          46,
          49,
          49,
          36,
          48,
          42,
          29,
          35,
          38,
          26,
          35,
          23,
          38,
          59,
          28,
          35,
          36,
          25,
          28,
          23,
          48,
          25,
          74,
          24,
          28,
          24,
          24,
          23,
          32,
          31,
          36,
          27,
          44,
          34,
          37,
          23,
          30,
          25,
          33,
          27,
          31,
          50,
          31,
          32,
          28,
          29,
          27,
          24,
          54,
          25,
          35,
          45,
          28,
          35,
          27,
          30,
          40,
          49,
          30,
          24,
          33,
          20,
          23,
          36,
          35,
          29,
          22,
          22,
          74,
          35,
          37,
          31,
          27,
          35,
          45,
          36,
          49,
          35,
          27,
          28,
          43,
          35,
          27,
          36,
          30,
          36,
          39,
          45,
          40,
          25,
          55,
          50,
          64,
          23,
          24,
          47,
          42,
          24,
          32,
          45,
          23,
          24,
          35,
          25,
          26,
          43,
          44,
          38,
          28,
          38,
          26,
          27,
          23,
          52,
          74,
          27,
          35,
          23,
          20,
          34,
          40,
          37,
          36,
          22,
          34,
          50,
          40,
          23,
          53,
          35,
          35,
          54,
          27,
          28,
          49,
          29,
          46,
          20,
          47,
          29,
          54,
          52,
          32,
          51,
          33,
          37,
          20,
          34,
          31,
          30,
          30,
          22,
          34,
          19,
          34,
          45,
          25,
          26,
          33,
          28,
          41,
          36,
          26,
          28,
          39,
          65,
          38,
          41,
          26,
          41,
          45,
          40,
          24,
          31,
          35,
          40,
          28,
          28,
          27,
          31,
          37,
          35,
          46,
          32,
          33,
          33,
          26,
          24,
          25,
          54,
          24,
          48,
          49,
          32,
          55,
          40,
          22,
          38,
          26,
          51,
          38,
          46,
          63,
          30,
          32,
          26,
          34,
          46,
          29,
          42,
          42,
          63,
          32,
          23,
          59,
          61,
          22,
          27,
          26,
          37,
          34,
          57,
          31,
          28,
          24,
          21,
          34,
          29,
          27,
          34,
          27,
          28,
          30,
          22,
          36,
          22,
          26,
          63,
          22,
          36,
          24,
          30,
          43,
          37,
          26,
          33,
          66,
          50,
          35,
          25,
          25,
          33,
          30,
          41,
          32,
          32,
          39,
          23,
          26,
          32,
          40,
          30,
          27,
          36,
          29,
          64,
          32,
          35,
          44,
          42,
          29,
          57,
          27,
          29,
          44,
          28,
          40,
          68,
          52,
          46,
          52,
          32,
          34,
          23,
          33,
          26,
          55,
          27,
          28,
          57,
          36,
          31,
          24,
          43,
          40,
          23,
          26,
          30,
          40,
          56,
          50,
          36,
          21,
          32,
          66,
          66,
          39,
          70,
          24,
          22,
          27,
          29,
          35,
          29,
          26,
          60,
          40,
          23,
          45,
          24,
          55,
          30,
          35,
          24,
          47,
          47,
          25,
          37,
          33,
          31,
          27,
          47,
          25,
          57,
          67,
          48,
          40,
          32,
          49,
          35,
          27,
          35,
          37,
          26,
          45,
          33,
          42,
          31,
          46,
          54,
          26,
          29,
          43,
          38,
          35,
          28,
          27,
          51,
          33,
          38,
          30,
          38,
          46,
          33,
          43,
          24,
          56,
          37,
          22,
          20,
          29,
          36,
          37,
          44,
          23,
          28,
          26,
          29,
          21,
          34,
          31,
          40,
          27,
          32,
          25,
          42,
          43,
          44,
          32,
          27,
          20,
          37,
          42,
          46,
          33,
          22,
          41,
          37,
          27,
          42,
          26,
          26,
          27,
          22,
          37,
          30,
          49,
          27,
          40,
          20,
          26,
          30,
          33,
          26,
          35,
          44,
          27,
          24,
          47,
          26,
          23,
          31,
          52,
          43,
          37,
          26,
          35,
          30,
          34,
          35,
          48,
          42,
          40,
          23,
          30,
          24,
          33,
          31,
          22,
          53,
          34,
          36,
          37,
          25,
          34,
          27,
          51,
          23,
          29,
          32,
          28,
          38,
          65,
          39,
          29,
          26,
          30,
          75,
          21,
          41,
          25,
          35,
          37,
          26,
          30,
          23,
          42,
          30,
          46,
          29,
          29,
          38,
          30,
          31,
          47,
          48,
          27,
          66,
          29,
          75,
          36,
          38,
          46,
          36,
          55,
          25,
          45,
          28,
          30,
          39,
          22,
          60,
          28,
          24,
          63,
          46,
          33,
          44,
          58,
          54,
          43,
          52,
          32,
          41,
          34,
          48,
          38,
          38,
          53,
          38,
          42,
          38,
          64,
          35,
          26,
          33,
          29,
          20,
          28,
          47,
          49,
          45,
          23,
          25,
          34,
          23,
          32,
          26,
          44,
          26,
          28,
          25,
          48,
          35,
          28,
          23,
          40,
          36,
          50,
          24,
          40,
          31,
          29,
          45,
          32,
          21,
          27,
          22,
          46,
          24,
          21,
          36,
          28,
          27,
          57,
          47,
          34,
          23,
          57,
          67,
          36,
          20,
          36,
          37,
          31,
          62,
          65,
          36,
          41,
          26,
          27,
          50,
          54,
          27,
          24,
          50,
          40,
          28,
          31,
          27,
          21,
          31,
          39,
          30,
          27,
          55,
          34,
          23,
          23,
          42,
          62,
          37,
          46,
          38,
          31,
          31,
          61,
          20,
          63,
          24,
          21,
          36,
          44,
          67,
          51,
          30,
          28,
          32,
          28,
          23,
          33,
          60,
          48,
          24,
          27,
          28,
          65,
          29,
          42,
          47,
          22,
          25,
          32,
          29,
          24,
          30,
          27,
          47,
          24,
          24,
          34,
          40,
          44,
          33,
          40,
          49,
          48,
          57,
          24,
          29,
          35,
          32,
          61,
          36,
          25,
          26,
          25,
          55,
          53,
          66,
          61,
          34,
          33,
          29,
          38,
          35,
          32,
          25,
          33,
          23,
          24,
          28,
          63,
          39,
          35,
          23,
          36,
          23,
          24,
          74,
          22,
          48,
          26,
          24,
          19,
          27,
          29,
          32,
          25,
          29,
          47,
          34,
          43,
          30,
          22,
          42,
          26,
          27,
          26,
          32,
          23,
          36,
          43,
          39,
          26,
          40,
          31,
          29,
          29,
          39,
          23,
          30,
          60,
          50,
          47,
          21,
          24,
          31,
          37,
          43,
          46,
          30,
          31,
          34,
          33,
          38,
          24,
          23,
          31,
          27,
          39,
          25,
          28,
          27,
          25,
          54,
          25,
          22,
          28,
          34,
          28,
          28,
          31,
          22,
          40,
          25,
          34,
          42,
          25,
          28,
          24,
          27,
          25,
          35,
          29,
          27,
          24,
          25,
          33,
          34,
          38,
          41,
          21,
          36,
          27,
          31,
          33,
          57,
          42,
          26,
          24,
          44,
          23,
          43,
          53,
          53,
          35,
          26,
          31,
          23,
          22,
          20,
          25,
          24,
          46,
          27,
          46,
          23,
          50,
          26,
          20,
          31,
          21,
          39,
          25,
          30,
          37,
          46,
          36,
          43,
          33,
          29,
          36,
          23,
          42,
          44,
          41,
          41,
          37,
          57,
          34,
          25,
          53,
          32,
          33,
          24,
          28,
          39,
          24,
          26,
          55,
          61,
          21,
          26,
          22,
          68,
          22,
          58,
          23,
          37,
          26,
          27,
          26,
          23,
          40,
          33,
          42,
          37,
          29,
          23,
          34,
          32,
          68,
          25,
          35,
          22,
          28,
          30,
          25,
          34,
          42,
          45,
          20,
          23,
          20,
          27,
          44,
          51,
          33,
          28,
          21,
          45,
          30,
          52,
          31
         ],
         "xaxis": "x",
         "xbingroup": "x",
         "y": [
          18,
          9,
          12,
          12,
          12,
          10,
          8,
          6,
          18,
          24,
          11,
          30,
          6,
          48,
          18,
          6,
          11,
          18,
          36,
          11,
          6,
          12,
          36,
          12,
          6,
          11,
          12,
          9,
          15,
          42,
          30,
          36,
          36,
          24,
          15,
          6,
          12,
          12,
          18,
          24,
          12,
          24,
          18,
          24,
          18,
          18,
          24,
          18,
          24,
          24,
          12,
          36,
          9,
          12,
          24,
          12,
          12,
          15,
          21,
          36,
          12,
          24,
          48,
          36,
          12,
          6,
          12,
          24,
          12,
          24,
          21,
          30,
          36,
          24,
          12,
          9,
          21,
          24,
          21,
          15,
          24,
          36,
          18,
          15,
          15,
          12,
          24,
          36,
          6,
          24,
          12,
          30,
          30,
          9,
          18,
          27,
          12,
          36,
          9,
          42,
          24,
          15,
          24,
          36,
          24,
          24,
          12,
          18,
          24,
          12,
          15,
          6,
          12,
          12,
          21,
          18,
          9,
          24,
          9,
          24,
          36,
          36,
          6,
          15,
          15,
          24,
          15,
          6,
          18,
          24,
          24,
          18,
          6,
          18,
          10,
          6,
          12,
          24,
          6,
          24,
          36,
          9,
          24,
          9,
          36,
          21,
          24,
          12,
          12,
          24,
          12,
          12,
          48,
          24,
          12,
          24,
          12,
          30,
          48,
          12,
          12,
          24,
          24,
          15,
          15,
          9,
          30,
          24,
          15,
          6,
          36,
          12,
          12,
          24,
          12,
          24,
          24,
          12,
          18,
          48,
          9,
          18,
          30,
          30,
          9,
          36,
          12,
          24,
          36,
          21,
          24,
          36,
          48,
          24,
          12,
          33,
          6,
          18,
          12,
          48,
          30,
          28,
          18,
          24,
          21,
          18,
          12,
          15,
          48,
          9,
          4,
          24,
          24,
          6,
          9,
          10,
          10,
          6,
          47,
          10,
          18,
          30,
          24,
          27,
          18,
          24,
          18,
          14,
          21,
          48,
          24,
          6,
          39,
          30,
          12,
          24,
          21,
          24,
          4,
          39,
          15,
          60,
          18,
          18,
          6,
          24,
          18,
          24,
          15,
          21,
          18,
          18,
          12,
          36,
          36,
          15,
          15,
          10,
          10,
          5,
          15,
          11,
          10,
          9,
          12,
          22,
          9,
          36,
          12,
          15,
          6,
          36,
          6,
          24,
          24,
          12,
          15,
          21,
          24,
          9,
          6,
          12,
          12,
          21,
          21,
          6,
          6,
          9,
          9,
          15,
          12,
          15,
          6,
          6,
          15,
          36,
          9,
          6,
          12,
          18,
          12,
          24,
          24,
          9,
          9,
          24,
          6,
          6,
          21,
          54,
          12,
          48,
          6,
          24,
          6,
          15,
          24,
          12,
          15,
          6,
          10,
          12,
          11,
          10,
          10,
          24,
          10,
          6,
          18,
          18,
          24,
          18,
          6,
          22,
          24,
          24,
          9,
          10,
          10,
          12,
          30,
          24,
          18,
          9,
          12,
          10,
          10,
          10,
          12,
          12,
          10,
          24,
          48,
          12,
          6,
          36,
          24,
          10,
          18,
          15,
          12,
          12,
          6,
          9,
          12,
          12,
          24,
          12,
          15,
          24,
          24,
          24,
          24,
          6,
          21,
          27,
          12,
          27,
          15,
          30,
          18,
          21,
          60,
          9,
          42,
          9,
          9,
          24,
          10,
          24,
          15,
          12,
          6,
          15,
          24,
          9,
          24,
          12,
          12,
          12,
          27,
          12,
          6,
          24,
          18,
          48,
          15,
          9,
          18,
          42,
          13,
          24,
          12,
          24,
          12,
          28,
          11,
          24,
          18,
          15,
          12,
          11,
          16,
          12,
          15,
          12,
          39,
          9,
          12,
          9,
          30,
          12,
          15,
          18,
          12,
          7,
          15,
          6,
          27,
          18,
          21,
          27,
          39,
          15,
          12,
          12,
          6,
          12,
          36,
          9,
          12,
          20,
          10,
          24,
          14,
          60,
          20,
          18,
          24,
          12,
          20,
          18,
          15,
          28,
          12,
          12,
          12,
          15,
          36,
          12,
          18,
          24,
          36,
          15,
          36,
          24,
          18,
          24,
          12,
          18,
          27,
          18,
          24,
          12,
          12,
          12,
          18,
          18,
          12,
          12,
          18,
          12,
          18,
          24,
          12,
          24,
          6,
          24,
          12,
          12,
          24,
          24,
          6,
          24,
          24,
          6,
          12,
          24,
          24,
          6,
          6,
          6,
          24,
          30,
          15,
          24,
          24,
          36,
          24,
          36,
          36,
          36,
          6,
          18,
          12,
          36,
          12,
          12,
          18,
          18,
          4,
          24,
          12,
          18,
          18,
          24,
          4,
          4,
          7,
          18,
          9,
          48,
          12,
          18,
          4,
          8,
          30,
          10,
          12,
          12,
          12,
          12,
          12,
          10,
          11,
          33,
          48,
          12,
          24,
          14,
          20,
          18,
          60,
          24,
          30,
          24,
          36,
          6,
          12,
          48,
          12,
          36,
          26,
          30,
          36,
          48,
          36,
          12,
          33,
          42,
          24,
          24,
          24,
          12,
          12,
          24,
          18,
          36,
          18,
          12,
          12,
          8,
          36,
          24,
          30,
          36,
          12,
          21,
          30,
          36,
          36,
          24,
          6,
          12,
          36,
          15,
          6,
          6,
          48,
          24,
          12,
          12,
          12,
          15,
          24,
          12,
          30,
          18,
          30,
          12,
          24,
          24,
          12,
          12,
          24,
          6,
          12,
          18,
          6,
          12,
          15,
          42,
          24,
          36,
          36,
          24,
          12,
          13,
          20,
          24,
          36,
          42,
          24,
          48,
          24,
          36,
          24,
          48,
          30,
          18,
          24,
          6,
          12,
          24,
          48,
          18,
          24,
          6,
          7,
          6,
          8,
          12,
          12,
          6,
          8,
          12,
          7,
          13,
          18,
          7,
          13,
          18,
          18,
          8,
          12,
          6,
          9,
          18,
          15,
          6,
          10,
          12,
          20,
          15,
          12,
          24,
          10,
          36,
          18,
          24,
          60,
          12,
          6,
          15,
          12,
          60,
          12,
          24,
          45,
          24,
          36,
          36,
          18,
          30,
          6,
          15,
          24,
          30,
          48,
          48,
          24,
          42,
          36,
          9,
          6,
          36,
          48,
          24,
          18,
          72,
          48,
          15,
          21,
          36,
          24,
          18,
          21,
          12,
          36,
          60,
          42,
          60,
          15,
          15,
          36,
          6,
          9,
          18,
          15,
          20,
          12,
          12,
          24,
          30,
          30,
          6,
          24,
          24,
          9,
          24,
          36,
          9,
          9,
          24,
          6,
          15,
          24,
          12,
          30,
          36,
          48,
          18,
          21,
          60,
          24,
          9,
          39,
          18,
          9,
          15,
          24,
          9,
          18,
          36,
          36,
          36,
          18,
          6,
          18,
          15,
          30,
          24,
          36,
          6,
          12,
          24,
          6,
          15,
          24,
          24,
          15,
          15,
          24,
          12,
          30,
          36,
          18,
          21,
          24,
          24,
          24,
          24,
          24,
          18,
          12,
          24,
          18,
          60,
          24,
          6,
          48,
          60,
          18,
          18,
          9,
          18,
          10,
          12,
          8,
          9,
          48,
          36,
          24,
          21,
          24,
          6,
          48,
          12,
          12,
          48,
          36,
          36,
          36,
          36,
          6,
          24,
          18,
          24,
          18,
          12,
          36,
          18,
          12,
          24,
          24,
          27,
          30,
          60,
          36,
          36,
          45,
          12,
          24,
          24,
          18,
          48,
          24,
          36,
          42,
          12,
          48,
          48,
          12,
          18,
          40,
          15,
          12,
          36,
          12,
          24,
          48,
          36,
          18,
          36,
          24,
          30,
          30,
          48,
          9,
          24,
          18,
          9,
          48,
          15,
          15,
          48,
          24,
          36,
          24,
          36,
          60,
          36,
          12,
          18,
          24,
          18,
          21,
          27,
          27,
          10,
          24,
          12,
          36,
          18,
          18,
          18,
          18,
          30,
          24,
          48,
          24,
          12,
          42,
          36,
          24,
          18,
          12,
          12,
          48,
          48,
          24,
          12,
          24,
          27,
          21,
          18,
          24,
          12,
          48,
          48,
          18,
          12,
          12,
          12,
          16,
          20,
          9,
          18,
          24,
          36,
          48,
          12,
          12,
          36,
          12,
          15,
          10,
          30,
          18,
          12,
          45,
          12,
          21,
          48,
          12,
          18,
          21,
          30,
          30,
          24,
          18,
          12,
          54,
          24,
          15,
          48,
          24,
          18,
          45,
          21,
          48,
          27,
          18,
          45,
          6,
          30,
          48,
          6,
          12,
          12,
          24,
          18,
          48,
          18,
          48,
          12,
          14,
          12,
          18,
          24,
          18,
          24,
          18,
          18,
          12,
          24,
          24,
          21,
          12,
          30
         ],
         "yaxis": "y",
         "ybingroup": "y"
        }
       ],
       "layout": {
        "legend": {
         "tracegroupgap": 0
        },
        "margin": {
         "t": 60
        },
        "template": {
         "data": {
          "bar": [
           {
            "error_x": {
             "color": "#2a3f5f"
            },
            "error_y": {
             "color": "#2a3f5f"
            },
            "marker": {
             "line": {
              "color": "#E5ECF6",
              "width": 0.5
             },
             "pattern": {
              "fillmode": "overlay",
              "size": 10,
              "solidity": 0.2
             }
            },
            "type": "bar"
           }
          ],
          "barpolar": [
           {
            "marker": {
             "line": {
              "color": "#E5ECF6",
              "width": 0.5
             },
             "pattern": {
              "fillmode": "overlay",
              "size": 10,
              "solidity": 0.2
             }
            },
            "type": "barpolar"
           }
          ],
          "carpet": [
           {
            "aaxis": {
             "endlinecolor": "#2a3f5f",
             "gridcolor": "white",
             "linecolor": "white",
             "minorgridcolor": "white",
             "startlinecolor": "#2a3f5f"
            },
            "baxis": {
             "endlinecolor": "#2a3f5f",
             "gridcolor": "white",
             "linecolor": "white",
             "minorgridcolor": "white",
             "startlinecolor": "#2a3f5f"
            },
            "type": "carpet"
           }
          ],
          "choropleth": [
           {
            "colorbar": {
             "outlinewidth": 0,
             "ticks": ""
            },
            "type": "choropleth"
           }
          ],
          "contour": [
           {
            "colorbar": {
             "outlinewidth": 0,
             "ticks": ""
            },
            "colorscale": [
             [
              0,
              "#0d0887"
             ],
             [
              0.1111111111111111,
              "#46039f"
             ],
             [
              0.2222222222222222,
              "#7201a8"
             ],
             [
              0.3333333333333333,
              "#9c179e"
             ],
             [
              0.4444444444444444,
              "#bd3786"
             ],
             [
              0.5555555555555556,
              "#d8576b"
             ],
             [
              0.6666666666666666,
              "#ed7953"
             ],
             [
              0.7777777777777778,
              "#fb9f3a"
             ],
             [
              0.8888888888888888,
              "#fdca26"
             ],
             [
              1,
              "#f0f921"
             ]
            ],
            "type": "contour"
           }
          ],
          "contourcarpet": [
           {
            "colorbar": {
             "outlinewidth": 0,
             "ticks": ""
            },
            "type": "contourcarpet"
           }
          ],
          "heatmap": [
           {
            "colorbar": {
             "outlinewidth": 0,
             "ticks": ""
            },
            "colorscale": [
             [
              0,
              "#0d0887"
             ],
             [
              0.1111111111111111,
              "#46039f"
             ],
             [
              0.2222222222222222,
              "#7201a8"
             ],
             [
              0.3333333333333333,
              "#9c179e"
             ],
             [
              0.4444444444444444,
              "#bd3786"
             ],
             [
              0.5555555555555556,
              "#d8576b"
             ],
             [
              0.6666666666666666,
              "#ed7953"
             ],
             [
              0.7777777777777778,
              "#fb9f3a"
             ],
             [
              0.8888888888888888,
              "#fdca26"
             ],
             [
              1,
              "#f0f921"
             ]
            ],
            "type": "heatmap"
           }
          ],
          "heatmapgl": [
           {
            "colorbar": {
             "outlinewidth": 0,
             "ticks": ""
            },
            "colorscale": [
             [
              0,
              "#0d0887"
             ],
             [
              0.1111111111111111,
              "#46039f"
             ],
             [
              0.2222222222222222,
              "#7201a8"
             ],
             [
              0.3333333333333333,
              "#9c179e"
             ],
             [
              0.4444444444444444,
              "#bd3786"
             ],
             [
              0.5555555555555556,
              "#d8576b"
             ],
             [
              0.6666666666666666,
              "#ed7953"
             ],
             [
              0.7777777777777778,
              "#fb9f3a"
             ],
             [
              0.8888888888888888,
              "#fdca26"
             ],
             [
              1,
              "#f0f921"
             ]
            ],
            "type": "heatmapgl"
           }
          ],
          "histogram": [
           {
            "marker": {
             "pattern": {
              "fillmode": "overlay",
              "size": 10,
              "solidity": 0.2
             }
            },
            "type": "histogram"
           }
          ],
          "histogram2d": [
           {
            "colorbar": {
             "outlinewidth": 0,
             "ticks": ""
            },
            "colorscale": [
             [
              0,
              "#0d0887"
             ],
             [
              0.1111111111111111,
              "#46039f"
             ],
             [
              0.2222222222222222,
              "#7201a8"
             ],
             [
              0.3333333333333333,
              "#9c179e"
             ],
             [
              0.4444444444444444,
              "#bd3786"
             ],
             [
              0.5555555555555556,
              "#d8576b"
             ],
             [
              0.6666666666666666,
              "#ed7953"
             ],
             [
              0.7777777777777778,
              "#fb9f3a"
             ],
             [
              0.8888888888888888,
              "#fdca26"
             ],
             [
              1,
              "#f0f921"
             ]
            ],
            "type": "histogram2d"
           }
          ],
          "histogram2dcontour": [
           {
            "colorbar": {
             "outlinewidth": 0,
             "ticks": ""
            },
            "colorscale": [
             [
              0,
              "#0d0887"
             ],
             [
              0.1111111111111111,
              "#46039f"
             ],
             [
              0.2222222222222222,
              "#7201a8"
             ],
             [
              0.3333333333333333,
              "#9c179e"
             ],
             [
              0.4444444444444444,
              "#bd3786"
             ],
             [
              0.5555555555555556,
              "#d8576b"
             ],
             [
              0.6666666666666666,
              "#ed7953"
             ],
             [
              0.7777777777777778,
              "#fb9f3a"
             ],
             [
              0.8888888888888888,
              "#fdca26"
             ],
             [
              1,
              "#f0f921"
             ]
            ],
            "type": "histogram2dcontour"
           }
          ],
          "mesh3d": [
           {
            "colorbar": {
             "outlinewidth": 0,
             "ticks": ""
            },
            "type": "mesh3d"
           }
          ],
          "parcoords": [
           {
            "line": {
             "colorbar": {
              "outlinewidth": 0,
              "ticks": ""
             }
            },
            "type": "parcoords"
           }
          ],
          "pie": [
           {
            "automargin": true,
            "type": "pie"
           }
          ],
          "scatter": [
           {
            "fillpattern": {
             "fillmode": "overlay",
             "size": 10,
             "solidity": 0.2
            },
            "type": "scatter"
           }
          ],
          "scatter3d": [
           {
            "line": {
             "colorbar": {
              "outlinewidth": 0,
              "ticks": ""
             }
            },
            "marker": {
             "colorbar": {
              "outlinewidth": 0,
              "ticks": ""
             }
            },
            "type": "scatter3d"
           }
          ],
          "scattercarpet": [
           {
            "marker": {
             "colorbar": {
              "outlinewidth": 0,
              "ticks": ""
             }
            },
            "type": "scattercarpet"
           }
          ],
          "scattergeo": [
           {
            "marker": {
             "colorbar": {
              "outlinewidth": 0,
              "ticks": ""
             }
            },
            "type": "scattergeo"
           }
          ],
          "scattergl": [
           {
            "marker": {
             "colorbar": {
              "outlinewidth": 0,
              "ticks": ""
             }
            },
            "type": "scattergl"
           }
          ],
          "scattermapbox": [
           {
            "marker": {
             "colorbar": {
              "outlinewidth": 0,
              "ticks": ""
             }
            },
            "type": "scattermapbox"
           }
          ],
          "scatterpolar": [
           {
            "marker": {
             "colorbar": {
              "outlinewidth": 0,
              "ticks": ""
             }
            },
            "type": "scatterpolar"
           }
          ],
          "scatterpolargl": [
           {
            "marker": {
             "colorbar": {
              "outlinewidth": 0,
              "ticks": ""
             }
            },
            "type": "scatterpolargl"
           }
          ],
          "scatterternary": [
           {
            "marker": {
             "colorbar": {
              "outlinewidth": 0,
              "ticks": ""
             }
            },
            "type": "scatterternary"
           }
          ],
          "surface": [
           {
            "colorbar": {
             "outlinewidth": 0,
             "ticks": ""
            },
            "colorscale": [
             [
              0,
              "#0d0887"
             ],
             [
              0.1111111111111111,
              "#46039f"
             ],
             [
              0.2222222222222222,
              "#7201a8"
             ],
             [
              0.3333333333333333,
              "#9c179e"
             ],
             [
              0.4444444444444444,
              "#bd3786"
             ],
             [
              0.5555555555555556,
              "#d8576b"
             ],
             [
              0.6666666666666666,
              "#ed7953"
             ],
             [
              0.7777777777777778,
              "#fb9f3a"
             ],
             [
              0.8888888888888888,
              "#fdca26"
             ],
             [
              1,
              "#f0f921"
             ]
            ],
            "type": "surface"
           }
          ],
          "table": [
           {
            "cells": {
             "fill": {
              "color": "#EBF0F8"
             },
             "line": {
              "color": "white"
             }
            },
            "header": {
             "fill": {
              "color": "#C8D4E3"
             },
             "line": {
              "color": "white"
             }
            },
            "type": "table"
           }
          ]
         },
         "layout": {
          "annotationdefaults": {
           "arrowcolor": "#2a3f5f",
           "arrowhead": 0,
           "arrowwidth": 1
          },
          "autotypenumbers": "strict",
          "coloraxis": {
           "colorbar": {
            "outlinewidth": 0,
            "ticks": ""
           }
          },
          "colorscale": {
           "diverging": [
            [
             0,
             "#8e0152"
            ],
            [
             0.1,
             "#c51b7d"
            ],
            [
             0.2,
             "#de77ae"
            ],
            [
             0.3,
             "#f1b6da"
            ],
            [
             0.4,
             "#fde0ef"
            ],
            [
             0.5,
             "#f7f7f7"
            ],
            [
             0.6,
             "#e6f5d0"
            ],
            [
             0.7,
             "#b8e186"
            ],
            [
             0.8,
             "#7fbc41"
            ],
            [
             0.9,
             "#4d9221"
            ],
            [
             1,
             "#276419"
            ]
           ],
           "sequential": [
            [
             0,
             "#0d0887"
            ],
            [
             0.1111111111111111,
             "#46039f"
            ],
            [
             0.2222222222222222,
             "#7201a8"
            ],
            [
             0.3333333333333333,
             "#9c179e"
            ],
            [
             0.4444444444444444,
             "#bd3786"
            ],
            [
             0.5555555555555556,
             "#d8576b"
            ],
            [
             0.6666666666666666,
             "#ed7953"
            ],
            [
             0.7777777777777778,
             "#fb9f3a"
            ],
            [
             0.8888888888888888,
             "#fdca26"
            ],
            [
             1,
             "#f0f921"
            ]
           ],
           "sequentialminus": [
            [
             0,
             "#0d0887"
            ],
            [
             0.1111111111111111,
             "#46039f"
            ],
            [
             0.2222222222222222,
             "#7201a8"
            ],
            [
             0.3333333333333333,
             "#9c179e"
            ],
            [
             0.4444444444444444,
             "#bd3786"
            ],
            [
             0.5555555555555556,
             "#d8576b"
            ],
            [
             0.6666666666666666,
             "#ed7953"
            ],
            [
             0.7777777777777778,
             "#fb9f3a"
            ],
            [
             0.8888888888888888,
             "#fdca26"
            ],
            [
             1,
             "#f0f921"
            ]
           ]
          },
          "colorway": [
           "#636efa",
           "#EF553B",
           "#00cc96",
           "#ab63fa",
           "#FFA15A",
           "#19d3f3",
           "#FF6692",
           "#B6E880",
           "#FF97FF",
           "#FECB52"
          ],
          "font": {
           "color": "#2a3f5f"
          },
          "geo": {
           "bgcolor": "white",
           "lakecolor": "white",
           "landcolor": "#E5ECF6",
           "showlakes": true,
           "showland": true,
           "subunitcolor": "white"
          },
          "hoverlabel": {
           "align": "left"
          },
          "hovermode": "closest",
          "mapbox": {
           "style": "light"
          },
          "paper_bgcolor": "white",
          "plot_bgcolor": "#E5ECF6",
          "polar": {
           "angularaxis": {
            "gridcolor": "white",
            "linecolor": "white",
            "ticks": ""
           },
           "bgcolor": "#E5ECF6",
           "radialaxis": {
            "gridcolor": "white",
            "linecolor": "white",
            "ticks": ""
           }
          },
          "scene": {
           "xaxis": {
            "backgroundcolor": "#E5ECF6",
            "gridcolor": "white",
            "gridwidth": 2,
            "linecolor": "white",
            "showbackground": true,
            "ticks": "",
            "zerolinecolor": "white"
           },
           "yaxis": {
            "backgroundcolor": "#E5ECF6",
            "gridcolor": "white",
            "gridwidth": 2,
            "linecolor": "white",
            "showbackground": true,
            "ticks": "",
            "zerolinecolor": "white"
           },
           "zaxis": {
            "backgroundcolor": "#E5ECF6",
            "gridcolor": "white",
            "gridwidth": 2,
            "linecolor": "white",
            "showbackground": true,
            "ticks": "",
            "zerolinecolor": "white"
           }
          },
          "shapedefaults": {
           "line": {
            "color": "#2a3f5f"
           }
          },
          "ternary": {
           "aaxis": {
            "gridcolor": "white",
            "linecolor": "white",
            "ticks": ""
           },
           "baxis": {
            "gridcolor": "white",
            "linecolor": "white",
            "ticks": ""
           },
           "bgcolor": "#E5ECF6",
           "caxis": {
            "gridcolor": "white",
            "linecolor": "white",
            "ticks": ""
           }
          },
          "title": {
           "x": 0.05
          },
          "xaxis": {
           "automargin": true,
           "gridcolor": "white",
           "linecolor": "white",
           "ticks": "",
           "title": {
            "standoff": 15
           },
           "zerolinecolor": "white",
           "zerolinewidth": 2
          },
          "yaxis": {
           "automargin": true,
           "gridcolor": "white",
           "linecolor": "white",
           "ticks": "",
           "title": {
            "standoff": 15
           },
           "zerolinecolor": "white",
           "zerolinewidth": 2
          }
         }
        },
        "xaxis": {
         "anchor": "y",
         "domain": [
          0,
          1
         ],
         "title": {
          "text": "Age (years)"
         }
        },
        "yaxis": {
         "anchor": "x",
         "domain": [
          0,
          1
         ],
         "title": {
          "text": "Duration of Credit (month)"
         }
        }
       }
      },
      "text/html": [
       "<div>                            <div id=\"9ecee27e-1044-47d7-8a68-19fb08cab9bc\" class=\"plotly-graph-div\" style=\"height:525px; width:100%;\"></div>            <script type=\"text/javascript\">                require([\"plotly\"], function(Plotly) {                    window.PLOTLYENV=window.PLOTLYENV || {};                                    if (document.getElementById(\"9ecee27e-1044-47d7-8a68-19fb08cab9bc\")) {                    Plotly.newPlot(                        \"9ecee27e-1044-47d7-8a68-19fb08cab9bc\",                        [{\"contours\":{\"coloring\":\"fill\",\"showlabels\":true},\"hovertemplate\":\"Age (years)=%{x}<br>Duration of Credit (month)=%{y}<br>count=%{z}<extra></extra>\",\"legendgroup\":\"\",\"line\":{\"color\":\"#636efa\"},\"name\":\"\",\"showlegend\":false,\"x\":[21,36,23,39,38,48,39,40,65,23,36,24,31,31,23,44,40,25,36,39,37,49,33,26,44,51,24,37,29,56,47,37,34,28,36,39,38,26,31,41,23,58,36,34,61,23,25,30,33,26,49,23,30,49,41,58,63,27,41,36,44,29,47,45,43,27,52,28,22,60,32,58,39,31,37,24,36,60,30,35,37,51,30,36,63,31,35,34,39,42,27,25,28,59,41,32,23,30,25,41,40,22,34,54,33,31,29,39,38,61,29,49,36,26,35,28,35,28,52,32,30,35,30,43,47,47,24,32,30,36,26,43,41,26,64,33,54,32,39,31,45,64,42,31,25,46,49,49,36,48,42,29,35,38,26,35,23,38,59,28,35,36,25,28,23,48,25,74,24,28,24,24,23,32,31,36,27,44,34,37,23,30,25,33,27,31,50,31,32,28,29,27,24,54,25,35,45,28,35,27,30,40,49,30,24,33,20,23,36,35,29,22,22,74,35,37,31,27,35,45,36,49,35,27,28,43,35,27,36,30,36,39,45,40,25,55,50,64,23,24,47,42,24,32,45,23,24,35,25,26,43,44,38,28,38,26,27,23,52,74,27,35,23,20,34,40,37,36,22,34,50,40,23,53,35,35,54,27,28,49,29,46,20,47,29,54,52,32,51,33,37,20,34,31,30,30,22,34,19,34,45,25,26,33,28,41,36,26,28,39,65,38,41,26,41,45,40,24,31,35,40,28,28,27,31,37,35,46,32,33,33,26,24,25,54,24,48,49,32,55,40,22,38,26,51,38,46,63,30,32,26,34,46,29,42,42,63,32,23,59,61,22,27,26,37,34,57,31,28,24,21,34,29,27,34,27,28,30,22,36,22,26,63,22,36,24,30,43,37,26,33,66,50,35,25,25,33,30,41,32,32,39,23,26,32,40,30,27,36,29,64,32,35,44,42,29,57,27,29,44,28,40,68,52,46,52,32,34,23,33,26,55,27,28,57,36,31,24,43,40,23,26,30,40,56,50,36,21,32,66,66,39,70,24,22,27,29,35,29,26,60,40,23,45,24,55,30,35,24,47,47,25,37,33,31,27,47,25,57,67,48,40,32,49,35,27,35,37,26,45,33,42,31,46,54,26,29,43,38,35,28,27,51,33,38,30,38,46,33,43,24,56,37,22,20,29,36,37,44,23,28,26,29,21,34,31,40,27,32,25,42,43,44,32,27,20,37,42,46,33,22,41,37,27,42,26,26,27,22,37,30,49,27,40,20,26,30,33,26,35,44,27,24,47,26,23,31,52,43,37,26,35,30,34,35,48,42,40,23,30,24,33,31,22,53,34,36,37,25,34,27,51,23,29,32,28,38,65,39,29,26,30,75,21,41,25,35,37,26,30,23,42,30,46,29,29,38,30,31,47,48,27,66,29,75,36,38,46,36,55,25,45,28,30,39,22,60,28,24,63,46,33,44,58,54,43,52,32,41,34,48,38,38,53,38,42,38,64,35,26,33,29,20,28,47,49,45,23,25,34,23,32,26,44,26,28,25,48,35,28,23,40,36,50,24,40,31,29,45,32,21,27,22,46,24,21,36,28,27,57,47,34,23,57,67,36,20,36,37,31,62,65,36,41,26,27,50,54,27,24,50,40,28,31,27,21,31,39,30,27,55,34,23,23,42,62,37,46,38,31,31,61,20,63,24,21,36,44,67,51,30,28,32,28,23,33,60,48,24,27,28,65,29,42,47,22,25,32,29,24,30,27,47,24,24,34,40,44,33,40,49,48,57,24,29,35,32,61,36,25,26,25,55,53,66,61,34,33,29,38,35,32,25,33,23,24,28,63,39,35,23,36,23,24,74,22,48,26,24,19,27,29,32,25,29,47,34,43,30,22,42,26,27,26,32,23,36,43,39,26,40,31,29,29,39,23,30,60,50,47,21,24,31,37,43,46,30,31,34,33,38,24,23,31,27,39,25,28,27,25,54,25,22,28,34,28,28,31,22,40,25,34,42,25,28,24,27,25,35,29,27,24,25,33,34,38,41,21,36,27,31,33,57,42,26,24,44,23,43,53,53,35,26,31,23,22,20,25,24,46,27,46,23,50,26,20,31,21,39,25,30,37,46,36,43,33,29,36,23,42,44,41,41,37,57,34,25,53,32,33,24,28,39,24,26,55,61,21,26,22,68,22,58,23,37,26,27,26,23,40,33,42,37,29,23,34,32,68,25,35,22,28,30,25,34,42,45,20,23,20,27,44,51,33,28,21,45,30,52,31],\"xaxis\":\"x\",\"xbingroup\":\"x\",\"y\":[18,9,12,12,12,10,8,6,18,24,11,30,6,48,18,6,11,18,36,11,6,12,36,12,6,11,12,9,15,42,30,36,36,24,15,6,12,12,18,24,12,24,18,24,18,18,24,18,24,24,12,36,9,12,24,12,12,15,21,36,12,24,48,36,12,6,12,24,12,24,21,30,36,24,12,9,21,24,21,15,24,36,18,15,15,12,24,36,6,24,12,30,30,9,18,27,12,36,9,42,24,15,24,36,24,24,12,18,24,12,15,6,12,12,21,18,9,24,9,24,36,36,6,15,15,24,15,6,18,24,24,18,6,18,10,6,12,24,6,24,36,9,24,9,36,21,24,12,12,24,12,12,48,24,12,24,12,30,48,12,12,24,24,15,15,9,30,24,15,6,36,12,12,24,12,24,24,12,18,48,9,18,30,30,9,36,12,24,36,21,24,36,48,24,12,33,6,18,12,48,30,28,18,24,21,18,12,15,48,9,4,24,24,6,9,10,10,6,47,10,18,30,24,27,18,24,18,14,21,48,24,6,39,30,12,24,21,24,4,39,15,60,18,18,6,24,18,24,15,21,18,18,12,36,36,15,15,10,10,5,15,11,10,9,12,22,9,36,12,15,6,36,6,24,24,12,15,21,24,9,6,12,12,21,21,6,6,9,9,15,12,15,6,6,15,36,9,6,12,18,12,24,24,9,9,24,6,6,21,54,12,48,6,24,6,15,24,12,15,6,10,12,11,10,10,24,10,6,18,18,24,18,6,22,24,24,9,10,10,12,30,24,18,9,12,10,10,10,12,12,10,24,48,12,6,36,24,10,18,15,12,12,6,9,12,12,24,12,15,24,24,24,24,6,21,27,12,27,15,30,18,21,60,9,42,9,9,24,10,24,15,12,6,15,24,9,24,12,12,12,27,12,6,24,18,48,15,9,18,42,13,24,12,24,12,28,11,24,18,15,12,11,16,12,15,12,39,9,12,9,30,12,15,18,12,7,15,6,27,18,21,27,39,15,12,12,6,12,36,9,12,20,10,24,14,60,20,18,24,12,20,18,15,28,12,12,12,15,36,12,18,24,36,15,36,24,18,24,12,18,27,18,24,12,12,12,18,18,12,12,18,12,18,24,12,24,6,24,12,12,24,24,6,24,24,6,12,24,24,6,6,6,24,30,15,24,24,36,24,36,36,36,6,18,12,36,12,12,18,18,4,24,12,18,18,24,4,4,7,18,9,48,12,18,4,8,30,10,12,12,12,12,12,10,11,33,48,12,24,14,20,18,60,24,30,24,36,6,12,48,12,36,26,30,36,48,36,12,33,42,24,24,24,12,12,24,18,36,18,12,12,8,36,24,30,36,12,21,30,36,36,24,6,12,36,15,6,6,48,24,12,12,12,15,24,12,30,18,30,12,24,24,12,12,24,6,12,18,6,12,15,42,24,36,36,24,12,13,20,24,36,42,24,48,24,36,24,48,30,18,24,6,12,24,48,18,24,6,7,6,8,12,12,6,8,12,7,13,18,7,13,18,18,8,12,6,9,18,15,6,10,12,20,15,12,24,10,36,18,24,60,12,6,15,12,60,12,24,45,24,36,36,18,30,6,15,24,30,48,48,24,42,36,9,6,36,48,24,18,72,48,15,21,36,24,18,21,12,36,60,42,60,15,15,36,6,9,18,15,20,12,12,24,30,30,6,24,24,9,24,36,9,9,24,6,15,24,12,30,36,48,18,21,60,24,9,39,18,9,15,24,9,18,36,36,36,18,6,18,15,30,24,36,6,12,24,6,15,24,24,15,15,24,12,30,36,18,21,24,24,24,24,24,18,12,24,18,60,24,6,48,60,18,18,9,18,10,12,8,9,48,36,24,21,24,6,48,12,12,48,36,36,36,36,6,24,18,24,18,12,36,18,12,24,24,27,30,60,36,36,45,12,24,24,18,48,24,36,42,12,48,48,12,18,40,15,12,36,12,24,48,36,18,36,24,30,30,48,9,24,18,9,48,15,15,48,24,36,24,36,60,36,12,18,24,18,21,27,27,10,24,12,36,18,18,18,18,30,24,48,24,12,42,36,24,18,12,12,48,48,24,12,24,27,21,18,24,12,48,48,18,12,12,12,16,20,9,18,24,36,48,12,12,36,12,15,10,30,18,12,45,12,21,48,12,18,21,30,30,24,18,12,54,24,15,48,24,18,45,21,48,27,18,45,6,30,48,6,12,12,24,18,48,18,48,12,14,12,18,24,18,24,18,18,12,24,24,21,12,30],\"yaxis\":\"y\",\"ybingroup\":\"y\",\"type\":\"histogram2dcontour\"}],                        {\"template\":{\"data\":{\"histogram2dcontour\":[{\"type\":\"histogram2dcontour\",\"colorbar\":{\"outlinewidth\":0,\"ticks\":\"\"},\"colorscale\":[[0.0,\"#0d0887\"],[0.1111111111111111,\"#46039f\"],[0.2222222222222222,\"#7201a8\"],[0.3333333333333333,\"#9c179e\"],[0.4444444444444444,\"#bd3786\"],[0.5555555555555556,\"#d8576b\"],[0.6666666666666666,\"#ed7953\"],[0.7777777777777778,\"#fb9f3a\"],[0.8888888888888888,\"#fdca26\"],[1.0,\"#f0f921\"]]}],\"choropleth\":[{\"type\":\"choropleth\",\"colorbar\":{\"outlinewidth\":0,\"ticks\":\"\"}}],\"histogram2d\":[{\"type\":\"histogram2d\",\"colorbar\":{\"outlinewidth\":0,\"ticks\":\"\"},\"colorscale\":[[0.0,\"#0d0887\"],[0.1111111111111111,\"#46039f\"],[0.2222222222222222,\"#7201a8\"],[0.3333333333333333,\"#9c179e\"],[0.4444444444444444,\"#bd3786\"],[0.5555555555555556,\"#d8576b\"],[0.6666666666666666,\"#ed7953\"],[0.7777777777777778,\"#fb9f3a\"],[0.8888888888888888,\"#fdca26\"],[1.0,\"#f0f921\"]]}],\"heatmap\":[{\"type\":\"heatmap\",\"colorbar\":{\"outlinewidth\":0,\"ticks\":\"\"},\"colorscale\":[[0.0,\"#0d0887\"],[0.1111111111111111,\"#46039f\"],[0.2222222222222222,\"#7201a8\"],[0.3333333333333333,\"#9c179e\"],[0.4444444444444444,\"#bd3786\"],[0.5555555555555556,\"#d8576b\"],[0.6666666666666666,\"#ed7953\"],[0.7777777777777778,\"#fb9f3a\"],[0.8888888888888888,\"#fdca26\"],[1.0,\"#f0f921\"]]}],\"heatmapgl\":[{\"type\":\"heatmapgl\",\"colorbar\":{\"outlinewidth\":0,\"ticks\":\"\"},\"colorscale\":[[0.0,\"#0d0887\"],[0.1111111111111111,\"#46039f\"],[0.2222222222222222,\"#7201a8\"],[0.3333333333333333,\"#9c179e\"],[0.4444444444444444,\"#bd3786\"],[0.5555555555555556,\"#d8576b\"],[0.6666666666666666,\"#ed7953\"],[0.7777777777777778,\"#fb9f3a\"],[0.8888888888888888,\"#fdca26\"],[1.0,\"#f0f921\"]]}],\"contourcarpet\":[{\"type\":\"contourcarpet\",\"colorbar\":{\"outlinewidth\":0,\"ticks\":\"\"}}],\"contour\":[{\"type\":\"contour\",\"colorbar\":{\"outlinewidth\":0,\"ticks\":\"\"},\"colorscale\":[[0.0,\"#0d0887\"],[0.1111111111111111,\"#46039f\"],[0.2222222222222222,\"#7201a8\"],[0.3333333333333333,\"#9c179e\"],[0.4444444444444444,\"#bd3786\"],[0.5555555555555556,\"#d8576b\"],[0.6666666666666666,\"#ed7953\"],[0.7777777777777778,\"#fb9f3a\"],[0.8888888888888888,\"#fdca26\"],[1.0,\"#f0f921\"]]}],\"surface\":[{\"type\":\"surface\",\"colorbar\":{\"outlinewidth\":0,\"ticks\":\"\"},\"colorscale\":[[0.0,\"#0d0887\"],[0.1111111111111111,\"#46039f\"],[0.2222222222222222,\"#7201a8\"],[0.3333333333333333,\"#9c179e\"],[0.4444444444444444,\"#bd3786\"],[0.5555555555555556,\"#d8576b\"],[0.6666666666666666,\"#ed7953\"],[0.7777777777777778,\"#fb9f3a\"],[0.8888888888888888,\"#fdca26\"],[1.0,\"#f0f921\"]]}],\"mesh3d\":[{\"type\":\"mesh3d\",\"colorbar\":{\"outlinewidth\":0,\"ticks\":\"\"}}],\"scatter\":[{\"fillpattern\":{\"fillmode\":\"overlay\",\"size\":10,\"solidity\":0.2},\"type\":\"scatter\"}],\"parcoords\":[{\"type\":\"parcoords\",\"line\":{\"colorbar\":{\"outlinewidth\":0,\"ticks\":\"\"}}}],\"scatterpolargl\":[{\"type\":\"scatterpolargl\",\"marker\":{\"colorbar\":{\"outlinewidth\":0,\"ticks\":\"\"}}}],\"bar\":[{\"error_x\":{\"color\":\"#2a3f5f\"},\"error_y\":{\"color\":\"#2a3f5f\"},\"marker\":{\"line\":{\"color\":\"#E5ECF6\",\"width\":0.5},\"pattern\":{\"fillmode\":\"overlay\",\"size\":10,\"solidity\":0.2}},\"type\":\"bar\"}],\"scattergeo\":[{\"type\":\"scattergeo\",\"marker\":{\"colorbar\":{\"outlinewidth\":0,\"ticks\":\"\"}}}],\"scatterpolar\":[{\"type\":\"scatterpolar\",\"marker\":{\"colorbar\":{\"outlinewidth\":0,\"ticks\":\"\"}}}],\"histogram\":[{\"marker\":{\"pattern\":{\"fillmode\":\"overlay\",\"size\":10,\"solidity\":0.2}},\"type\":\"histogram\"}],\"scattergl\":[{\"type\":\"scattergl\",\"marker\":{\"colorbar\":{\"outlinewidth\":0,\"ticks\":\"\"}}}],\"scatter3d\":[{\"type\":\"scatter3d\",\"line\":{\"colorbar\":{\"outlinewidth\":0,\"ticks\":\"\"}},\"marker\":{\"colorbar\":{\"outlinewidth\":0,\"ticks\":\"\"}}}],\"scattermapbox\":[{\"type\":\"scattermapbox\",\"marker\":{\"colorbar\":{\"outlinewidth\":0,\"ticks\":\"\"}}}],\"scatterternary\":[{\"type\":\"scatterternary\",\"marker\":{\"colorbar\":{\"outlinewidth\":0,\"ticks\":\"\"}}}],\"scattercarpet\":[{\"type\":\"scattercarpet\",\"marker\":{\"colorbar\":{\"outlinewidth\":0,\"ticks\":\"\"}}}],\"carpet\":[{\"aaxis\":{\"endlinecolor\":\"#2a3f5f\",\"gridcolor\":\"white\",\"linecolor\":\"white\",\"minorgridcolor\":\"white\",\"startlinecolor\":\"#2a3f5f\"},\"baxis\":{\"endlinecolor\":\"#2a3f5f\",\"gridcolor\":\"white\",\"linecolor\":\"white\",\"minorgridcolor\":\"white\",\"startlinecolor\":\"#2a3f5f\"},\"type\":\"carpet\"}],\"table\":[{\"cells\":{\"fill\":{\"color\":\"#EBF0F8\"},\"line\":{\"color\":\"white\"}},\"header\":{\"fill\":{\"color\":\"#C8D4E3\"},\"line\":{\"color\":\"white\"}},\"type\":\"table\"}],\"barpolar\":[{\"marker\":{\"line\":{\"color\":\"#E5ECF6\",\"width\":0.5},\"pattern\":{\"fillmode\":\"overlay\",\"size\":10,\"solidity\":0.2}},\"type\":\"barpolar\"}],\"pie\":[{\"automargin\":true,\"type\":\"pie\"}]},\"layout\":{\"autotypenumbers\":\"strict\",\"colorway\":[\"#636efa\",\"#EF553B\",\"#00cc96\",\"#ab63fa\",\"#FFA15A\",\"#19d3f3\",\"#FF6692\",\"#B6E880\",\"#FF97FF\",\"#FECB52\"],\"font\":{\"color\":\"#2a3f5f\"},\"hovermode\":\"closest\",\"hoverlabel\":{\"align\":\"left\"},\"paper_bgcolor\":\"white\",\"plot_bgcolor\":\"#E5ECF6\",\"polar\":{\"bgcolor\":\"#E5ECF6\",\"angularaxis\":{\"gridcolor\":\"white\",\"linecolor\":\"white\",\"ticks\":\"\"},\"radialaxis\":{\"gridcolor\":\"white\",\"linecolor\":\"white\",\"ticks\":\"\"}},\"ternary\":{\"bgcolor\":\"#E5ECF6\",\"aaxis\":{\"gridcolor\":\"white\",\"linecolor\":\"white\",\"ticks\":\"\"},\"baxis\":{\"gridcolor\":\"white\",\"linecolor\":\"white\",\"ticks\":\"\"},\"caxis\":{\"gridcolor\":\"white\",\"linecolor\":\"white\",\"ticks\":\"\"}},\"coloraxis\":{\"colorbar\":{\"outlinewidth\":0,\"ticks\":\"\"}},\"colorscale\":{\"sequential\":[[0.0,\"#0d0887\"],[0.1111111111111111,\"#46039f\"],[0.2222222222222222,\"#7201a8\"],[0.3333333333333333,\"#9c179e\"],[0.4444444444444444,\"#bd3786\"],[0.5555555555555556,\"#d8576b\"],[0.6666666666666666,\"#ed7953\"],[0.7777777777777778,\"#fb9f3a\"],[0.8888888888888888,\"#fdca26\"],[1.0,\"#f0f921\"]],\"sequentialminus\":[[0.0,\"#0d0887\"],[0.1111111111111111,\"#46039f\"],[0.2222222222222222,\"#7201a8\"],[0.3333333333333333,\"#9c179e\"],[0.4444444444444444,\"#bd3786\"],[0.5555555555555556,\"#d8576b\"],[0.6666666666666666,\"#ed7953\"],[0.7777777777777778,\"#fb9f3a\"],[0.8888888888888888,\"#fdca26\"],[1.0,\"#f0f921\"]],\"diverging\":[[0,\"#8e0152\"],[0.1,\"#c51b7d\"],[0.2,\"#de77ae\"],[0.3,\"#f1b6da\"],[0.4,\"#fde0ef\"],[0.5,\"#f7f7f7\"],[0.6,\"#e6f5d0\"],[0.7,\"#b8e186\"],[0.8,\"#7fbc41\"],[0.9,\"#4d9221\"],[1,\"#276419\"]]},\"xaxis\":{\"gridcolor\":\"white\",\"linecolor\":\"white\",\"ticks\":\"\",\"title\":{\"standoff\":15},\"zerolinecolor\":\"white\",\"automargin\":true,\"zerolinewidth\":2},\"yaxis\":{\"gridcolor\":\"white\",\"linecolor\":\"white\",\"ticks\":\"\",\"title\":{\"standoff\":15},\"zerolinecolor\":\"white\",\"automargin\":true,\"zerolinewidth\":2},\"scene\":{\"xaxis\":{\"backgroundcolor\":\"#E5ECF6\",\"gridcolor\":\"white\",\"linecolor\":\"white\",\"showbackground\":true,\"ticks\":\"\",\"zerolinecolor\":\"white\",\"gridwidth\":2},\"yaxis\":{\"backgroundcolor\":\"#E5ECF6\",\"gridcolor\":\"white\",\"linecolor\":\"white\",\"showbackground\":true,\"ticks\":\"\",\"zerolinecolor\":\"white\",\"gridwidth\":2},\"zaxis\":{\"backgroundcolor\":\"#E5ECF6\",\"gridcolor\":\"white\",\"linecolor\":\"white\",\"showbackground\":true,\"ticks\":\"\",\"zerolinecolor\":\"white\",\"gridwidth\":2}},\"shapedefaults\":{\"line\":{\"color\":\"#2a3f5f\"}},\"annotationdefaults\":{\"arrowcolor\":\"#2a3f5f\",\"arrowhead\":0,\"arrowwidth\":1},\"geo\":{\"bgcolor\":\"white\",\"landcolor\":\"#E5ECF6\",\"subunitcolor\":\"white\",\"showland\":true,\"showlakes\":true,\"lakecolor\":\"white\"},\"title\":{\"x\":0.05},\"mapbox\":{\"style\":\"light\"}}},\"xaxis\":{\"anchor\":\"y\",\"domain\":[0.0,1.0],\"title\":{\"text\":\"Age (years)\"}},\"yaxis\":{\"anchor\":\"x\",\"domain\":[0.0,1.0],\"title\":{\"text\":\"Duration of Credit (month)\"}},\"legend\":{\"tracegroupgap\":0},\"margin\":{\"t\":60}},                        {\"responsive\": true}                    ).then(function(){\n",
       "                            \n",
       "var gd = document.getElementById('9ecee27e-1044-47d7-8a68-19fb08cab9bc');\n",
       "var x = new MutationObserver(function (mutations, observer) {{\n",
       "        var display = window.getComputedStyle(gd).display;\n",
       "        if (!display || display === 'none') {{\n",
       "            console.log([gd, 'removed!']);\n",
       "            Plotly.purge(gd);\n",
       "            observer.disconnect();\n",
       "        }}\n",
       "}});\n",
       "\n",
       "// Listen for the removal of the full notebook cells\n",
       "var notebookContainer = gd.closest('#notebook-container');\n",
       "if (notebookContainer) {{\n",
       "    x.observe(notebookContainer, {childList: true});\n",
       "}}\n",
       "\n",
       "// Listen for the clearing of the current output cell\n",
       "var outputEl = gd.closest('.output');\n",
       "if (outputEl) {{\n",
       "    x.observe(outputEl, {childList: true});\n",
       "}}\n",
       "\n",
       "                        })                };                });            </script>        </div>"
      ]
     },
     "metadata": {},
     "output_type": "display_data"
    }
   ],
   "source": [
    "fig = px.density_contour(df_risk_credit, x='Age (years)', y='Duration of Credit (month)')\n",
    "fig.update_traces(contours_coloring=\"fill\", contours_showlabels = True)\n",
    "fig.show()"
   ]
  },
  {
   "cell_type": "code",
   "execution_count": 13,
   "id": "6cb5d01b",
   "metadata": {},
   "outputs": [
    {
     "data": {
      "image/png": "[encoded data removed]",
      "text/plain": [
       "<Figure size 432x432 with 3 Axes>"
      ]
     },
     "metadata": {
      "needs_background": "light"
     },
     "output_type": "display_data"
    }
   ],
   "source": [
    "sns.jointplot(x=df_risk_credit['Age (years)'], y=df_risk_credit['Duration of Credit (month)'], kind='reg');"
   ]
  },
  {
   "cell_type": "code",
   "execution_count": 20,
   "id": "42db1d7e",
   "metadata": {},
   "outputs": [
    {
     "data": {
      "image/png": "[encoded data removed]",
      "text/plain": [
       "<Figure size 432x288 with 1 Axes>"
      ]
     },
     "metadata": {
      "needs_background": "light"
     },
     "output_type": "display_data"
    }
   ],
   "source": [
    "sns.countplot(x=df_risk_credit['Creditability']);"
   ]
  },
  {
   "cell_type": "code",
   "execution_count": 41,
   "id": "b83d6c6c",
   "metadata": {},
   "outputs": [
    {
     "data": {
      "application/vnd.plotly.v1+json": {
       "config": {
        "plotlyServerURL": "https://plot.ly"
       },
       "data": [
        {
         "alignmentgroup": "True",
         "bingroup": "x",
         "hovertemplate": "Creditability=1<br>value=%{x}<br>count=%{y}<extra></extra>",
         "legendgroup": "1",
         "marker": {
          "color": "#636efa",
          "pattern": {
           "shape": ""
          }
         },
         "name": "1",
         "offsetgroup": "1",
         "orientation": "v",
         "showlegend": true,
         "type": "histogram",
         "x": [
          4,
          4,
          2,
          4,
          4,
          4,
          4,
          4,
          4,
          2,
          4,
          4,
          4,
          3,
          2,
          2,
          4,
          2,
          4,
          4,
          4,
          4,
          4,
          4,
          3,
          2,
          4,
          2,
          4,
          4,
          4,
          4,
          2,
          2,
          4,
          4,
          4,
          2,
          4,
          4,
          2,
          4,
          4,
          2,
          2,
          2,
          4,
          2,
          2,
          4,
          4,
          2,
          4,
          4,
          2,
          2,
          2,
          4,
          2,
          4,
          3,
          3,
          4,
          2,
          2,
          2,
          3,
          4,
          2,
          2,
          2,
          2,
          2,
          4,
          4,
          4,
          2,
          4,
          4,
          2,
          4,
          4,
          2,
          4,
          3,
          4,
          3,
          4,
          2,
          0,
          2,
          4,
          4,
          4,
          2,
          4,
          4,
          2,
          3,
          3,
          4,
          2,
          4,
          2,
          2,
          4,
          2,
          4,
          2,
          2,
          2,
          4,
          2,
          4,
          2,
          2,
          4,
          2,
          4,
          2,
          4,
          2,
          2,
          2,
          4,
          2,
          2,
          2,
          2,
          2,
          2,
          2,
          1,
          4,
          4,
          2,
          2,
          2,
          4,
          2,
          2,
          2,
          2,
          2,
          4,
          1,
          2,
          4,
          2,
          2,
          4,
          2,
          4,
          4,
          4,
          4,
          2,
          4,
          2,
          4,
          4,
          4,
          4,
          4,
          2,
          2,
          2,
          2,
          2,
          4,
          4,
          2,
          3,
          2,
          4,
          0,
          4,
          2,
          2,
          2,
          2,
          2,
          2,
          2,
          2,
          2,
          2,
          2,
          4,
          4,
          4,
          2,
          1,
          2,
          1,
          1,
          2,
          2,
          2,
          2,
          2,
          1,
          2,
          2,
          1,
          1,
          4,
          2,
          2,
          2,
          2,
          2,
          2,
          1,
          4,
          3,
          3,
          2,
          4,
          2,
          3,
          2,
          1,
          2,
          0,
          2,
          2,
          2,
          2,
          2,
          2,
          2,
          4,
          2,
          2,
          4,
          1,
          2,
          4,
          3,
          2,
          2,
          3,
          3,
          2,
          2,
          4,
          2,
          3,
          4,
          2,
          2,
          2,
          4,
          2,
          2,
          2,
          2,
          2,
          2,
          4,
          1,
          2,
          3,
          2,
          2,
          2,
          1,
          2,
          4,
          2,
          2,
          3,
          2,
          2,
          3,
          2,
          2,
          4,
          2,
          2,
          3,
          4,
          2,
          4,
          3,
          3,
          2,
          2,
          3,
          2,
          3,
          1,
          2,
          2,
          4,
          2,
          2,
          1,
          2,
          0,
          4,
          4,
          4,
          2,
          2,
          2,
          1,
          2,
          4,
          0,
          2,
          2,
          2,
          4,
          2,
          4,
          2,
          4,
          2,
          4,
          4,
          4,
          4,
          2,
          3,
          2,
          4,
          4,
          2,
          2,
          4,
          1,
          4,
          2,
          4,
          2,
          2,
          4,
          4,
          4,
          4,
          2,
          4,
          2,
          4,
          2,
          4,
          2,
          4,
          4,
          2,
          4,
          2,
          2,
          0,
          2,
          0,
          2,
          2,
          2,
          4,
          4,
          2,
          3,
          2,
          3,
          2,
          4,
          2,
          2,
          4,
          2,
          4,
          2,
          2,
          2,
          2,
          2,
          4,
          4,
          4,
          2,
          2,
          3,
          2,
          3,
          2,
          2,
          2,
          2,
          2,
          2,
          2,
          2,
          2,
          2,
          2,
          2,
          3,
          4,
          3,
          4,
          4,
          4,
          4,
          4,
          4,
          2,
          4,
          4,
          2,
          4,
          4,
          3,
          2,
          2,
          4,
          4,
          4,
          4,
          3,
          4,
          3,
          4,
          4,
          4,
          3,
          4,
          2,
          4,
          2,
          4,
          2,
          2,
          2,
          2,
          2,
          4,
          2,
          3,
          3,
          2,
          3,
          2,
          2,
          4,
          2,
          2,
          2,
          2,
          2,
          2,
          2,
          2,
          2,
          2,
          2,
          2,
          2,
          2,
          2,
          4,
          2,
          2,
          2,
          3,
          4,
          4,
          4,
          4,
          4,
          2,
          2,
          2,
          4,
          0,
          4,
          4,
          2,
          2,
          4,
          4,
          2,
          2,
          4,
          2,
          4,
          2,
          4,
          4,
          4,
          4,
          2,
          4,
          2,
          4,
          2,
          2,
          2,
          3,
          2,
          2,
          4,
          4,
          2,
          2,
          2,
          4,
          4,
          4,
          2,
          4,
          2,
          2,
          4,
          4,
          4,
          0,
          2,
          4,
          4,
          2,
          2,
          4,
          2,
          4,
          2,
          4,
          2,
          2,
          2,
          3,
          0,
          2,
          2,
          2,
          4,
          4,
          2,
          3,
          3,
          3,
          4,
          4,
          2,
          2,
          2,
          2,
          1,
          2,
          0,
          2,
          4,
          2,
          2,
          2,
          2,
          4,
          0,
          4,
          2,
          4,
          2,
          4,
          2,
          2,
          4,
          3,
          4,
          2,
          2,
          2,
          2,
          2,
          2,
          2,
          4,
          2,
          4,
          2,
          4,
          4,
          2,
          4,
          4,
          2,
          4,
          2,
          2,
          4,
          2,
          2,
          2,
          2,
          2,
          4,
          4,
          4,
          4,
          0,
          4,
          4,
          2,
          4,
          3,
          3,
          2,
          2,
          2,
          2,
          4,
          3,
          3,
          2,
          2,
          2,
          2,
          2,
          3,
          2,
          4,
          2,
          2,
          4,
          2,
          2,
          2,
          2,
          2,
          2,
          2,
          4,
          4,
          4,
          4,
          2,
          1,
          2,
          3,
          4,
          2,
          4,
          2,
          1,
          2,
          2,
          2,
          2,
          3,
          2,
          3,
          3,
          2,
          4,
          4,
          4,
          3,
          2,
          4,
          2,
          4,
          4,
          4,
          2,
          4,
          4,
          4,
          2,
          0,
          2,
          2,
          3,
          3,
          2,
          2,
          2,
          2,
          4,
          3,
          1,
          2,
          4,
          2,
          2,
          2,
          2,
          4,
          2,
          0,
          2,
          2,
          4,
          2,
          2,
          2,
          4,
          2,
          2,
          3
         ],
         "xaxis": "x",
         "yaxis": "y"
        },
        {
         "alignmentgroup": "True",
         "bingroup": "x",
         "hovertemplate": "Creditability=0<br>value=%{x}<br>count=%{y}<extra></extra>",
         "legendgroup": "0",
         "marker": {
          "color": "#EF553B",
          "pattern": {
           "shape": ""
          }
         },
         "name": "0",
         "offsetgroup": "0",
         "orientation": "v",
         "showlegend": true,
         "type": "histogram",
         "x": [
          2,
          2,
          4,
          3,
          2,
          1,
          2,
          2,
          2,
          4,
          0,
          2,
          4,
          3,
          2,
          2,
          2,
          2,
          4,
          2,
          2,
          2,
          2,
          2,
          2,
          2,
          4,
          2,
          1,
          2,
          2,
          2,
          2,
          4,
          1,
          2,
          2,
          2,
          2,
          2,
          4,
          4,
          4,
          2,
          2,
          1,
          2,
          2,
          2,
          3,
          2,
          2,
          4,
          2,
          2,
          0,
          4,
          0,
          2,
          4,
          2,
          2,
          0,
          2,
          3,
          2,
          4,
          4,
          1,
          2,
          2,
          2,
          2,
          2,
          3,
          2,
          3,
          4,
          4,
          2,
          4,
          3,
          2,
          1,
          1,
          2,
          1,
          3,
          0,
          4,
          0,
          2,
          1,
          2,
          3,
          0,
          2,
          4,
          2,
          2,
          2,
          2,
          2,
          2,
          2,
          2,
          0,
          3,
          2,
          1,
          2,
          2,
          2,
          2,
          1,
          3,
          2,
          2,
          2,
          2,
          2,
          3,
          2,
          2,
          3,
          3,
          0,
          4,
          2,
          2,
          0,
          3,
          3,
          2,
          2,
          2,
          0,
          2,
          1,
          2,
          2,
          4,
          2,
          2,
          4,
          4,
          3,
          1,
          2,
          2,
          2,
          1,
          4,
          4,
          2,
          2,
          1,
          2,
          2,
          2,
          2,
          2,
          2,
          4,
          4,
          4,
          2,
          2,
          2,
          2,
          2,
          4,
          2,
          3,
          1,
          4,
          4,
          2,
          2,
          1,
          2,
          0,
          2,
          1,
          2,
          2,
          2,
          4,
          2,
          2,
          2,
          4,
          2,
          2,
          3,
          2,
          3,
          2,
          2,
          2,
          2,
          2,
          3,
          2,
          0,
          4,
          1,
          2,
          3,
          0,
          3,
          4,
          3,
          1,
          0,
          2,
          2,
          0,
          0,
          4,
          1,
          1,
          2,
          0,
          3,
          2,
          1,
          2,
          2,
          0,
          4,
          2,
          2,
          2,
          4,
          4,
          2,
          4,
          2,
          3,
          4,
          2,
          2,
          2,
          2,
          1,
          2,
          1,
          1,
          4,
          4,
          4,
          2,
          4,
          1,
          4,
          2,
          2,
          0,
          2,
          2,
          2,
          0,
          2,
          2,
          2,
          3,
          2,
          2,
          1,
          2,
          0,
          2,
          0,
          2,
          2,
          0,
          2,
          2,
          2,
          2,
          3,
          4,
          2,
          2,
          4,
          2,
          2,
          2,
          2,
          2,
          2,
          2,
          4,
          0,
          2,
          2,
          4,
          2,
          2
         ],
         "xaxis": "x",
         "yaxis": "y"
        }
       ],
       "layout": {
        "barmode": "relative",
        "legend": {
         "title": {
          "text": "Creditability"
         },
         "tracegroupgap": 0
        },
        "margin": {
         "t": 60
        },
        "template": {
         "data": {
          "bar": [
           {
            "error_x": {
             "color": "#2a3f5f"
            },
            "error_y": {
             "color": "#2a3f5f"
            },
            "marker": {
             "line": {
              "color": "#E5ECF6",
              "width": 0.5
             },
             "pattern": {
              "fillmode": "overlay",
              "size": 10,
              "solidity": 0.2
             }
            },
            "type": "bar"
           }
          ],
          "barpolar": [
           {
            "marker": {
             "line": {
              "color": "#E5ECF6",
              "width": 0.5
             },
             "pattern": {
              "fillmode": "overlay",
              "size": 10,
              "solidity": 0.2
             }
            },
            "type": "barpolar"
           }
          ],
          "carpet": [
           {
            "aaxis": {
             "endlinecolor": "#2a3f5f",
             "gridcolor": "white",
             "linecolor": "white",
             "minorgridcolor": "white",
             "startlinecolor": "#2a3f5f"
            },
            "baxis": {
             "endlinecolor": "#2a3f5f",
             "gridcolor": "white",
             "linecolor": "white",
             "minorgridcolor": "white",
             "startlinecolor": "#2a3f5f"
            },
            "type": "carpet"
           }
          ],
          "choropleth": [
           {
            "colorbar": {
             "outlinewidth": 0,
             "ticks": ""
            },
            "type": "choropleth"
           }
          ],
          "contour": [
           {
            "colorbar": {
             "outlinewidth": 0,
             "ticks": ""
            },
            "colorscale": [
             [
              0,
              "#0d0887"
             ],
             [
              0.1111111111111111,
              "#46039f"
             ],
             [
              0.2222222222222222,
              "#7201a8"
             ],
             [
              0.3333333333333333,
              "#9c179e"
             ],
             [
              0.4444444444444444,
              "#bd3786"
             ],
             [
              0.5555555555555556,
              "#d8576b"
             ],
             [
              0.6666666666666666,
              "#ed7953"
             ],
             [
              0.7777777777777778,
              "#fb9f3a"
             ],
             [
              0.8888888888888888,
              "#fdca26"
             ],
             [
              1,
              "#f0f921"
             ]
            ],
            "type": "contour"
           }
          ],
          "contourcarpet": [
           {
            "colorbar": {
             "outlinewidth": 0,
             "ticks": ""
            },
            "type": "contourcarpet"
           }
          ],
          "heatmap": [
           {
            "colorbar": {
             "outlinewidth": 0,
             "ticks": ""
            },
            "colorscale": [
             [
              0,
              "#0d0887"
             ],
             [
              0.1111111111111111,
              "#46039f"
             ],
             [
              0.2222222222222222,
              "#7201a8"
             ],
             [
              0.3333333333333333,
              "#9c179e"
             ],
             [
              0.4444444444444444,
              "#bd3786"
             ],
             [
              0.5555555555555556,
              "#d8576b"
             ],
             [
              0.6666666666666666,
              "#ed7953"
             ],
             [
              0.7777777777777778,
              "#fb9f3a"
             ],
             [
              0.8888888888888888,
              "#fdca26"
             ],
             [
              1,
              "#f0f921"
             ]
            ],
            "type": "heatmap"
           }
          ],
          "heatmapgl": [
           {
            "colorbar": {
             "outlinewidth": 0,
             "ticks": ""
            },
            "colorscale": [
             [
              0,
              "#0d0887"
             ],
             [
              0.1111111111111111,
              "#46039f"
             ],
             [
              0.2222222222222222,
              "#7201a8"
             ],
             [
              0.3333333333333333,
              "#9c179e"
             ],
             [
              0.4444444444444444,
              "#bd3786"
             ],
             [
              0.5555555555555556,
              "#d8576b"
             ],
             [
              0.6666666666666666,
              "#ed7953"
             ],
             [
              0.7777777777777778,
              "#fb9f3a"
             ],
             [
              0.8888888888888888,
              "#fdca26"
             ],
             [
              1,
              "#f0f921"
             ]
            ],
            "type": "heatmapgl"
           }
          ],
          "histogram": [
           {
            "marker": {
             "pattern": {
              "fillmode": "overlay",
              "size": 10,
              "solidity": 0.2
             }
            },
            "type": "histogram"
           }
          ],
          "histogram2d": [
           {
            "colorbar": {
             "outlinewidth": 0,
             "ticks": ""
            },
            "colorscale": [
             [
              0,
              "#0d0887"
             ],
             [
              0.1111111111111111,
              "#46039f"
             ],
             [
              0.2222222222222222,
              "#7201a8"
             ],
             [
              0.3333333333333333,
              "#9c179e"
             ],
             [
              0.4444444444444444,
              "#bd3786"
             ],
             [
              0.5555555555555556,
              "#d8576b"
             ],
             [
              0.6666666666666666,
              "#ed7953"
             ],
             [
              0.7777777777777778,
              "#fb9f3a"
             ],
             [
              0.8888888888888888,
              "#fdca26"
             ],
             [
              1,
              "#f0f921"
             ]
            ],
            "type": "histogram2d"
           }
          ],
          "histogram2dcontour": [
           {
            "colorbar": {
             "outlinewidth": 0,
             "ticks": ""
            },
            "colorscale": [
             [
              0,
              "#0d0887"
             ],
             [
              0.1111111111111111,
              "#46039f"
             ],
             [
              0.2222222222222222,
              "#7201a8"
             ],
             [
              0.3333333333333333,
              "#9c179e"
             ],
             [
              0.4444444444444444,
              "#bd3786"
             ],
             [
              0.5555555555555556,
              "#d8576b"
             ],
             [
              0.6666666666666666,
              "#ed7953"
             ],
             [
              0.7777777777777778,
              "#fb9f3a"
             ],
             [
              0.8888888888888888,
              "#fdca26"
             ],
             [
              1,
              "#f0f921"
             ]
            ],
            "type": "histogram2dcontour"
           }
          ],
          "mesh3d": [
           {
            "colorbar": {
             "outlinewidth": 0,
             "ticks": ""
            },
            "type": "mesh3d"
           }
          ],
          "parcoords": [
           {
            "line": {
             "colorbar": {
              "outlinewidth": 0,
              "ticks": ""
             }
            },
            "type": "parcoords"
           }
          ],
          "pie": [
           {
            "automargin": true,
            "type": "pie"
           }
          ],
          "scatter": [
           {
            "fillpattern": {
             "fillmode": "overlay",
             "size": 10,
             "solidity": 0.2
            },
            "type": "scatter"
           }
          ],
          "scatter3d": [
           {
            "line": {
             "colorbar": {
              "outlinewidth": 0,
              "ticks": ""
             }
            },
            "marker": {
             "colorbar": {
              "outlinewidth": 0,
              "ticks": ""
             }
            },
            "type": "scatter3d"
           }
          ],
          "scattercarpet": [
           {
            "marker": {
             "colorbar": {
              "outlinewidth": 0,
              "ticks": ""
             }
            },
            "type": "scattercarpet"
           }
          ],
          "scattergeo": [
           {
            "marker": {
             "colorbar": {
              "outlinewidth": 0,
              "ticks": ""
             }
            },
            "type": "scattergeo"
           }
          ],
          "scattergl": [
           {
            "marker": {
             "colorbar": {
              "outlinewidth": 0,
              "ticks": ""
             }
            },
            "type": "scattergl"
           }
          ],
          "scattermapbox": [
           {
            "marker": {
             "colorbar": {
              "outlinewidth": 0,
              "ticks": ""
             }
            },
            "type": "scattermapbox"
           }
          ],
          "scatterpolar": [
           {
            "marker": {
             "colorbar": {
              "outlinewidth": 0,
              "ticks": ""
             }
            },
            "type": "scatterpolar"
           }
          ],
          "scatterpolargl": [
           {
            "marker": {
             "colorbar": {
              "outlinewidth": 0,
              "ticks": ""
             }
            },
            "type": "scatterpolargl"
           }
          ],
          "scatterternary": [
           {
            "marker": {
             "colorbar": {
              "outlinewidth": 0,
              "ticks": ""
             }
            },
            "type": "scatterternary"
           }
          ],
          "surface": [
           {
            "colorbar": {
             "outlinewidth": 0,
             "ticks": ""
            },
            "colorscale": [
             [
              0,
              "#0d0887"
             ],
             [
              0.1111111111111111,
              "#46039f"
             ],
             [
              0.2222222222222222,
              "#7201a8"
             ],
             [
              0.3333333333333333,
              "#9c179e"
             ],
             [
              0.4444444444444444,
              "#bd3786"
             ],
             [
              0.5555555555555556,
              "#d8576b"
             ],
             [
              0.6666666666666666,
              "#ed7953"
             ],
             [
              0.7777777777777778,
              "#fb9f3a"
             ],
             [
              0.8888888888888888,
              "#fdca26"
             ],
             [
              1,
              "#f0f921"
             ]
            ],
            "type": "surface"
           }
          ],
          "table": [
           {
            "cells": {
             "fill": {
              "color": "#EBF0F8"
             },
             "line": {
              "color": "white"
             }
            },
            "header": {
             "fill": {
              "color": "#C8D4E3"
             },
             "line": {
              "color": "white"
             }
            },
            "type": "table"
           }
          ]
         },
         "layout": {
          "annotationdefaults": {
           "arrowcolor": "#2a3f5f",
           "arrowhead": 0,
           "arrowwidth": 1
          },
          "autotypenumbers": "strict",
          "coloraxis": {
           "colorbar": {
            "outlinewidth": 0,
            "ticks": ""
           }
          },
          "colorscale": {
           "diverging": [
            [
             0,
             "#8e0152"
            ],
            [
             0.1,
             "#c51b7d"
            ],
            [
             0.2,
             "#de77ae"
            ],
            [
             0.3,
             "#f1b6da"
            ],
            [
             0.4,
             "#fde0ef"
            ],
            [
             0.5,
             "#f7f7f7"
            ],
            [
             0.6,
             "#e6f5d0"
            ],
            [
             0.7,
             "#b8e186"
            ],
            [
             0.8,
             "#7fbc41"
            ],
            [
             0.9,
             "#4d9221"
            ],
            [
             1,
             "#276419"
            ]
           ],
           "sequential": [
            [
             0,
             "#0d0887"
            ],
            [
             0.1111111111111111,
             "#46039f"
            ],
            [
             0.2222222222222222,
             "#7201a8"
            ],
            [
             0.3333333333333333,
             "#9c179e"
            ],
            [
             0.4444444444444444,
             "#bd3786"
            ],
            [
             0.5555555555555556,
             "#d8576b"
            ],
            [
             0.6666666666666666,
             "#ed7953"
            ],
            [
             0.7777777777777778,
             "#fb9f3a"
            ],
            [
             0.8888888888888888,
             "#fdca26"
            ],
            [
             1,
             "#f0f921"
            ]
           ],
           "sequentialminus": [
            [
             0,
             "#0d0887"
            ],
            [
             0.1111111111111111,
             "#46039f"
            ],
            [
             0.2222222222222222,
             "#7201a8"
            ],
            [
             0.3333333333333333,
             "#9c179e"
            ],
            [
             0.4444444444444444,
             "#bd3786"
            ],
            [
             0.5555555555555556,
             "#d8576b"
            ],
            [
             0.6666666666666666,
             "#ed7953"
            ],
            [
             0.7777777777777778,
             "#fb9f3a"
            ],
            [
             0.8888888888888888,
             "#fdca26"
            ],
            [
             1,
             "#f0f921"
            ]
           ]
          },
          "colorway": [
           "#636efa",
           "#EF553B",
           "#00cc96",
           "#ab63fa",
           "#FFA15A",
           "#19d3f3",
           "#FF6692",
           "#B6E880",
           "#FF97FF",
           "#FECB52"
          ],
          "font": {
           "color": "#2a3f5f"
          },
          "geo": {
           "bgcolor": "white",
           "lakecolor": "white",
           "landcolor": "#E5ECF6",
           "showlakes": true,
           "showland": true,
           "subunitcolor": "white"
          },
          "hoverlabel": {
           "align": "left"
          },
          "hovermode": "closest",
          "mapbox": {
           "style": "light"
          },
          "paper_bgcolor": "white",
          "plot_bgcolor": "#E5ECF6",
          "polar": {
           "angularaxis": {
            "gridcolor": "white",
            "linecolor": "white",
            "ticks": ""
           },
           "bgcolor": "#E5ECF6",
           "radialaxis": {
            "gridcolor": "white",
            "linecolor": "white",
            "ticks": ""
           }
          },
          "scene": {
           "xaxis": {
            "backgroundcolor": "#E5ECF6",
            "gridcolor": "white",
            "gridwidth": 2,
            "linecolor": "white",
            "showbackground": true,
            "ticks": "",
            "zerolinecolor": "white"
           },
           "yaxis": {
            "backgroundcolor": "#E5ECF6",
            "gridcolor": "white",
            "gridwidth": 2,
            "linecolor": "white",
            "showbackground": true,
            "ticks": "",
            "zerolinecolor": "white"
           },
           "zaxis": {
            "backgroundcolor": "#E5ECF6",
            "gridcolor": "white",
            "gridwidth": 2,
            "linecolor": "white",
            "showbackground": true,
            "ticks": "",
            "zerolinecolor": "white"
           }
          },
          "shapedefaults": {
           "line": {
            "color": "#2a3f5f"
           }
          },
          "ternary": {
           "aaxis": {
            "gridcolor": "white",
            "linecolor": "white",
            "ticks": ""
           },
           "baxis": {
            "gridcolor": "white",
            "linecolor": "white",
            "ticks": ""
           },
           "bgcolor": "#E5ECF6",
           "caxis": {
            "gridcolor": "white",
            "linecolor": "white",
            "ticks": ""
           }
          },
          "title": {
           "x": 0.05
          },
          "xaxis": {
           "automargin": true,
           "gridcolor": "white",
           "linecolor": "white",
           "ticks": "",
           "title": {
            "standoff": 15
           },
           "zerolinecolor": "white",
           "zerolinewidth": 2
          },
          "yaxis": {
           "automargin": true,
           "gridcolor": "white",
           "linecolor": "white",
           "ticks": "",
           "title": {
            "standoff": 15
           },
           "zerolinecolor": "white",
           "zerolinewidth": 2
          }
         }
        },
        "xaxis": {
         "anchor": "y",
         "domain": [
          0,
          1
         ],
         "title": {
          "text": "value"
         }
        },
        "yaxis": {
         "anchor": "x",
         "domain": [
          0,
          1
         ],
         "title": {
          "text": "count"
         }
        }
       }
      },
      "text/html": [
       "<div>                            <div id=\"1c5e632a-ecc5-45c8-9bed-e2fe86395042\" class=\"plotly-graph-div\" style=\"height:525px; width:100%;\"></div>            <script type=\"text/javascript\">                require([\"plotly\"], function(Plotly) {                    window.PLOTLYENV=window.PLOTLYENV || {};                                    if (document.getElementById(\"1c5e632a-ecc5-45c8-9bed-e2fe86395042\")) {                    Plotly.newPlot(                        \"1c5e632a-ecc5-45c8-9bed-e2fe86395042\",                        [{\"alignmentgroup\":\"True\",\"bingroup\":\"x\",\"hovertemplate\":\"Creditability=1<br>value=%{x}<br>count=%{y}<extra></extra>\",\"legendgroup\":\"1\",\"marker\":{\"color\":\"#636efa\",\"pattern\":{\"shape\":\"\"}},\"name\":\"1\",\"offsetgroup\":\"1\",\"orientation\":\"v\",\"showlegend\":true,\"x\":[4,4,2,4,4,4,4,4,4,2,4,4,4,3,2,2,4,2,4,4,4,4,4,4,3,2,4,2,4,4,4,4,2,2,4,4,4,2,4,4,2,4,4,2,2,2,4,2,2,4,4,2,4,4,2,2,2,4,2,4,3,3,4,2,2,2,3,4,2,2,2,2,2,4,4,4,2,4,4,2,4,4,2,4,3,4,3,4,2,0,2,4,4,4,2,4,4,2,3,3,4,2,4,2,2,4,2,4,2,2,2,4,2,4,2,2,4,2,4,2,4,2,2,2,4,2,2,2,2,2,2,2,1,4,4,2,2,2,4,2,2,2,2,2,4,1,2,4,2,2,4,2,4,4,4,4,2,4,2,4,4,4,4,4,2,2,2,2,2,4,4,2,3,2,4,0,4,2,2,2,2,2,2,2,2,2,2,2,4,4,4,2,1,2,1,1,2,2,2,2,2,1,2,2,1,1,4,2,2,2,2,2,2,1,4,3,3,2,4,2,3,2,1,2,0,2,2,2,2,2,2,2,4,2,2,4,1,2,4,3,2,2,3,3,2,2,4,2,3,4,2,2,2,4,2,2,2,2,2,2,4,1,2,3,2,2,2,1,2,4,2,2,3,2,2,3,2,2,4,2,2,3,4,2,4,3,3,2,2,3,2,3,1,2,2,4,2,2,1,2,0,4,4,4,2,2,2,1,2,4,0,2,2,2,4,2,4,2,4,2,4,4,4,4,2,3,2,4,4,2,2,4,1,4,2,4,2,2,4,4,4,4,2,4,2,4,2,4,2,4,4,2,4,2,2,0,2,0,2,2,2,4,4,2,3,2,3,2,4,2,2,4,2,4,2,2,2,2,2,4,4,4,2,2,3,2,3,2,2,2,2,2,2,2,2,2,2,2,2,3,4,3,4,4,4,4,4,4,2,4,4,2,4,4,3,2,2,4,4,4,4,3,4,3,4,4,4,3,4,2,4,2,4,2,2,2,2,2,4,2,3,3,2,3,2,2,4,2,2,2,2,2,2,2,2,2,2,2,2,2,2,2,4,2,2,2,3,4,4,4,4,4,2,2,2,4,0,4,4,2,2,4,4,2,2,4,2,4,2,4,4,4,4,2,4,2,4,2,2,2,3,2,2,4,4,2,2,2,4,4,4,2,4,2,2,4,4,4,0,2,4,4,2,2,4,2,4,2,4,2,2,2,3,0,2,2,2,4,4,2,3,3,3,4,4,2,2,2,2,1,2,0,2,4,2,2,2,2,4,0,4,2,4,2,4,2,2,4,3,4,2,2,2,2,2,2,2,4,2,4,2,4,4,2,4,4,2,4,2,2,4,2,2,2,2,2,4,4,4,4,0,4,4,2,4,3,3,2,2,2,2,4,3,3,2,2,2,2,2,3,2,4,2,2,4,2,2,2,2,2,2,2,4,4,4,4,2,1,2,3,4,2,4,2,1,2,2,2,2,3,2,3,3,2,4,4,4,3,2,4,2,4,4,4,2,4,4,4,2,0,2,2,3,3,2,2,2,2,4,3,1,2,4,2,2,2,2,4,2,0,2,2,4,2,2,2,4,2,2,3],\"xaxis\":\"x\",\"yaxis\":\"y\",\"type\":\"histogram\"},{\"alignmentgroup\":\"True\",\"bingroup\":\"x\",\"hovertemplate\":\"Creditability=0<br>value=%{x}<br>count=%{y}<extra></extra>\",\"legendgroup\":\"0\",\"marker\":{\"color\":\"#EF553B\",\"pattern\":{\"shape\":\"\"}},\"name\":\"0\",\"offsetgroup\":\"0\",\"orientation\":\"v\",\"showlegend\":true,\"x\":[2,2,4,3,2,1,2,2,2,4,0,2,4,3,2,2,2,2,4,2,2,2,2,2,2,2,4,2,1,2,2,2,2,4,1,2,2,2,2,2,4,4,4,2,2,1,2,2,2,3,2,2,4,2,2,0,4,0,2,4,2,2,0,2,3,2,4,4,1,2,2,2,2,2,3,2,3,4,4,2,4,3,2,1,1,2,1,3,0,4,0,2,1,2,3,0,2,4,2,2,2,2,2,2,2,2,0,3,2,1,2,2,2,2,1,3,2,2,2,2,2,3,2,2,3,3,0,4,2,2,0,3,3,2,2,2,0,2,1,2,2,4,2,2,4,4,3,1,2,2,2,1,4,4,2,2,1,2,2,2,2,2,2,4,4,4,2,2,2,2,2,4,2,3,1,4,4,2,2,1,2,0,2,1,2,2,2,4,2,2,2,4,2,2,3,2,3,2,2,2,2,2,3,2,0,4,1,2,3,0,3,4,3,1,0,2,2,0,0,4,1,1,2,0,3,2,1,2,2,0,4,2,2,2,4,4,2,4,2,3,4,2,2,2,2,1,2,1,1,4,4,4,2,4,1,4,2,2,0,2,2,2,0,2,2,2,3,2,2,1,2,0,2,0,2,2,0,2,2,2,2,3,4,2,2,4,2,2,2,2,2,2,2,4,0,2,2,4,2,2],\"xaxis\":\"x\",\"yaxis\":\"y\",\"type\":\"histogram\"}],                        {\"template\":{\"data\":{\"histogram2dcontour\":[{\"type\":\"histogram2dcontour\",\"colorbar\":{\"outlinewidth\":0,\"ticks\":\"\"},\"colorscale\":[[0.0,\"#0d0887\"],[0.1111111111111111,\"#46039f\"],[0.2222222222222222,\"#7201a8\"],[0.3333333333333333,\"#9c179e\"],[0.4444444444444444,\"#bd3786\"],[0.5555555555555556,\"#d8576b\"],[0.6666666666666666,\"#ed7953\"],[0.7777777777777778,\"#fb9f3a\"],[0.8888888888888888,\"#fdca26\"],[1.0,\"#f0f921\"]]}],\"choropleth\":[{\"type\":\"choropleth\",\"colorbar\":{\"outlinewidth\":0,\"ticks\":\"\"}}],\"histogram2d\":[{\"type\":\"histogram2d\",\"colorbar\":{\"outlinewidth\":0,\"ticks\":\"\"},\"colorscale\":[[0.0,\"#0d0887\"],[0.1111111111111111,\"#46039f\"],[0.2222222222222222,\"#7201a8\"],[0.3333333333333333,\"#9c179e\"],[0.4444444444444444,\"#bd3786\"],[0.5555555555555556,\"#d8576b\"],[0.6666666666666666,\"#ed7953\"],[0.7777777777777778,\"#fb9f3a\"],[0.8888888888888888,\"#fdca26\"],[1.0,\"#f0f921\"]]}],\"heatmap\":[{\"type\":\"heatmap\",\"colorbar\":{\"outlinewidth\":0,\"ticks\":\"\"},\"colorscale\":[[0.0,\"#0d0887\"],[0.1111111111111111,\"#46039f\"],[0.2222222222222222,\"#7201a8\"],[0.3333333333333333,\"#9c179e\"],[0.4444444444444444,\"#bd3786\"],[0.5555555555555556,\"#d8576b\"],[0.6666666666666666,\"#ed7953\"],[0.7777777777777778,\"#fb9f3a\"],[0.8888888888888888,\"#fdca26\"],[1.0,\"#f0f921\"]]}],\"heatmapgl\":[{\"type\":\"heatmapgl\",\"colorbar\":{\"outlinewidth\":0,\"ticks\":\"\"},\"colorscale\":[[0.0,\"#0d0887\"],[0.1111111111111111,\"#46039f\"],[0.2222222222222222,\"#7201a8\"],[0.3333333333333333,\"#9c179e\"],[0.4444444444444444,\"#bd3786\"],[0.5555555555555556,\"#d8576b\"],[0.6666666666666666,\"#ed7953\"],[0.7777777777777778,\"#fb9f3a\"],[0.8888888888888888,\"#fdca26\"],[1.0,\"#f0f921\"]]}],\"contourcarpet\":[{\"type\":\"contourcarpet\",\"colorbar\":{\"outlinewidth\":0,\"ticks\":\"\"}}],\"contour\":[{\"type\":\"contour\",\"colorbar\":{\"outlinewidth\":0,\"ticks\":\"\"},\"colorscale\":[[0.0,\"#0d0887\"],[0.1111111111111111,\"#46039f\"],[0.2222222222222222,\"#7201a8\"],[0.3333333333333333,\"#9c179e\"],[0.4444444444444444,\"#bd3786\"],[0.5555555555555556,\"#d8576b\"],[0.6666666666666666,\"#ed7953\"],[0.7777777777777778,\"#fb9f3a\"],[0.8888888888888888,\"#fdca26\"],[1.0,\"#f0f921\"]]}],\"surface\":[{\"type\":\"surface\",\"colorbar\":{\"outlinewidth\":0,\"ticks\":\"\"},\"colorscale\":[[0.0,\"#0d0887\"],[0.1111111111111111,\"#46039f\"],[0.2222222222222222,\"#7201a8\"],[0.3333333333333333,\"#9c179e\"],[0.4444444444444444,\"#bd3786\"],[0.5555555555555556,\"#d8576b\"],[0.6666666666666666,\"#ed7953\"],[0.7777777777777778,\"#fb9f3a\"],[0.8888888888888888,\"#fdca26\"],[1.0,\"#f0f921\"]]}],\"mesh3d\":[{\"type\":\"mesh3d\",\"colorbar\":{\"outlinewidth\":0,\"ticks\":\"\"}}],\"scatter\":[{\"fillpattern\":{\"fillmode\":\"overlay\",\"size\":10,\"solidity\":0.2},\"type\":\"scatter\"}],\"parcoords\":[{\"type\":\"parcoords\",\"line\":{\"colorbar\":{\"outlinewidth\":0,\"ticks\":\"\"}}}],\"scatterpolargl\":[{\"type\":\"scatterpolargl\",\"marker\":{\"colorbar\":{\"outlinewidth\":0,\"ticks\":\"\"}}}],\"bar\":[{\"error_x\":{\"color\":\"#2a3f5f\"},\"error_y\":{\"color\":\"#2a3f5f\"},\"marker\":{\"line\":{\"color\":\"#E5ECF6\",\"width\":0.5},\"pattern\":{\"fillmode\":\"overlay\",\"size\":10,\"solidity\":0.2}},\"type\":\"bar\"}],\"scattergeo\":[{\"type\":\"scattergeo\",\"marker\":{\"colorbar\":{\"outlinewidth\":0,\"ticks\":\"\"}}}],\"scatterpolar\":[{\"type\":\"scatterpolar\",\"marker\":{\"colorbar\":{\"outlinewidth\":0,\"ticks\":\"\"}}}],\"histogram\":[{\"marker\":{\"pattern\":{\"fillmode\":\"overlay\",\"size\":10,\"solidity\":0.2}},\"type\":\"histogram\"}],\"scattergl\":[{\"type\":\"scattergl\",\"marker\":{\"colorbar\":{\"outlinewidth\":0,\"ticks\":\"\"}}}],\"scatter3d\":[{\"type\":\"scatter3d\",\"line\":{\"colorbar\":{\"outlinewidth\":0,\"ticks\":\"\"}},\"marker\":{\"colorbar\":{\"outlinewidth\":0,\"ticks\":\"\"}}}],\"scattermapbox\":[{\"type\":\"scattermapbox\",\"marker\":{\"colorbar\":{\"outlinewidth\":0,\"ticks\":\"\"}}}],\"scatterternary\":[{\"type\":\"scatterternary\",\"marker\":{\"colorbar\":{\"outlinewidth\":0,\"ticks\":\"\"}}}],\"scattercarpet\":[{\"type\":\"scattercarpet\",\"marker\":{\"colorbar\":{\"outlinewidth\":0,\"ticks\":\"\"}}}],\"carpet\":[{\"aaxis\":{\"endlinecolor\":\"#2a3f5f\",\"gridcolor\":\"white\",\"linecolor\":\"white\",\"minorgridcolor\":\"white\",\"startlinecolor\":\"#2a3f5f\"},\"baxis\":{\"endlinecolor\":\"#2a3f5f\",\"gridcolor\":\"white\",\"linecolor\":\"white\",\"minorgridcolor\":\"white\",\"startlinecolor\":\"#2a3f5f\"},\"type\":\"carpet\"}],\"table\":[{\"cells\":{\"fill\":{\"color\":\"#EBF0F8\"},\"line\":{\"color\":\"white\"}},\"header\":{\"fill\":{\"color\":\"#C8D4E3\"},\"line\":{\"color\":\"white\"}},\"type\":\"table\"}],\"barpolar\":[{\"marker\":{\"line\":{\"color\":\"#E5ECF6\",\"width\":0.5},\"pattern\":{\"fillmode\":\"overlay\",\"size\":10,\"solidity\":0.2}},\"type\":\"barpolar\"}],\"pie\":[{\"automargin\":true,\"type\":\"pie\"}]},\"layout\":{\"autotypenumbers\":\"strict\",\"colorway\":[\"#636efa\",\"#EF553B\",\"#00cc96\",\"#ab63fa\",\"#FFA15A\",\"#19d3f3\",\"#FF6692\",\"#B6E880\",\"#FF97FF\",\"#FECB52\"],\"font\":{\"color\":\"#2a3f5f\"},\"hovermode\":\"closest\",\"hoverlabel\":{\"align\":\"left\"},\"paper_bgcolor\":\"white\",\"plot_bgcolor\":\"#E5ECF6\",\"polar\":{\"bgcolor\":\"#E5ECF6\",\"angularaxis\":{\"gridcolor\":\"white\",\"linecolor\":\"white\",\"ticks\":\"\"},\"radialaxis\":{\"gridcolor\":\"white\",\"linecolor\":\"white\",\"ticks\":\"\"}},\"ternary\":{\"bgcolor\":\"#E5ECF6\",\"aaxis\":{\"gridcolor\":\"white\",\"linecolor\":\"white\",\"ticks\":\"\"},\"baxis\":{\"gridcolor\":\"white\",\"linecolor\":\"white\",\"ticks\":\"\"},\"caxis\":{\"gridcolor\":\"white\",\"linecolor\":\"white\",\"ticks\":\"\"}},\"coloraxis\":{\"colorbar\":{\"outlinewidth\":0,\"ticks\":\"\"}},\"colorscale\":{\"sequential\":[[0.0,\"#0d0887\"],[0.1111111111111111,\"#46039f\"],[0.2222222222222222,\"#7201a8\"],[0.3333333333333333,\"#9c179e\"],[0.4444444444444444,\"#bd3786\"],[0.5555555555555556,\"#d8576b\"],[0.6666666666666666,\"#ed7953\"],[0.7777777777777778,\"#fb9f3a\"],[0.8888888888888888,\"#fdca26\"],[1.0,\"#f0f921\"]],\"sequentialminus\":[[0.0,\"#0d0887\"],[0.1111111111111111,\"#46039f\"],[0.2222222222222222,\"#7201a8\"],[0.3333333333333333,\"#9c179e\"],[0.4444444444444444,\"#bd3786\"],[0.5555555555555556,\"#d8576b\"],[0.6666666666666666,\"#ed7953\"],[0.7777777777777778,\"#fb9f3a\"],[0.8888888888888888,\"#fdca26\"],[1.0,\"#f0f921\"]],\"diverging\":[[0,\"#8e0152\"],[0.1,\"#c51b7d\"],[0.2,\"#de77ae\"],[0.3,\"#f1b6da\"],[0.4,\"#fde0ef\"],[0.5,\"#f7f7f7\"],[0.6,\"#e6f5d0\"],[0.7,\"#b8e186\"],[0.8,\"#7fbc41\"],[0.9,\"#4d9221\"],[1,\"#276419\"]]},\"xaxis\":{\"gridcolor\":\"white\",\"linecolor\":\"white\",\"ticks\":\"\",\"title\":{\"standoff\":15},\"zerolinecolor\":\"white\",\"automargin\":true,\"zerolinewidth\":2},\"yaxis\":{\"gridcolor\":\"white\",\"linecolor\":\"white\",\"ticks\":\"\",\"title\":{\"standoff\":15},\"zerolinecolor\":\"white\",\"automargin\":true,\"zerolinewidth\":2},\"scene\":{\"xaxis\":{\"backgroundcolor\":\"#E5ECF6\",\"gridcolor\":\"white\",\"linecolor\":\"white\",\"showbackground\":true,\"ticks\":\"\",\"zerolinecolor\":\"white\",\"gridwidth\":2},\"yaxis\":{\"backgroundcolor\":\"#E5ECF6\",\"gridcolor\":\"white\",\"linecolor\":\"white\",\"showbackground\":true,\"ticks\":\"\",\"zerolinecolor\":\"white\",\"gridwidth\":2},\"zaxis\":{\"backgroundcolor\":\"#E5ECF6\",\"gridcolor\":\"white\",\"linecolor\":\"white\",\"showbackground\":true,\"ticks\":\"\",\"zerolinecolor\":\"white\",\"gridwidth\":2}},\"shapedefaults\":{\"line\":{\"color\":\"#2a3f5f\"}},\"annotationdefaults\":{\"arrowcolor\":\"#2a3f5f\",\"arrowhead\":0,\"arrowwidth\":1},\"geo\":{\"bgcolor\":\"white\",\"landcolor\":\"#E5ECF6\",\"subunitcolor\":\"white\",\"showland\":true,\"showlakes\":true,\"lakecolor\":\"white\"},\"title\":{\"x\":0.05},\"mapbox\":{\"style\":\"light\"}}},\"xaxis\":{\"anchor\":\"y\",\"domain\":[0.0,1.0],\"title\":{\"text\":\"value\"}},\"yaxis\":{\"anchor\":\"x\",\"domain\":[0.0,1.0],\"title\":{\"text\":\"count\"}},\"legend\":{\"title\":{\"text\":\"Creditability\"},\"tracegroupgap\":0},\"margin\":{\"t\":60},\"barmode\":\"relative\"},                        {\"responsive\": true}                    ).then(function(){\n",
       "                            \n",
       "var gd = document.getElementById('1c5e632a-ecc5-45c8-9bed-e2fe86395042');\n",
       "var x = new MutationObserver(function (mutations, observer) {{\n",
       "        var display = window.getComputedStyle(gd).display;\n",
       "        if (!display || display === 'none') {{\n",
       "            console.log([gd, 'removed!']);\n",
       "            Plotly.purge(gd);\n",
       "            observer.disconnect();\n",
       "        }}\n",
       "}});\n",
       "\n",
       "// Listen for the removal of the full notebook cells\n",
       "var notebookContainer = gd.closest('#notebook-container');\n",
       "if (notebookContainer) {{\n",
       "    x.observe(notebookContainer, {childList: true});\n",
       "}}\n",
       "\n",
       "// Listen for the clearing of the current output cell\n",
       "var outputEl = gd.closest('.output');\n",
       "if (outputEl) {{\n",
       "    x.observe(outputEl, {childList: true});\n",
       "}}\n",
       "\n",
       "                        })                };                });            </script>        </div>"
      ]
     },
     "metadata": {},
     "output_type": "display_data"
    }
   ],
   "source": [
    "Barplot1 = px.histogram(df_risk_credit, x=['Payment Status of Previous Credit'],color='Creditability')\n",
    "Barplot1.show()"
   ]
  },
  {
   "cell_type": "code",
   "execution_count": 38,
   "id": "bd349f9f",
   "metadata": {},
   "outputs": [
    {
     "data": {
      "application/vnd.plotly.v1+json": {
       "config": {
        "plotlyServerURL": "https://plot.ly"
       },
       "data": [
        {
         "alignmentgroup": "True",
         "bingroup": "x",
         "hovertemplate": "Creditability=1<br>value=%{x}<br>count=%{y}<extra></extra>",
         "legendgroup": "1",
         "marker": {
          "color": "#636efa",
          "pattern": {
           "shape": ""
          }
         },
         "name": "1",
         "offsetgroup": "1",
         "orientation": "v",
         "showlegend": true,
         "type": "histogram",
         "x": [
          2,
          0,
          9,
          0,
          0,
          0,
          0,
          0,
          3,
          3,
          0,
          1,
          3,
          10,
          3,
          3,
          0,
          3,
          3,
          0,
          0,
          0,
          4,
          0,
          3,
          2,
          3,
          0,
          1,
          3,
          0,
          0,
          3,
          0,
          0,
          0,
          3,
          1,
          1,
          5,
          10,
          0,
          9,
          6,
          9,
          0,
          9,
          0,
          3,
          0,
          3,
          1,
          3,
          3,
          3,
          3,
          0,
          0,
          1,
          3,
          0,
          0,
          3,
          3,
          3,
          3,
          0,
          2,
          3,
          3,
          2,
          3,
          2,
          1,
          0,
          0,
          3,
          0,
          3,
          0,
          1,
          2,
          0,
          1,
          3,
          0,
          0,
          0,
          3,
          9,
          3,
          2,
          2,
          3,
          2,
          9,
          2,
          9,
          9,
          0,
          3,
          0,
          9,
          3,
          3,
          6,
          2,
          0,
          2,
          2,
          0,
          2,
          1,
          6,
          2,
          3,
          1,
          3,
          3,
          3,
          3,
          4,
          2,
          0,
          3,
          2,
          2,
          2,
          3,
          0,
          2,
          0,
          0,
          8,
          3,
          3,
          6,
          3,
          2,
          3,
          1,
          1,
          2,
          9,
          3,
          3,
          3,
          1,
          0,
          3,
          3,
          3,
          3,
          2,
          3,
          9,
          2,
          2,
          6,
          0,
          3,
          9,
          2,
          3,
          3,
          3,
          3,
          3,
          3,
          9,
          1,
          9,
          3,
          4,
          0,
          9,
          3,
          9,
          9,
          0,
          3,
          6,
          0,
          3,
          6,
          0,
          0,
          3,
          1,
          0,
          2,
          3,
          9,
          3,
          1,
          3,
          2,
          0,
          9,
          3,
          3,
          0,
          3,
          0,
          2,
          2,
          0,
          0,
          0,
          1,
          0,
          0,
          0,
          3,
          3,
          1,
          1,
          2,
          3,
          0,
          0,
          9,
          9,
          3,
          3,
          1,
          1,
          3,
          2,
          3,
          2,
          1,
          3,
          0,
          9,
          3,
          3,
          1,
          3,
          2,
          5,
          1,
          0,
          5,
          3,
          3,
          1,
          9,
          2,
          2,
          3,
          9,
          2,
          0,
          2,
          2,
          3,
          3,
          3,
          0,
          2,
          3,
          1,
          2,
          5,
          2,
          1,
          8,
          3,
          9,
          3,
          3,
          3,
          2,
          1,
          0,
          3,
          0,
          3,
          3,
          0,
          3,
          6,
          2,
          3,
          9,
          2,
          1,
          2,
          9,
          2,
          3,
          8,
          3,
          2,
          3,
          0,
          2,
          0,
          3,
          1,
          3,
          1,
          0,
          0,
          0,
          1,
          9,
          3,
          3,
          0,
          0,
          3,
          9,
          2,
          0,
          0,
          0,
          0,
          0,
          3,
          6,
          3,
          3,
          0,
          0,
          2,
          5,
          0,
          1,
          1,
          3,
          1,
          1,
          0,
          0,
          3,
          6,
          0,
          0,
          6,
          2,
          0,
          9,
          3,
          1,
          1,
          0,
          0,
          0,
          0,
          2,
          2,
          2,
          3,
          2,
          3,
          8,
          0,
          2,
          9,
          3,
          1,
          4,
          2,
          3,
          1,
          5,
          3,
          2,
          2,
          0,
          0,
          2,
          3,
          0,
          4,
          1,
          1,
          0,
          6,
          3,
          2,
          3,
          3,
          3,
          1,
          0,
          9,
          9,
          1,
          3,
          3,
          10,
          1,
          9,
          9,
          3,
          3,
          9,
          3,
          9,
          3,
          3,
          3,
          1,
          3,
          2,
          3,
          0,
          0,
          0,
          3,
          3,
          6,
          6,
          0,
          3,
          9,
          9,
          9,
          3,
          6,
          3,
          9,
          9,
          2,
          9,
          2,
          3,
          3,
          2,
          3,
          3,
          1,
          3,
          2,
          0,
          6,
          0,
          3,
          10,
          9,
          2,
          1,
          1,
          2,
          1,
          0,
          2,
          1,
          0,
          3,
          6,
          2,
          3,
          9,
          2,
          3,
          8,
          2,
          3,
          6,
          5,
          5,
          2,
          9,
          2,
          2,
          9,
          2,
          2,
          9,
          0,
          3,
          2,
          9,
          3,
          1,
          3,
          3,
          1,
          0,
          3,
          0,
          0,
          3,
          5,
          1,
          3,
          3,
          1,
          2,
          0,
          0,
          6,
          0,
          2,
          0,
          3,
          9,
          3,
          3,
          1,
          3,
          3,
          3,
          3,
          3,
          3,
          1,
          3,
          3,
          3,
          3,
          0,
          0,
          3,
          2,
          3,
          2,
          3,
          9,
          3,
          3,
          0,
          2,
          0,
          6,
          0,
          8,
          2,
          9,
          0,
          2,
          1,
          9,
          0,
          1,
          3,
          9,
          3,
          9,
          0,
          2,
          3,
          0,
          6,
          1,
          2,
          1,
          9,
          1,
          0,
          2,
          3,
          2,
          2,
          10,
          2,
          2,
          2,
          0,
          3,
          2,
          0,
          2,
          2,
          2,
          0,
          1,
          2,
          2,
          2,
          2,
          1,
          0,
          1,
          0,
          0,
          1,
          10,
          1,
          2,
          1,
          2,
          0,
          3,
          8,
          2,
          2,
          2,
          2,
          2,
          0,
          2,
          9,
          2,
          1,
          2,
          9,
          1,
          6,
          10,
          3,
          3,
          9,
          9,
          2,
          3,
          8,
          3,
          9,
          9,
          3,
          3,
          3,
          3,
          3,
          3,
          3,
          0,
          3,
          3,
          3,
          3,
          3,
          3,
          3,
          3,
          3,
          3,
          0,
          3,
          3,
          3,
          3,
          3,
          3,
          1,
          3,
          3,
          2,
          2,
          4,
          2,
          3,
          0,
          5,
          1,
          2,
          3,
          0,
          3,
          1,
          3,
          1,
          6,
          2,
          3,
          4,
          2,
          0,
          6,
          0,
          5,
          9,
          6,
          0,
          5,
          6,
          6,
          1,
          1,
          2,
          1,
          0,
          0,
          1,
          3,
          1,
          0,
          1,
          0,
          1,
          4,
          3,
          3,
          5,
          1,
          2,
          3,
          1,
          1,
          2,
          1,
          5,
          6,
          2,
          0
         ],
         "xaxis": "x",
         "yaxis": "y"
        },
        {
         "alignmentgroup": "True",
         "bingroup": "x",
         "hovertemplate": "Creditability=0<br>value=%{x}<br>count=%{y}<extra></extra>",
         "legendgroup": "0",
         "marker": {
          "color": "#EF553B",
          "pattern": {
           "shape": ""
          }
         },
         "name": "0",
         "offsetgroup": "0",
         "orientation": "v",
         "showlegend": true,
         "type": "histogram",
         "x": [
          5,
          0,
          6,
          9,
          0,
          9,
          0,
          0,
          3,
          0,
          5,
          2,
          6,
          5,
          3,
          0,
          6,
          3,
          2,
          2,
          2,
          3,
          2,
          0,
          2,
          6,
          2,
          3,
          3,
          2,
          3,
          4,
          2,
          2,
          0,
          2,
          1,
          2,
          0,
          2,
          2,
          1,
          3,
          3,
          1,
          9,
          9,
          2,
          3,
          6,
          2,
          0,
          6,
          1,
          0,
          0,
          0,
          0,
          0,
          0,
          3,
          3,
          0,
          6,
          0,
          3,
          3,
          0,
          0,
          4,
          3,
          0,
          4,
          0,
          9,
          0,
          2,
          2,
          3,
          6,
          2,
          3,
          0,
          6,
          3,
          3,
          0,
          5,
          9,
          2,
          0,
          3,
          2,
          6,
          9,
          9,
          2,
          6,
          0,
          0,
          0,
          0,
          0,
          0,
          0,
          0,
          0,
          9,
          2,
          6,
          9,
          9,
          5,
          3,
          1,
          2,
          0,
          0,
          2,
          2,
          3,
          6,
          3,
          3,
          3,
          0,
          9,
          0,
          5,
          3,
          3,
          3,
          9,
          3,
          2,
          1,
          9,
          2,
          0,
          0,
          6,
          2,
          2,
          10,
          10,
          3,
          3,
          10,
          3,
          6,
          3,
          3,
          9,
          0,
          2,
          0,
          2,
          3,
          3,
          3,
          9,
          9,
          3,
          0,
          6,
          3,
          0,
          1,
          2,
          0,
          4,
          0,
          3,
          9,
          6,
          0,
          0,
          3,
          3,
          10,
          2,
          3,
          0,
          0,
          0,
          0,
          0,
          6,
          3,
          2,
          0,
          1,
          3,
          2,
          2,
          1,
          9,
          0,
          9,
          0,
          0,
          0,
          0,
          2,
          2,
          2,
          2,
          2,
          0,
          2,
          0,
          0,
          3,
          2,
          2,
          2,
          2,
          2,
          1,
          1,
          2,
          0,
          0,
          9,
          6,
          2,
          9,
          8,
          1,
          9,
          0,
          0,
          0,
          0,
          0,
          0,
          2,
          0,
          0,
          0,
          0,
          0,
          6,
          0,
          3,
          0,
          2,
          1,
          0,
          3,
          3,
          0,
          9,
          1,
          9,
          5,
          9,
          2,
          9,
          3,
          0,
          3,
          9,
          2,
          3,
          2,
          9,
          3,
          3,
          0,
          9,
          9,
          3,
          9,
          6,
          5,
          10,
          0,
          2,
          1,
          3,
          9,
          2,
          3,
          3,
          9,
          0,
          3,
          0,
          0,
          6,
          1,
          1,
          0,
          3,
          3,
          0,
          0,
          3,
          2
         ],
         "xaxis": "x",
         "yaxis": "y"
        }
       ],
       "layout": {
        "barmode": "relative",
        "legend": {
         "title": {
          "text": "Creditability"
         },
         "tracegroupgap": 0
        },
        "margin": {
         "t": 60
        },
        "template": {
         "data": {
          "bar": [
           {
            "error_x": {
             "color": "#2a3f5f"
            },
            "error_y": {
             "color": "#2a3f5f"
            },
            "marker": {
             "line": {
              "color": "#E5ECF6",
              "width": 0.5
             },
             "pattern": {
              "fillmode": "overlay",
              "size": 10,
              "solidity": 0.2
             }
            },
            "type": "bar"
           }
          ],
          "barpolar": [
           {
            "marker": {
             "line": {
              "color": "#E5ECF6",
              "width": 0.5
             },
             "pattern": {
              "fillmode": "overlay",
              "size": 10,
              "solidity": 0.2
             }
            },
            "type": "barpolar"
           }
          ],
          "carpet": [
           {
            "aaxis": {
             "endlinecolor": "#2a3f5f",
             "gridcolor": "white",
             "linecolor": "white",
             "minorgridcolor": "white",
             "startlinecolor": "#2a3f5f"
            },
            "baxis": {
             "endlinecolor": "#2a3f5f",
             "gridcolor": "white",
             "linecolor": "white",
             "minorgridcolor": "white",
             "startlinecolor": "#2a3f5f"
            },
            "type": "carpet"
           }
          ],
          "choropleth": [
           {
            "colorbar": {
             "outlinewidth": 0,
             "ticks": ""
            },
            "type": "choropleth"
           }
          ],
          "contour": [
           {
            "colorbar": {
             "outlinewidth": 0,
             "ticks": ""
            },
            "colorscale": [
             [
              0,
              "#0d0887"
             ],
             [
              0.1111111111111111,
              "#46039f"
             ],
             [
              0.2222222222222222,
              "#7201a8"
             ],
             [
              0.3333333333333333,
              "#9c179e"
             ],
             [
              0.4444444444444444,
              "#bd3786"
             ],
             [
              0.5555555555555556,
              "#d8576b"
             ],
             [
              0.6666666666666666,
              "#ed7953"
             ],
             [
              0.7777777777777778,
              "#fb9f3a"
             ],
             [
              0.8888888888888888,
              "#fdca26"
             ],
             [
              1,
              "#f0f921"
             ]
            ],
            "type": "contour"
           }
          ],
          "contourcarpet": [
           {
            "colorbar": {
             "outlinewidth": 0,
             "ticks": ""
            },
            "type": "contourcarpet"
           }
          ],
          "heatmap": [
           {
            "colorbar": {
             "outlinewidth": 0,
             "ticks": ""
            },
            "colorscale": [
             [
              0,
              "#0d0887"
             ],
             [
              0.1111111111111111,
              "#46039f"
             ],
             [
              0.2222222222222222,
              "#7201a8"
             ],
             [
              0.3333333333333333,
              "#9c179e"
             ],
             [
              0.4444444444444444,
              "#bd3786"
             ],
             [
              0.5555555555555556,
              "#d8576b"
             ],
             [
              0.6666666666666666,
              "#ed7953"
             ],
             [
              0.7777777777777778,
              "#fb9f3a"
             ],
             [
              0.8888888888888888,
              "#fdca26"
             ],
             [
              1,
              "#f0f921"
             ]
            ],
            "type": "heatmap"
           }
          ],
          "heatmapgl": [
           {
            "colorbar": {
             "outlinewidth": 0,
             "ticks": ""
            },
            "colorscale": [
             [
              0,
              "#0d0887"
             ],
             [
              0.1111111111111111,
              "#46039f"
             ],
             [
              0.2222222222222222,
              "#7201a8"
             ],
             [
              0.3333333333333333,
              "#9c179e"
             ],
             [
              0.4444444444444444,
              "#bd3786"
             ],
             [
              0.5555555555555556,
              "#d8576b"
             ],
             [
              0.6666666666666666,
              "#ed7953"
             ],
             [
              0.7777777777777778,
              "#fb9f3a"
             ],
             [
              0.8888888888888888,
              "#fdca26"
             ],
             [
              1,
              "#f0f921"
             ]
            ],
            "type": "heatmapgl"
           }
          ],
          "histogram": [
           {
            "marker": {
             "pattern": {
              "fillmode": "overlay",
              "size": 10,
              "solidity": 0.2
             }
            },
            "type": "histogram"
           }
          ],
          "histogram2d": [
           {
            "colorbar": {
             "outlinewidth": 0,
             "ticks": ""
            },
            "colorscale": [
             [
              0,
              "#0d0887"
             ],
             [
              0.1111111111111111,
              "#46039f"
             ],
             [
              0.2222222222222222,
              "#7201a8"
             ],
             [
              0.3333333333333333,
              "#9c179e"
             ],
             [
              0.4444444444444444,
              "#bd3786"
             ],
             [
              0.5555555555555556,
              "#d8576b"
             ],
             [
              0.6666666666666666,
              "#ed7953"
             ],
             [
              0.7777777777777778,
              "#fb9f3a"
             ],
             [
              0.8888888888888888,
              "#fdca26"
             ],
             [
              1,
              "#f0f921"
             ]
            ],
            "type": "histogram2d"
           }
          ],
          "histogram2dcontour": [
           {
            "colorbar": {
             "outlinewidth": 0,
             "ticks": ""
            },
            "colorscale": [
             [
              0,
              "#0d0887"
             ],
             [
              0.1111111111111111,
              "#46039f"
             ],
             [
              0.2222222222222222,
              "#7201a8"
             ],
             [
              0.3333333333333333,
              "#9c179e"
             ],
             [
              0.4444444444444444,
              "#bd3786"
             ],
             [
              0.5555555555555556,
              "#d8576b"
             ],
             [
              0.6666666666666666,
              "#ed7953"
             ],
             [
              0.7777777777777778,
              "#fb9f3a"
             ],
             [
              0.8888888888888888,
              "#fdca26"
             ],
             [
              1,
              "#f0f921"
             ]
            ],
            "type": "histogram2dcontour"
           }
          ],
          "mesh3d": [
           {
            "colorbar": {
             "outlinewidth": 0,
             "ticks": ""
            },
            "type": "mesh3d"
           }
          ],
          "parcoords": [
           {
            "line": {
             "colorbar": {
              "outlinewidth": 0,
              "ticks": ""
             }
            },
            "type": "parcoords"
           }
          ],
          "pie": [
           {
            "automargin": true,
            "type": "pie"
           }
          ],
          "scatter": [
           {
            "fillpattern": {
             "fillmode": "overlay",
             "size": 10,
             "solidity": 0.2
            },
            "type": "scatter"
           }
          ],
          "scatter3d": [
           {
            "line": {
             "colorbar": {
              "outlinewidth": 0,
              "ticks": ""
             }
            },
            "marker": {
             "colorbar": {
              "outlinewidth": 0,
              "ticks": ""
             }
            },
            "type": "scatter3d"
           }
          ],
          "scattercarpet": [
           {
            "marker": {
             "colorbar": {
              "outlinewidth": 0,
              "ticks": ""
             }
            },
            "type": "scattercarpet"
           }
          ],
          "scattergeo": [
           {
            "marker": {
             "colorbar": {
              "outlinewidth": 0,
              "ticks": ""
             }
            },
            "type": "scattergeo"
           }
          ],
          "scattergl": [
           {
            "marker": {
             "colorbar": {
              "outlinewidth": 0,
              "ticks": ""
             }
            },
            "type": "scattergl"
           }
          ],
          "scattermapbox": [
           {
            "marker": {
             "colorbar": {
              "outlinewidth": 0,
              "ticks": ""
             }
            },
            "type": "scattermapbox"
           }
          ],
          "scatterpolar": [
           {
            "marker": {
             "colorbar": {
              "outlinewidth": 0,
              "ticks": ""
             }
            },
            "type": "scatterpolar"
           }
          ],
          "scatterpolargl": [
           {
            "marker": {
             "colorbar": {
              "outlinewidth": 0,
              "ticks": ""
             }
            },
            "type": "scatterpolargl"
           }
          ],
          "scatterternary": [
           {
            "marker": {
             "colorbar": {
              "outlinewidth": 0,
              "ticks": ""
             }
            },
            "type": "scatterternary"
           }
          ],
          "surface": [
           {
            "colorbar": {
             "outlinewidth": 0,
             "ticks": ""
            },
            "colorscale": [
             [
              0,
              "#0d0887"
             ],
             [
              0.1111111111111111,
              "#46039f"
             ],
             [
              0.2222222222222222,
              "#7201a8"
             ],
             [
              0.3333333333333333,
              "#9c179e"
             ],
             [
              0.4444444444444444,
              "#bd3786"
             ],
             [
              0.5555555555555556,
              "#d8576b"
             ],
             [
              0.6666666666666666,
              "#ed7953"
             ],
             [
              0.7777777777777778,
              "#fb9f3a"
             ],
             [
              0.8888888888888888,
              "#fdca26"
             ],
             [
              1,
              "#f0f921"
             ]
            ],
            "type": "surface"
           }
          ],
          "table": [
           {
            "cells": {
             "fill": {
              "color": "#EBF0F8"
             },
             "line": {
              "color": "white"
             }
            },
            "header": {
             "fill": {
              "color": "#C8D4E3"
             },
             "line": {
              "color": "white"
             }
            },
            "type": "table"
           }
          ]
         },
         "layout": {
          "annotationdefaults": {
           "arrowcolor": "#2a3f5f",
           "arrowhead": 0,
           "arrowwidth": 1
          },
          "autotypenumbers": "strict",
          "coloraxis": {
           "colorbar": {
            "outlinewidth": 0,
            "ticks": ""
           }
          },
          "colorscale": {
           "diverging": [
            [
             0,
             "#8e0152"
            ],
            [
             0.1,
             "#c51b7d"
            ],
            [
             0.2,
             "#de77ae"
            ],
            [
             0.3,
             "#f1b6da"
            ],
            [
             0.4,
             "#fde0ef"
            ],
            [
             0.5,
             "#f7f7f7"
            ],
            [
             0.6,
             "#e6f5d0"
            ],
            [
             0.7,
             "#b8e186"
            ],
            [
             0.8,
             "#7fbc41"
            ],
            [
             0.9,
             "#4d9221"
            ],
            [
             1,
             "#276419"
            ]
           ],
           "sequential": [
            [
             0,
             "#0d0887"
            ],
            [
             0.1111111111111111,
             "#46039f"
            ],
            [
             0.2222222222222222,
             "#7201a8"
            ],
            [
             0.3333333333333333,
             "#9c179e"
            ],
            [
             0.4444444444444444,
             "#bd3786"
            ],
            [
             0.5555555555555556,
             "#d8576b"
            ],
            [
             0.6666666666666666,
             "#ed7953"
            ],
            [
             0.7777777777777778,
             "#fb9f3a"
            ],
            [
             0.8888888888888888,
             "#fdca26"
            ],
            [
             1,
             "#f0f921"
            ]
           ],
           "sequentialminus": [
            [
             0,
             "#0d0887"
            ],
            [
             0.1111111111111111,
             "#46039f"
            ],
            [
             0.2222222222222222,
             "#7201a8"
            ],
            [
             0.3333333333333333,
             "#9c179e"
            ],
            [
             0.4444444444444444,
             "#bd3786"
            ],
            [
             0.5555555555555556,
             "#d8576b"
            ],
            [
             0.6666666666666666,
             "#ed7953"
            ],
            [
             0.7777777777777778,
             "#fb9f3a"
            ],
            [
             0.8888888888888888,
             "#fdca26"
            ],
            [
             1,
             "#f0f921"
            ]
           ]
          },
          "colorway": [
           "#636efa",
           "#EF553B",
           "#00cc96",
           "#ab63fa",
           "#FFA15A",
           "#19d3f3",
           "#FF6692",
           "#B6E880",
           "#FF97FF",
           "#FECB52"
          ],
          "font": {
           "color": "#2a3f5f"
          },
          "geo": {
           "bgcolor": "white",
           "lakecolor": "white",
           "landcolor": "#E5ECF6",
           "showlakes": true,
           "showland": true,
           "subunitcolor": "white"
          },
          "hoverlabel": {
           "align": "left"
          },
          "hovermode": "closest",
          "mapbox": {
           "style": "light"
          },
          "paper_bgcolor": "white",
          "plot_bgcolor": "#E5ECF6",
          "polar": {
           "angularaxis": {
            "gridcolor": "white",
            "linecolor": "white",
            "ticks": ""
           },
           "bgcolor": "#E5ECF6",
           "radialaxis": {
            "gridcolor": "white",
            "linecolor": "white",
            "ticks": ""
           }
          },
          "scene": {
           "xaxis": {
            "backgroundcolor": "#E5ECF6",
            "gridcolor": "white",
            "gridwidth": 2,
            "linecolor": "white",
            "showbackground": true,
            "ticks": "",
            "zerolinecolor": "white"
           },
           "yaxis": {
            "backgroundcolor": "#E5ECF6",
            "gridcolor": "white",
            "gridwidth": 2,
            "linecolor": "white",
            "showbackground": true,
            "ticks": "",
            "zerolinecolor": "white"
           },
           "zaxis": {
            "backgroundcolor": "#E5ECF6",
            "gridcolor": "white",
            "gridwidth": 2,
            "linecolor": "white",
            "showbackground": true,
            "ticks": "",
            "zerolinecolor": "white"
           }
          },
          "shapedefaults": {
           "line": {
            "color": "#2a3f5f"
           }
          },
          "ternary": {
           "aaxis": {
            "gridcolor": "white",
            "linecolor": "white",
            "ticks": ""
           },
           "baxis": {
            "gridcolor": "white",
            "linecolor": "white",
            "ticks": ""
           },
           "bgcolor": "#E5ECF6",
           "caxis": {
            "gridcolor": "white",
            "linecolor": "white",
            "ticks": ""
           }
          },
          "title": {
           "x": 0.05
          },
          "xaxis": {
           "automargin": true,
           "gridcolor": "white",
           "linecolor": "white",
           "ticks": "",
           "title": {
            "standoff": 15
           },
           "zerolinecolor": "white",
           "zerolinewidth": 2
          },
          "yaxis": {
           "automargin": true,
           "gridcolor": "white",
           "linecolor": "white",
           "ticks": "",
           "title": {
            "standoff": 15
           },
           "zerolinecolor": "white",
           "zerolinewidth": 2
          }
         }
        },
        "xaxis": {
         "anchor": "y",
         "domain": [
          0,
          1
         ],
         "title": {
          "text": "value"
         }
        },
        "yaxis": {
         "anchor": "x",
         "domain": [
          0,
          1
         ],
         "title": {
          "text": "count"
         }
        }
       }
      },
      "text/html": [
       "<div>                            <div id=\"66c4a8ba-cab4-4daf-99d6-5b69d585486e\" class=\"plotly-graph-div\" style=\"height:525px; width:100%;\"></div>            <script type=\"text/javascript\">                require([\"plotly\"], function(Plotly) {                    window.PLOTLYENV=window.PLOTLYENV || {};                                    if (document.getElementById(\"66c4a8ba-cab4-4daf-99d6-5b69d585486e\")) {                    Plotly.newPlot(                        \"66c4a8ba-cab4-4daf-99d6-5b69d585486e\",                        [{\"alignmentgroup\":\"True\",\"bingroup\":\"x\",\"hovertemplate\":\"Creditability=1<br>value=%{x}<br>count=%{y}<extra></extra>\",\"legendgroup\":\"1\",\"marker\":{\"color\":\"#636efa\",\"pattern\":{\"shape\":\"\"}},\"name\":\"1\",\"offsetgroup\":\"1\",\"orientation\":\"v\",\"showlegend\":true,\"x\":[2,0,9,0,0,0,0,0,3,3,0,1,3,10,3,3,0,3,3,0,0,0,4,0,3,2,3,0,1,3,0,0,3,0,0,0,3,1,1,5,10,0,9,6,9,0,9,0,3,0,3,1,3,3,3,3,0,0,1,3,0,0,3,3,3,3,0,2,3,3,2,3,2,1,0,0,3,0,3,0,1,2,0,1,3,0,0,0,3,9,3,2,2,3,2,9,2,9,9,0,3,0,9,3,3,6,2,0,2,2,0,2,1,6,2,3,1,3,3,3,3,4,2,0,3,2,2,2,3,0,2,0,0,8,3,3,6,3,2,3,1,1,2,9,3,3,3,1,0,3,3,3,3,2,3,9,2,2,6,0,3,9,2,3,3,3,3,3,3,9,1,9,3,4,0,9,3,9,9,0,3,6,0,3,6,0,0,3,1,0,2,3,9,3,1,3,2,0,9,3,3,0,3,0,2,2,0,0,0,1,0,0,0,3,3,1,1,2,3,0,0,9,9,3,3,1,1,3,2,3,2,1,3,0,9,3,3,1,3,2,5,1,0,5,3,3,1,9,2,2,3,9,2,0,2,2,3,3,3,0,2,3,1,2,5,2,1,8,3,9,3,3,3,2,1,0,3,0,3,3,0,3,6,2,3,9,2,1,2,9,2,3,8,3,2,3,0,2,0,3,1,3,1,0,0,0,1,9,3,3,0,0,3,9,2,0,0,0,0,0,3,6,3,3,0,0,2,5,0,1,1,3,1,1,0,0,3,6,0,0,6,2,0,9,3,1,1,0,0,0,0,2,2,2,3,2,3,8,0,2,9,3,1,4,2,3,1,5,3,2,2,0,0,2,3,0,4,1,1,0,6,3,2,3,3,3,1,0,9,9,1,3,3,10,1,9,9,3,3,9,3,9,3,3,3,1,3,2,3,0,0,0,3,3,6,6,0,3,9,9,9,3,6,3,9,9,2,9,2,3,3,2,3,3,1,3,2,0,6,0,3,10,9,2,1,1,2,1,0,2,1,0,3,6,2,3,9,2,3,8,2,3,6,5,5,2,9,2,2,9,2,2,9,0,3,2,9,3,1,3,3,1,0,3,0,0,3,5,1,3,3,1,2,0,0,6,0,2,0,3,9,3,3,1,3,3,3,3,3,3,1,3,3,3,3,0,0,3,2,3,2,3,9,3,3,0,2,0,6,0,8,2,9,0,2,1,9,0,1,3,9,3,9,0,2,3,0,6,1,2,1,9,1,0,2,3,2,2,10,2,2,2,0,3,2,0,2,2,2,0,1,2,2,2,2,1,0,1,0,0,1,10,1,2,1,2,0,3,8,2,2,2,2,2,0,2,9,2,1,2,9,1,6,10,3,3,9,9,2,3,8,3,9,9,3,3,3,3,3,3,3,0,3,3,3,3,3,3,3,3,3,3,0,3,3,3,3,3,3,1,3,3,2,2,4,2,3,0,5,1,2,3,0,3,1,3,1,6,2,3,4,2,0,6,0,5,9,6,0,5,6,6,1,1,2,1,0,0,1,3,1,0,1,0,1,4,3,3,5,1,2,3,1,1,2,1,5,6,2,0],\"xaxis\":\"x\",\"yaxis\":\"y\",\"type\":\"histogram\"},{\"alignmentgroup\":\"True\",\"bingroup\":\"x\",\"hovertemplate\":\"Creditability=0<br>value=%{x}<br>count=%{y}<extra></extra>\",\"legendgroup\":\"0\",\"marker\":{\"color\":\"#EF553B\",\"pattern\":{\"shape\":\"\"}},\"name\":\"0\",\"offsetgroup\":\"0\",\"orientation\":\"v\",\"showlegend\":true,\"x\":[5,0,6,9,0,9,0,0,3,0,5,2,6,5,3,0,6,3,2,2,2,3,2,0,2,6,2,3,3,2,3,4,2,2,0,2,1,2,0,2,2,1,3,3,1,9,9,2,3,6,2,0,6,1,0,0,0,0,0,0,3,3,0,6,0,3,3,0,0,4,3,0,4,0,9,0,2,2,3,6,2,3,0,6,3,3,0,5,9,2,0,3,2,6,9,9,2,6,0,0,0,0,0,0,0,0,0,9,2,6,9,9,5,3,1,2,0,0,2,2,3,6,3,3,3,0,9,0,5,3,3,3,9,3,2,1,9,2,0,0,6,2,2,10,10,3,3,10,3,6,3,3,9,0,2,0,2,3,3,3,9,9,3,0,6,3,0,1,2,0,4,0,3,9,6,0,0,3,3,10,2,3,0,0,0,0,0,6,3,2,0,1,3,2,2,1,9,0,9,0,0,0,0,2,2,2,2,2,0,2,0,0,3,2,2,2,2,2,1,1,2,0,0,9,6,2,9,8,1,9,0,0,0,0,0,0,2,0,0,0,0,0,6,0,3,0,2,1,0,3,3,0,9,1,9,5,9,2,9,3,0,3,9,2,3,2,9,3,3,0,9,9,3,9,6,5,10,0,2,1,3,9,2,3,3,9,0,3,0,0,6,1,1,0,3,3,0,0,3,2],\"xaxis\":\"x\",\"yaxis\":\"y\",\"type\":\"histogram\"}],                        {\"template\":{\"data\":{\"histogram2dcontour\":[{\"type\":\"histogram2dcontour\",\"colorbar\":{\"outlinewidth\":0,\"ticks\":\"\"},\"colorscale\":[[0.0,\"#0d0887\"],[0.1111111111111111,\"#46039f\"],[0.2222222222222222,\"#7201a8\"],[0.3333333333333333,\"#9c179e\"],[0.4444444444444444,\"#bd3786\"],[0.5555555555555556,\"#d8576b\"],[0.6666666666666666,\"#ed7953\"],[0.7777777777777778,\"#fb9f3a\"],[0.8888888888888888,\"#fdca26\"],[1.0,\"#f0f921\"]]}],\"choropleth\":[{\"type\":\"choropleth\",\"colorbar\":{\"outlinewidth\":0,\"ticks\":\"\"}}],\"histogram2d\":[{\"type\":\"histogram2d\",\"colorbar\":{\"outlinewidth\":0,\"ticks\":\"\"},\"colorscale\":[[0.0,\"#0d0887\"],[0.1111111111111111,\"#46039f\"],[0.2222222222222222,\"#7201a8\"],[0.3333333333333333,\"#9c179e\"],[0.4444444444444444,\"#bd3786\"],[0.5555555555555556,\"#d8576b\"],[0.6666666666666666,\"#ed7953\"],[0.7777777777777778,\"#fb9f3a\"],[0.8888888888888888,\"#fdca26\"],[1.0,\"#f0f921\"]]}],\"heatmap\":[{\"type\":\"heatmap\",\"colorbar\":{\"outlinewidth\":0,\"ticks\":\"\"},\"colorscale\":[[0.0,\"#0d0887\"],[0.1111111111111111,\"#46039f\"],[0.2222222222222222,\"#7201a8\"],[0.3333333333333333,\"#9c179e\"],[0.4444444444444444,\"#bd3786\"],[0.5555555555555556,\"#d8576b\"],[0.6666666666666666,\"#ed7953\"],[0.7777777777777778,\"#fb9f3a\"],[0.8888888888888888,\"#fdca26\"],[1.0,\"#f0f921\"]]}],\"heatmapgl\":[{\"type\":\"heatmapgl\",\"colorbar\":{\"outlinewidth\":0,\"ticks\":\"\"},\"colorscale\":[[0.0,\"#0d0887\"],[0.1111111111111111,\"#46039f\"],[0.2222222222222222,\"#7201a8\"],[0.3333333333333333,\"#9c179e\"],[0.4444444444444444,\"#bd3786\"],[0.5555555555555556,\"#d8576b\"],[0.6666666666666666,\"#ed7953\"],[0.7777777777777778,\"#fb9f3a\"],[0.8888888888888888,\"#fdca26\"],[1.0,\"#f0f921\"]]}],\"contourcarpet\":[{\"type\":\"contourcarpet\",\"colorbar\":{\"outlinewidth\":0,\"ticks\":\"\"}}],\"contour\":[{\"type\":\"contour\",\"colorbar\":{\"outlinewidth\":0,\"ticks\":\"\"},\"colorscale\":[[0.0,\"#0d0887\"],[0.1111111111111111,\"#46039f\"],[0.2222222222222222,\"#7201a8\"],[0.3333333333333333,\"#9c179e\"],[0.4444444444444444,\"#bd3786\"],[0.5555555555555556,\"#d8576b\"],[0.6666666666666666,\"#ed7953\"],[0.7777777777777778,\"#fb9f3a\"],[0.8888888888888888,\"#fdca26\"],[1.0,\"#f0f921\"]]}],\"surface\":[{\"type\":\"surface\",\"colorbar\":{\"outlinewidth\":0,\"ticks\":\"\"},\"colorscale\":[[0.0,\"#0d0887\"],[0.1111111111111111,\"#46039f\"],[0.2222222222222222,\"#7201a8\"],[0.3333333333333333,\"#9c179e\"],[0.4444444444444444,\"#bd3786\"],[0.5555555555555556,\"#d8576b\"],[0.6666666666666666,\"#ed7953\"],[0.7777777777777778,\"#fb9f3a\"],[0.8888888888888888,\"#fdca26\"],[1.0,\"#f0f921\"]]}],\"mesh3d\":[{\"type\":\"mesh3d\",\"colorbar\":{\"outlinewidth\":0,\"ticks\":\"\"}}],\"scatter\":[{\"fillpattern\":{\"fillmode\":\"overlay\",\"size\":10,\"solidity\":0.2},\"type\":\"scatter\"}],\"parcoords\":[{\"type\":\"parcoords\",\"line\":{\"colorbar\":{\"outlinewidth\":0,\"ticks\":\"\"}}}],\"scatterpolargl\":[{\"type\":\"scatterpolargl\",\"marker\":{\"colorbar\":{\"outlinewidth\":0,\"ticks\":\"\"}}}],\"bar\":[{\"error_x\":{\"color\":\"#2a3f5f\"},\"error_y\":{\"color\":\"#2a3f5f\"},\"marker\":{\"line\":{\"color\":\"#E5ECF6\",\"width\":0.5},\"pattern\":{\"fillmode\":\"overlay\",\"size\":10,\"solidity\":0.2}},\"type\":\"bar\"}],\"scattergeo\":[{\"type\":\"scattergeo\",\"marker\":{\"colorbar\":{\"outlinewidth\":0,\"ticks\":\"\"}}}],\"scatterpolar\":[{\"type\":\"scatterpolar\",\"marker\":{\"colorbar\":{\"outlinewidth\":0,\"ticks\":\"\"}}}],\"histogram\":[{\"marker\":{\"pattern\":{\"fillmode\":\"overlay\",\"size\":10,\"solidity\":0.2}},\"type\":\"histogram\"}],\"scattergl\":[{\"type\":\"scattergl\",\"marker\":{\"colorbar\":{\"outlinewidth\":0,\"ticks\":\"\"}}}],\"scatter3d\":[{\"type\":\"scatter3d\",\"line\":{\"colorbar\":{\"outlinewidth\":0,\"ticks\":\"\"}},\"marker\":{\"colorbar\":{\"outlinewidth\":0,\"ticks\":\"\"}}}],\"scattermapbox\":[{\"type\":\"scattermapbox\",\"marker\":{\"colorbar\":{\"outlinewidth\":0,\"ticks\":\"\"}}}],\"scatterternary\":[{\"type\":\"scatterternary\",\"marker\":{\"colorbar\":{\"outlinewidth\":0,\"ticks\":\"\"}}}],\"scattercarpet\":[{\"type\":\"scattercarpet\",\"marker\":{\"colorbar\":{\"outlinewidth\":0,\"ticks\":\"\"}}}],\"carpet\":[{\"aaxis\":{\"endlinecolor\":\"#2a3f5f\",\"gridcolor\":\"white\",\"linecolor\":\"white\",\"minorgridcolor\":\"white\",\"startlinecolor\":\"#2a3f5f\"},\"baxis\":{\"endlinecolor\":\"#2a3f5f\",\"gridcolor\":\"white\",\"linecolor\":\"white\",\"minorgridcolor\":\"white\",\"startlinecolor\":\"#2a3f5f\"},\"type\":\"carpet\"}],\"table\":[{\"cells\":{\"fill\":{\"color\":\"#EBF0F8\"},\"line\":{\"color\":\"white\"}},\"header\":{\"fill\":{\"color\":\"#C8D4E3\"},\"line\":{\"color\":\"white\"}},\"type\":\"table\"}],\"barpolar\":[{\"marker\":{\"line\":{\"color\":\"#E5ECF6\",\"width\":0.5},\"pattern\":{\"fillmode\":\"overlay\",\"size\":10,\"solidity\":0.2}},\"type\":\"barpolar\"}],\"pie\":[{\"automargin\":true,\"type\":\"pie\"}]},\"layout\":{\"autotypenumbers\":\"strict\",\"colorway\":[\"#636efa\",\"#EF553B\",\"#00cc96\",\"#ab63fa\",\"#FFA15A\",\"#19d3f3\",\"#FF6692\",\"#B6E880\",\"#FF97FF\",\"#FECB52\"],\"font\":{\"color\":\"#2a3f5f\"},\"hovermode\":\"closest\",\"hoverlabel\":{\"align\":\"left\"},\"paper_bgcolor\":\"white\",\"plot_bgcolor\":\"#E5ECF6\",\"polar\":{\"bgcolor\":\"#E5ECF6\",\"angularaxis\":{\"gridcolor\":\"white\",\"linecolor\":\"white\",\"ticks\":\"\"},\"radialaxis\":{\"gridcolor\":\"white\",\"linecolor\":\"white\",\"ticks\":\"\"}},\"ternary\":{\"bgcolor\":\"#E5ECF6\",\"aaxis\":{\"gridcolor\":\"white\",\"linecolor\":\"white\",\"ticks\":\"\"},\"baxis\":{\"gridcolor\":\"white\",\"linecolor\":\"white\",\"ticks\":\"\"},\"caxis\":{\"gridcolor\":\"white\",\"linecolor\":\"white\",\"ticks\":\"\"}},\"coloraxis\":{\"colorbar\":{\"outlinewidth\":0,\"ticks\":\"\"}},\"colorscale\":{\"sequential\":[[0.0,\"#0d0887\"],[0.1111111111111111,\"#46039f\"],[0.2222222222222222,\"#7201a8\"],[0.3333333333333333,\"#9c179e\"],[0.4444444444444444,\"#bd3786\"],[0.5555555555555556,\"#d8576b\"],[0.6666666666666666,\"#ed7953\"],[0.7777777777777778,\"#fb9f3a\"],[0.8888888888888888,\"#fdca26\"],[1.0,\"#f0f921\"]],\"sequentialminus\":[[0.0,\"#0d0887\"],[0.1111111111111111,\"#46039f\"],[0.2222222222222222,\"#7201a8\"],[0.3333333333333333,\"#9c179e\"],[0.4444444444444444,\"#bd3786\"],[0.5555555555555556,\"#d8576b\"],[0.6666666666666666,\"#ed7953\"],[0.7777777777777778,\"#fb9f3a\"],[0.8888888888888888,\"#fdca26\"],[1.0,\"#f0f921\"]],\"diverging\":[[0,\"#8e0152\"],[0.1,\"#c51b7d\"],[0.2,\"#de77ae\"],[0.3,\"#f1b6da\"],[0.4,\"#fde0ef\"],[0.5,\"#f7f7f7\"],[0.6,\"#e6f5d0\"],[0.7,\"#b8e186\"],[0.8,\"#7fbc41\"],[0.9,\"#4d9221\"],[1,\"#276419\"]]},\"xaxis\":{\"gridcolor\":\"white\",\"linecolor\":\"white\",\"ticks\":\"\",\"title\":{\"standoff\":15},\"zerolinecolor\":\"white\",\"automargin\":true,\"zerolinewidth\":2},\"yaxis\":{\"gridcolor\":\"white\",\"linecolor\":\"white\",\"ticks\":\"\",\"title\":{\"standoff\":15},\"zerolinecolor\":\"white\",\"automargin\":true,\"zerolinewidth\":2},\"scene\":{\"xaxis\":{\"backgroundcolor\":\"#E5ECF6\",\"gridcolor\":\"white\",\"linecolor\":\"white\",\"showbackground\":true,\"ticks\":\"\",\"zerolinecolor\":\"white\",\"gridwidth\":2},\"yaxis\":{\"backgroundcolor\":\"#E5ECF6\",\"gridcolor\":\"white\",\"linecolor\":\"white\",\"showbackground\":true,\"ticks\":\"\",\"zerolinecolor\":\"white\",\"gridwidth\":2},\"zaxis\":{\"backgroundcolor\":\"#E5ECF6\",\"gridcolor\":\"white\",\"linecolor\":\"white\",\"showbackground\":true,\"ticks\":\"\",\"zerolinecolor\":\"white\",\"gridwidth\":2}},\"shapedefaults\":{\"line\":{\"color\":\"#2a3f5f\"}},\"annotationdefaults\":{\"arrowcolor\":\"#2a3f5f\",\"arrowhead\":0,\"arrowwidth\":1},\"geo\":{\"bgcolor\":\"white\",\"landcolor\":\"#E5ECF6\",\"subunitcolor\":\"white\",\"showland\":true,\"showlakes\":true,\"lakecolor\":\"white\"},\"title\":{\"x\":0.05},\"mapbox\":{\"style\":\"light\"}}},\"xaxis\":{\"anchor\":\"y\",\"domain\":[0.0,1.0],\"title\":{\"text\":\"value\"}},\"yaxis\":{\"anchor\":\"x\",\"domain\":[0.0,1.0],\"title\":{\"text\":\"count\"}},\"legend\":{\"title\":{\"text\":\"Creditability\"},\"tracegroupgap\":0},\"margin\":{\"t\":60},\"barmode\":\"relative\"},                        {\"responsive\": true}                    ).then(function(){\n",
       "                            \n",
       "var gd = document.getElementById('66c4a8ba-cab4-4daf-99d6-5b69d585486e');\n",
       "var x = new MutationObserver(function (mutations, observer) {{\n",
       "        var display = window.getComputedStyle(gd).display;\n",
       "        if (!display || display === 'none') {{\n",
       "            console.log([gd, 'removed!']);\n",
       "            Plotly.purge(gd);\n",
       "            observer.disconnect();\n",
       "        }}\n",
       "}});\n",
       "\n",
       "// Listen for the removal of the full notebook cells\n",
       "var notebookContainer = gd.closest('#notebook-container');\n",
       "if (notebookContainer) {{\n",
       "    x.observe(notebookContainer, {childList: true});\n",
       "}}\n",
       "\n",
       "// Listen for the clearing of the current output cell\n",
       "var outputEl = gd.closest('.output');\n",
       "if (outputEl) {{\n",
       "    x.observe(outputEl, {childList: true});\n",
       "}}\n",
       "\n",
       "                        })                };                });            </script>        </div>"
      ]
     },
     "metadata": {},
     "output_type": "display_data"
    }
   ],
   "source": [
    "Barplot2 = px.histogram(df_risk_credit, x=['Purpose'],color = 'Creditability',)\n",
    "Barplot2.show()"
   ]
  },
  {
   "cell_type": "code",
   "execution_count": 39,
   "id": "a2eb35c1",
   "metadata": {},
   "outputs": [
    {
     "data": {
      "application/vnd.plotly.v1+json": {
       "config": {
        "plotlyServerURL": "https://plot.ly"
       },
       "data": [
        {
         "alignmentgroup": "True",
         "bingroup": "x",
         "hovertemplate": "Creditability=1<br>value=%{x}<br>count=%{y}<extra></extra>",
         "legendgroup": "1",
         "marker": {
          "color": "#636efa",
          "pattern": {
           "shape": ""
          }
         },
         "name": "1",
         "offsetgroup": "1",
         "orientation": "v",
         "showlegend": true,
         "type": "histogram",
         "x": [
          2,
          1,
          1,
          1,
          2,
          1,
          1,
          1,
          3,
          4,
          1,
          3,
          3,
          4,
          3,
          1,
          1,
          1,
          1,
          2,
          1,
          1,
          2,
          1,
          2,
          2,
          1,
          4,
          4,
          2,
          3,
          3,
          3,
          1,
          4,
          1,
          4,
          2,
          3,
          1,
          1,
          1,
          4,
          4,
          1,
          1,
          1,
          1,
          1,
          1,
          1,
          3,
          1,
          1,
          1,
          2,
          1,
          1,
          4,
          1,
          3,
          1,
          2,
          3,
          3,
          3,
          4,
          3,
          3,
          3,
          3,
          3,
          3,
          3,
          1,
          3,
          3,
          3,
          3,
          3,
          3,
          2,
          2,
          3,
          1,
          1,
          3,
          3,
          3,
          3,
          1,
          4,
          1,
          1,
          1,
          1,
          1,
          2,
          2,
          2,
          3,
          1,
          1,
          1,
          3,
          3,
          2,
          3,
          1,
          3,
          1,
          3,
          3,
          3,
          4,
          4,
          2,
          3,
          3,
          2,
          4,
          1,
          3,
          2,
          1,
          1,
          1,
          1,
          1,
          3,
          1,
          1,
          3,
          2,
          3,
          1,
          1,
          3,
          3,
          3,
          1,
          4,
          2,
          3,
          2,
          1,
          3,
          4,
          3,
          3,
          1,
          3,
          3,
          3,
          2,
          1,
          2,
          4,
          2,
          3,
          3,
          1,
          3,
          3,
          3,
          1,
          3,
          3,
          3,
          2,
          2,
          3,
          3,
          1,
          2,
          3,
          3,
          3,
          3,
          3,
          3,
          3,
          3,
          3,
          3,
          3,
          2,
          3,
          3,
          4,
          4,
          4,
          1,
          3,
          1,
          3,
          2,
          1,
          1,
          1,
          2,
          4,
          3,
          1,
          1,
          1,
          1,
          1,
          2,
          1,
          1,
          1,
          2,
          4,
          2,
          3,
          3,
          3,
          1,
          3,
          3,
          1,
          3,
          1,
          3,
          3,
          2,
          3,
          1,
          1,
          1,
          3,
          2,
          2,
          2,
          2,
          2,
          3,
          3,
          2,
          1,
          3,
          3,
          1,
          3,
          3,
          3,
          2,
          2,
          1,
          1,
          1,
          2,
          3,
          2,
          3,
          3,
          3,
          1,
          2,
          2,
          3,
          2,
          3,
          1,
          2,
          3,
          1,
          3,
          2,
          3,
          1,
          2,
          3,
          3,
          2,
          3,
          1,
          3,
          1,
          4,
          1,
          2,
          3,
          1,
          3,
          2,
          2,
          2,
          1,
          1,
          1,
          3,
          3,
          3,
          1,
          1,
          1,
          1,
          2,
          2,
          1,
          3,
          1,
          2,
          1,
          4,
          3,
          3,
          2,
          4,
          4,
          1,
          1,
          1,
          1,
          1,
          1,
          1,
          2,
          3,
          3,
          3,
          3,
          2,
          3,
          2,
          1,
          2,
          1,
          2,
          3,
          3,
          4,
          1,
          3,
          2,
          4,
          4,
          2,
          3,
          3,
          3,
          3,
          4,
          4,
          4,
          1,
          3,
          3,
          1,
          3,
          2,
          1,
          4,
          2,
          3,
          1,
          3,
          1,
          3,
          3,
          4,
          1,
          1,
          3,
          3,
          1,
          2,
          3,
          3,
          4,
          1,
          1,
          1,
          2,
          3,
          1,
          3,
          4,
          2,
          4,
          3,
          1,
          3,
          1,
          1,
          3,
          2,
          1,
          2,
          2,
          3,
          4,
          3,
          1,
          1,
          2,
          1,
          1,
          3,
          3,
          2,
          3,
          1,
          1,
          2,
          3,
          1,
          3,
          3,
          4,
          3,
          1,
          4,
          2,
          1,
          3,
          3,
          1,
          4,
          4,
          3,
          1,
          3,
          3,
          2,
          3,
          2,
          1,
          1,
          1,
          4,
          3,
          4,
          1,
          3,
          4,
          4,
          4,
          1,
          3,
          2,
          2,
          3,
          1,
          2,
          3,
          1,
          1,
          3,
          4,
          3,
          2,
          4,
          3,
          2,
          1,
          3,
          3,
          2,
          3,
          4,
          3,
          2,
          1,
          4,
          2,
          2,
          1,
          3,
          2,
          1,
          2,
          1,
          2,
          2,
          1,
          1,
          2,
          1,
          2,
          2,
          1,
          1,
          2,
          2,
          1,
          3,
          1,
          1,
          2,
          3,
          2,
          3,
          4,
          3,
          2,
          3,
          3,
          3,
          1,
          1,
          3,
          3,
          1,
          1,
          4,
          3,
          1,
          3,
          3,
          2,
          3,
          3,
          1,
          1,
          2,
          3,
          3,
          2,
          1,
          1,
          3,
          2,
          1,
          3,
          2,
          1,
          1,
          2,
          1,
          3,
          3,
          2,
          2,
          1,
          1,
          3,
          4,
          2,
          2,
          2,
          3,
          1,
          3,
          1,
          4,
          3,
          3,
          3,
          3,
          4,
          4,
          2,
          1,
          1,
          1,
          4,
          1,
          2,
          2,
          1,
          2,
          2,
          2,
          2,
          2,
          2,
          2,
          2,
          4,
          3,
          2,
          2,
          4,
          2,
          4,
          3,
          1,
          4,
          4,
          4,
          2,
          4,
          4,
          4,
          3,
          2,
          4,
          2,
          2,
          2,
          2,
          4,
          4,
          2,
          2,
          2,
          2,
          2,
          4,
          4,
          3,
          2,
          3,
          2,
          3,
          2,
          2,
          2,
          2,
          4,
          2,
          1,
          1,
          1,
          1,
          1,
          1,
          3,
          1,
          1,
          1,
          1,
          1,
          1,
          2,
          1,
          1,
          1,
          1,
          3,
          1,
          1,
          1,
          1,
          1,
          1,
          2,
          1,
          2,
          2,
          3,
          4,
          2,
          1,
          1,
          2,
          2,
          1,
          3,
          3,
          2,
          3,
          2,
          3,
          3,
          2,
          1,
          2,
          4,
          1,
          4,
          4,
          3,
          1,
          2,
          2,
          3,
          4,
          3,
          1,
          3,
          3,
          3,
          3,
          3,
          3,
          4,
          4,
          4,
          4,
          3,
          4,
          1,
          3,
          1,
          3,
          3,
          1,
          1,
          3,
          2,
          2,
          4,
          4,
          2,
          4,
          4
         ],
         "xaxis": "x",
         "yaxis": "y"
        },
        {
         "alignmentgroup": "True",
         "bingroup": "x",
         "hovertemplate": "Creditability=0<br>value=%{x}<br>count=%{y}<extra></extra>",
         "legendgroup": "0",
         "marker": {
          "color": "#EF553B",
          "pattern": {
           "shape": ""
          }
         },
         "name": "0",
         "offsetgroup": "0",
         "orientation": "v",
         "showlegend": true,
         "type": "histogram",
         "x": [
          4,
          3,
          1,
          1,
          2,
          4,
          1,
          3,
          1,
          1,
          1,
          2,
          3,
          4,
          1,
          3,
          4,
          3,
          2,
          3,
          3,
          3,
          2,
          2,
          3,
          3,
          3,
          3,
          3,
          2,
          3,
          2,
          4,
          4,
          4,
          2,
          2,
          2,
          2,
          2,
          2,
          4,
          4,
          3,
          4,
          3,
          2,
          1,
          3,
          4,
          3,
          3,
          4,
          3,
          2,
          3,
          3,
          3,
          4,
          3,
          1,
          4,
          2,
          4,
          3,
          3,
          1,
          2,
          4,
          3,
          3,
          4,
          1,
          3,
          3,
          3,
          4,
          1,
          3,
          2,
          2,
          1,
          4,
          2,
          4,
          3,
          2,
          2,
          1,
          3,
          1,
          1,
          2,
          2,
          1,
          4,
          1,
          3,
          3,
          4,
          2,
          4,
          1,
          2,
          3,
          2,
          3,
          4,
          2,
          4,
          3,
          4,
          1,
          1,
          4,
          1,
          4,
          1,
          1,
          3,
          4,
          2,
          2,
          1,
          3,
          2,
          4,
          2,
          3,
          1,
          3,
          3,
          3,
          3,
          2,
          3,
          3,
          3,
          4,
          2,
          4,
          1,
          3,
          3,
          3,
          2,
          4,
          4,
          4,
          4,
          2,
          1,
          1,
          1,
          2,
          4,
          4,
          3,
          3,
          4,
          1,
          2,
          1,
          2,
          4,
          4,
          3,
          3,
          3,
          3,
          3,
          1,
          1,
          3,
          4,
          3,
          3,
          3,
          2,
          3,
          3,
          3,
          4,
          2,
          3,
          2,
          2,
          4,
          1,
          4,
          4,
          3,
          1,
          3,
          2,
          4,
          1,
          1,
          3,
          2,
          2,
          1,
          4,
          3,
          2,
          1,
          3,
          1,
          1,
          4,
          4,
          2,
          2,
          3,
          4,
          3,
          3,
          2,
          4,
          4,
          3,
          3,
          3,
          2,
          2,
          1,
          2,
          2,
          4,
          3,
          1,
          1,
          1,
          3,
          2,
          2,
          3,
          3,
          1,
          3,
          4,
          3,
          3,
          4,
          1,
          2,
          1,
          1,
          4,
          2,
          2,
          1,
          2,
          3,
          1,
          4,
          3,
          3,
          3,
          3,
          3,
          3,
          4,
          1,
          3,
          3,
          3,
          1,
          4,
          2,
          3,
          4,
          1,
          3,
          2,
          4,
          2,
          4,
          2,
          4,
          2,
          3,
          3,
          3,
          1,
          3,
          2,
          2,
          3,
          2,
          1,
          4,
          2,
          1,
          2,
          1,
          1,
          4,
          4,
          2
         ],
         "xaxis": "x",
         "yaxis": "y"
        }
       ],
       "layout": {
        "barmode": "relative",
        "legend": {
         "title": {
          "text": "Creditability"
         },
         "tracegroupgap": 0
        },
        "margin": {
         "t": 60
        },
        "template": {
         "data": {
          "bar": [
           {
            "error_x": {
             "color": "#2a3f5f"
            },
            "error_y": {
             "color": "#2a3f5f"
            },
            "marker": {
             "line": {
              "color": "#E5ECF6",
              "width": 0.5
             },
             "pattern": {
              "fillmode": "overlay",
              "size": 10,
              "solidity": 0.2
             }
            },
            "type": "bar"
           }
          ],
          "barpolar": [
           {
            "marker": {
             "line": {
              "color": "#E5ECF6",
              "width": 0.5
             },
             "pattern": {
              "fillmode": "overlay",
              "size": 10,
              "solidity": 0.2
             }
            },
            "type": "barpolar"
           }
          ],
          "carpet": [
           {
            "aaxis": {
             "endlinecolor": "#2a3f5f",
             "gridcolor": "white",
             "linecolor": "white",
             "minorgridcolor": "white",
             "startlinecolor": "#2a3f5f"
            },
            "baxis": {
             "endlinecolor": "#2a3f5f",
             "gridcolor": "white",
             "linecolor": "white",
             "minorgridcolor": "white",
             "startlinecolor": "#2a3f5f"
            },
            "type": "carpet"
           }
          ],
          "choropleth": [
           {
            "colorbar": {
             "outlinewidth": 0,
             "ticks": ""
            },
            "type": "choropleth"
           }
          ],
          "contour": [
           {
            "colorbar": {
             "outlinewidth": 0,
             "ticks": ""
            },
            "colorscale": [
             [
              0,
              "#0d0887"
             ],
             [
              0.1111111111111111,
              "#46039f"
             ],
             [
              0.2222222222222222,
              "#7201a8"
             ],
             [
              0.3333333333333333,
              "#9c179e"
             ],
             [
              0.4444444444444444,
              "#bd3786"
             ],
             [
              0.5555555555555556,
              "#d8576b"
             ],
             [
              0.6666666666666666,
              "#ed7953"
             ],
             [
              0.7777777777777778,
              "#fb9f3a"
             ],
             [
              0.8888888888888888,
              "#fdca26"
             ],
             [
              1,
              "#f0f921"
             ]
            ],
            "type": "contour"
           }
          ],
          "contourcarpet": [
           {
            "colorbar": {
             "outlinewidth": 0,
             "ticks": ""
            },
            "type": "contourcarpet"
           }
          ],
          "heatmap": [
           {
            "colorbar": {
             "outlinewidth": 0,
             "ticks": ""
            },
            "colorscale": [
             [
              0,
              "#0d0887"
             ],
             [
              0.1111111111111111,
              "#46039f"
             ],
             [
              0.2222222222222222,
              "#7201a8"
             ],
             [
              0.3333333333333333,
              "#9c179e"
             ],
             [
              0.4444444444444444,
              "#bd3786"
             ],
             [
              0.5555555555555556,
              "#d8576b"
             ],
             [
              0.6666666666666666,
              "#ed7953"
             ],
             [
              0.7777777777777778,
              "#fb9f3a"
             ],
             [
              0.8888888888888888,
              "#fdca26"
             ],
             [
              1,
              "#f0f921"
             ]
            ],
            "type": "heatmap"
           }
          ],
          "heatmapgl": [
           {
            "colorbar": {
             "outlinewidth": 0,
             "ticks": ""
            },
            "colorscale": [
             [
              0,
              "#0d0887"
             ],
             [
              0.1111111111111111,
              "#46039f"
             ],
             [
              0.2222222222222222,
              "#7201a8"
             ],
             [
              0.3333333333333333,
              "#9c179e"
             ],
             [
              0.4444444444444444,
              "#bd3786"
             ],
             [
              0.5555555555555556,
              "#d8576b"
             ],
             [
              0.6666666666666666,
              "#ed7953"
             ],
             [
              0.7777777777777778,
              "#fb9f3a"
             ],
             [
              0.8888888888888888,
              "#fdca26"
             ],
             [
              1,
              "#f0f921"
             ]
            ],
            "type": "heatmapgl"
           }
          ],
          "histogram": [
           {
            "marker": {
             "pattern": {
              "fillmode": "overlay",
              "size": 10,
              "solidity": 0.2
             }
            },
            "type": "histogram"
           }
          ],
          "histogram2d": [
           {
            "colorbar": {
             "outlinewidth": 0,
             "ticks": ""
            },
            "colorscale": [
             [
              0,
              "#0d0887"
             ],
             [
              0.1111111111111111,
              "#46039f"
             ],
             [
              0.2222222222222222,
              "#7201a8"
             ],
             [
              0.3333333333333333,
              "#9c179e"
             ],
             [
              0.4444444444444444,
              "#bd3786"
             ],
             [
              0.5555555555555556,
              "#d8576b"
             ],
             [
              0.6666666666666666,
              "#ed7953"
             ],
             [
              0.7777777777777778,
              "#fb9f3a"
             ],
             [
              0.8888888888888888,
              "#fdca26"
             ],
             [
              1,
              "#f0f921"
             ]
            ],
            "type": "histogram2d"
           }
          ],
          "histogram2dcontour": [
           {
            "colorbar": {
             "outlinewidth": 0,
             "ticks": ""
            },
            "colorscale": [
             [
              0,
              "#0d0887"
             ],
             [
              0.1111111111111111,
              "#46039f"
             ],
             [
              0.2222222222222222,
              "#7201a8"
             ],
             [
              0.3333333333333333,
              "#9c179e"
             ],
             [
              0.4444444444444444,
              "#bd3786"
             ],
             [
              0.5555555555555556,
              "#d8576b"
             ],
             [
              0.6666666666666666,
              "#ed7953"
             ],
             [
              0.7777777777777778,
              "#fb9f3a"
             ],
             [
              0.8888888888888888,
              "#fdca26"
             ],
             [
              1,
              "#f0f921"
             ]
            ],
            "type": "histogram2dcontour"
           }
          ],
          "mesh3d": [
           {
            "colorbar": {
             "outlinewidth": 0,
             "ticks": ""
            },
            "type": "mesh3d"
           }
          ],
          "parcoords": [
           {
            "line": {
             "colorbar": {
              "outlinewidth": 0,
              "ticks": ""
             }
            },
            "type": "parcoords"
           }
          ],
          "pie": [
           {
            "automargin": true,
            "type": "pie"
           }
          ],
          "scatter": [
           {
            "fillpattern": {
             "fillmode": "overlay",
             "size": 10,
             "solidity": 0.2
            },
            "type": "scatter"
           }
          ],
          "scatter3d": [
           {
            "line": {
             "colorbar": {
              "outlinewidth": 0,
              "ticks": ""
             }
            },
            "marker": {
             "colorbar": {
              "outlinewidth": 0,
              "ticks": ""
             }
            },
            "type": "scatter3d"
           }
          ],
          "scattercarpet": [
           {
            "marker": {
             "colorbar": {
              "outlinewidth": 0,
              "ticks": ""
             }
            },
            "type": "scattercarpet"
           }
          ],
          "scattergeo": [
           {
            "marker": {
             "colorbar": {
              "outlinewidth": 0,
              "ticks": ""
             }
            },
            "type": "scattergeo"
           }
          ],
          "scattergl": [
           {
            "marker": {
             "colorbar": {
              "outlinewidth": 0,
              "ticks": ""
             }
            },
            "type": "scattergl"
           }
          ],
          "scattermapbox": [
           {
            "marker": {
             "colorbar": {
              "outlinewidth": 0,
              "ticks": ""
             }
            },
            "type": "scattermapbox"
           }
          ],
          "scatterpolar": [
           {
            "marker": {
             "colorbar": {
              "outlinewidth": 0,
              "ticks": ""
             }
            },
            "type": "scatterpolar"
           }
          ],
          "scatterpolargl": [
           {
            "marker": {
             "colorbar": {
              "outlinewidth": 0,
              "ticks": ""
             }
            },
            "type": "scatterpolargl"
           }
          ],
          "scatterternary": [
           {
            "marker": {
             "colorbar": {
              "outlinewidth": 0,
              "ticks": ""
             }
            },
            "type": "scatterternary"
           }
          ],
          "surface": [
           {
            "colorbar": {
             "outlinewidth": 0,
             "ticks": ""
            },
            "colorscale": [
             [
              0,
              "#0d0887"
             ],
             [
              0.1111111111111111,
              "#46039f"
             ],
             [
              0.2222222222222222,
              "#7201a8"
             ],
             [
              0.3333333333333333,
              "#9c179e"
             ],
             [
              0.4444444444444444,
              "#bd3786"
             ],
             [
              0.5555555555555556,
              "#d8576b"
             ],
             [
              0.6666666666666666,
              "#ed7953"
             ],
             [
              0.7777777777777778,
              "#fb9f3a"
             ],
             [
              0.8888888888888888,
              "#fdca26"
             ],
             [
              1,
              "#f0f921"
             ]
            ],
            "type": "surface"
           }
          ],
          "table": [
           {
            "cells": {
             "fill": {
              "color": "#EBF0F8"
             },
             "line": {
              "color": "white"
             }
            },
            "header": {
             "fill": {
              "color": "#C8D4E3"
             },
             "line": {
              "color": "white"
             }
            },
            "type": "table"
           }
          ]
         },
         "layout": {
          "annotationdefaults": {
           "arrowcolor": "#2a3f5f",
           "arrowhead": 0,
           "arrowwidth": 1
          },
          "autotypenumbers": "strict",
          "coloraxis": {
           "colorbar": {
            "outlinewidth": 0,
            "ticks": ""
           }
          },
          "colorscale": {
           "diverging": [
            [
             0,
             "#8e0152"
            ],
            [
             0.1,
             "#c51b7d"
            ],
            [
             0.2,
             "#de77ae"
            ],
            [
             0.3,
             "#f1b6da"
            ],
            [
             0.4,
             "#fde0ef"
            ],
            [
             0.5,
             "#f7f7f7"
            ],
            [
             0.6,
             "#e6f5d0"
            ],
            [
             0.7,
             "#b8e186"
            ],
            [
             0.8,
             "#7fbc41"
            ],
            [
             0.9,
             "#4d9221"
            ],
            [
             1,
             "#276419"
            ]
           ],
           "sequential": [
            [
             0,
             "#0d0887"
            ],
            [
             0.1111111111111111,
             "#46039f"
            ],
            [
             0.2222222222222222,
             "#7201a8"
            ],
            [
             0.3333333333333333,
             "#9c179e"
            ],
            [
             0.4444444444444444,
             "#bd3786"
            ],
            [
             0.5555555555555556,
             "#d8576b"
            ],
            [
             0.6666666666666666,
             "#ed7953"
            ],
            [
             0.7777777777777778,
             "#fb9f3a"
            ],
            [
             0.8888888888888888,
             "#fdca26"
            ],
            [
             1,
             "#f0f921"
            ]
           ],
           "sequentialminus": [
            [
             0,
             "#0d0887"
            ],
            [
             0.1111111111111111,
             "#46039f"
            ],
            [
             0.2222222222222222,
             "#7201a8"
            ],
            [
             0.3333333333333333,
             "#9c179e"
            ],
            [
             0.4444444444444444,
             "#bd3786"
            ],
            [
             0.5555555555555556,
             "#d8576b"
            ],
            [
             0.6666666666666666,
             "#ed7953"
            ],
            [
             0.7777777777777778,
             "#fb9f3a"
            ],
            [
             0.8888888888888888,
             "#fdca26"
            ],
            [
             1,
             "#f0f921"
            ]
           ]
          },
          "colorway": [
           "#636efa",
           "#EF553B",
           "#00cc96",
           "#ab63fa",
           "#FFA15A",
           "#19d3f3",
           "#FF6692",
           "#B6E880",
           "#FF97FF",
           "#FECB52"
          ],
          "font": {
           "color": "#2a3f5f"
          },
          "geo": {
           "bgcolor": "white",
           "lakecolor": "white",
           "landcolor": "#E5ECF6",
           "showlakes": true,
           "showland": true,
           "subunitcolor": "white"
          },
          "hoverlabel": {
           "align": "left"
          },
          "hovermode": "closest",
          "mapbox": {
           "style": "light"
          },
          "paper_bgcolor": "white",
          "plot_bgcolor": "#E5ECF6",
          "polar": {
           "angularaxis": {
            "gridcolor": "white",
            "linecolor": "white",
            "ticks": ""
           },
           "bgcolor": "#E5ECF6",
           "radialaxis": {
            "gridcolor": "white",
            "linecolor": "white",
            "ticks": ""
           }
          },
          "scene": {
           "xaxis": {
            "backgroundcolor": "#E5ECF6",
            "gridcolor": "white",
            "gridwidth": 2,
            "linecolor": "white",
            "showbackground": true,
            "ticks": "",
            "zerolinecolor": "white"
           },
           "yaxis": {
            "backgroundcolor": "#E5ECF6",
            "gridcolor": "white",
            "gridwidth": 2,
            "linecolor": "white",
            "showbackground": true,
            "ticks": "",
            "zerolinecolor": "white"
           },
           "zaxis": {
            "backgroundcolor": "#E5ECF6",
            "gridcolor": "white",
            "gridwidth": 2,
            "linecolor": "white",
            "showbackground": true,
            "ticks": "",
            "zerolinecolor": "white"
           }
          },
          "shapedefaults": {
           "line": {
            "color": "#2a3f5f"
           }
          },
          "ternary": {
           "aaxis": {
            "gridcolor": "white",
            "linecolor": "white",
            "ticks": ""
           },
           "baxis": {
            "gridcolor": "white",
            "linecolor": "white",
            "ticks": ""
           },
           "bgcolor": "#E5ECF6",
           "caxis": {
            "gridcolor": "white",
            "linecolor": "white",
            "ticks": ""
           }
          },
          "title": {
           "x": 0.05
          },
          "xaxis": {
           "automargin": true,
           "gridcolor": "white",
           "linecolor": "white",
           "ticks": "",
           "title": {
            "standoff": 15
           },
           "zerolinecolor": "white",
           "zerolinewidth": 2
          },
          "yaxis": {
           "automargin": true,
           "gridcolor": "white",
           "linecolor": "white",
           "ticks": "",
           "title": {
            "standoff": 15
           },
           "zerolinecolor": "white",
           "zerolinewidth": 2
          }
         }
        },
        "xaxis": {
         "anchor": "y",
         "domain": [
          0,
          1
         ],
         "title": {
          "text": "value"
         }
        },
        "yaxis": {
         "anchor": "x",
         "domain": [
          0,
          1
         ],
         "title": {
          "text": "count"
         }
        }
       }
      },
      "text/html": [
       "<div>                            <div id=\"ec8645ac-c493-4d24-b32c-fe861ad03fef\" class=\"plotly-graph-div\" style=\"height:525px; width:100%;\"></div>            <script type=\"text/javascript\">                require([\"plotly\"], function(Plotly) {                    window.PLOTLYENV=window.PLOTLYENV || {};                                    if (document.getElementById(\"ec8645ac-c493-4d24-b32c-fe861ad03fef\")) {                    Plotly.newPlot(                        \"ec8645ac-c493-4d24-b32c-fe861ad03fef\",                        [{\"alignmentgroup\":\"True\",\"bingroup\":\"x\",\"hovertemplate\":\"Creditability=1<br>value=%{x}<br>count=%{y}<extra></extra>\",\"legendgroup\":\"1\",\"marker\":{\"color\":\"#636efa\",\"pattern\":{\"shape\":\"\"}},\"name\":\"1\",\"offsetgroup\":\"1\",\"orientation\":\"v\",\"showlegend\":true,\"x\":[2,1,1,1,2,1,1,1,3,4,1,3,3,4,3,1,1,1,1,2,1,1,2,1,2,2,1,4,4,2,3,3,3,1,4,1,4,2,3,1,1,1,4,4,1,1,1,1,1,1,1,3,1,1,1,2,1,1,4,1,3,1,2,3,3,3,4,3,3,3,3,3,3,3,1,3,3,3,3,3,3,2,2,3,1,1,3,3,3,3,1,4,1,1,1,1,1,2,2,2,3,1,1,1,3,3,2,3,1,3,1,3,3,3,4,4,2,3,3,2,4,1,3,2,1,1,1,1,1,3,1,1,3,2,3,1,1,3,3,3,1,4,2,3,2,1,3,4,3,3,1,3,3,3,2,1,2,4,2,3,3,1,3,3,3,1,3,3,3,2,2,3,3,1,2,3,3,3,3,3,3,3,3,3,3,3,2,3,3,4,4,4,1,3,1,3,2,1,1,1,2,4,3,1,1,1,1,1,2,1,1,1,2,4,2,3,3,3,1,3,3,1,3,1,3,3,2,3,1,1,1,3,2,2,2,2,2,3,3,2,1,3,3,1,3,3,3,2,2,1,1,1,2,3,2,3,3,3,1,2,2,3,2,3,1,2,3,1,3,2,3,1,2,3,3,2,3,1,3,1,4,1,2,3,1,3,2,2,2,1,1,1,3,3,3,1,1,1,1,2,2,1,3,1,2,1,4,3,3,2,4,4,1,1,1,1,1,1,1,2,3,3,3,3,2,3,2,1,2,1,2,3,3,4,1,3,2,4,4,2,3,3,3,3,4,4,4,1,3,3,1,3,2,1,4,2,3,1,3,1,3,3,4,1,1,3,3,1,2,3,3,4,1,1,1,2,3,1,3,4,2,4,3,1,3,1,1,3,2,1,2,2,3,4,3,1,1,2,1,1,3,3,2,3,1,1,2,3,1,3,3,4,3,1,4,2,1,3,3,1,4,4,3,1,3,3,2,3,2,1,1,1,4,3,4,1,3,4,4,4,1,3,2,2,3,1,2,3,1,1,3,4,3,2,4,3,2,1,3,3,2,3,4,3,2,1,4,2,2,1,3,2,1,2,1,2,2,1,1,2,1,2,2,1,1,2,2,1,3,1,1,2,3,2,3,4,3,2,3,3,3,1,1,3,3,1,1,4,3,1,3,3,2,3,3,1,1,2,3,3,2,1,1,3,2,1,3,2,1,1,2,1,3,3,2,2,1,1,3,4,2,2,2,3,1,3,1,4,3,3,3,3,4,4,2,1,1,1,4,1,2,2,1,2,2,2,2,2,2,2,2,4,3,2,2,4,2,4,3,1,4,4,4,2,4,4,4,3,2,4,2,2,2,2,4,4,2,2,2,2,2,4,4,3,2,3,2,3,2,2,2,2,4,2,1,1,1,1,1,1,3,1,1,1,1,1,1,2,1,1,1,1,3,1,1,1,1,1,1,2,1,2,2,3,4,2,1,1,2,2,1,3,3,2,3,2,3,3,2,1,2,4,1,4,4,3,1,2,2,3,4,3,1,3,3,3,3,3,3,4,4,4,4,3,4,1,3,1,3,3,1,1,3,2,2,4,4,2,4,4],\"xaxis\":\"x\",\"yaxis\":\"y\",\"type\":\"histogram\"},{\"alignmentgroup\":\"True\",\"bingroup\":\"x\",\"hovertemplate\":\"Creditability=0<br>value=%{x}<br>count=%{y}<extra></extra>\",\"legendgroup\":\"0\",\"marker\":{\"color\":\"#EF553B\",\"pattern\":{\"shape\":\"\"}},\"name\":\"0\",\"offsetgroup\":\"0\",\"orientation\":\"v\",\"showlegend\":true,\"x\":[4,3,1,1,2,4,1,3,1,1,1,2,3,4,1,3,4,3,2,3,3,3,2,2,3,3,3,3,3,2,3,2,4,4,4,2,2,2,2,2,2,4,4,3,4,3,2,1,3,4,3,3,4,3,2,3,3,3,4,3,1,4,2,4,3,3,1,2,4,3,3,4,1,3,3,3,4,1,3,2,2,1,4,2,4,3,2,2,1,3,1,1,2,2,1,4,1,3,3,4,2,4,1,2,3,2,3,4,2,4,3,4,1,1,4,1,4,1,1,3,4,2,2,1,3,2,4,2,3,1,3,3,3,3,2,3,3,3,4,2,4,1,3,3,3,2,4,4,4,4,2,1,1,1,2,4,4,3,3,4,1,2,1,2,4,4,3,3,3,3,3,1,1,3,4,3,3,3,2,3,3,3,4,2,3,2,2,4,1,4,4,3,1,3,2,4,1,1,3,2,2,1,4,3,2,1,3,1,1,4,4,2,2,3,4,3,3,2,4,4,3,3,3,2,2,1,2,2,4,3,1,1,1,3,2,2,3,3,1,3,4,3,3,4,1,2,1,1,4,2,2,1,2,3,1,4,3,3,3,3,3,3,4,1,3,3,3,1,4,2,3,4,1,3,2,4,2,4,2,4,2,3,3,3,1,3,2,2,3,2,1,4,2,1,2,1,1,4,4,2],\"xaxis\":\"x\",\"yaxis\":\"y\",\"type\":\"histogram\"}],                        {\"template\":{\"data\":{\"histogram2dcontour\":[{\"type\":\"histogram2dcontour\",\"colorbar\":{\"outlinewidth\":0,\"ticks\":\"\"},\"colorscale\":[[0.0,\"#0d0887\"],[0.1111111111111111,\"#46039f\"],[0.2222222222222222,\"#7201a8\"],[0.3333333333333333,\"#9c179e\"],[0.4444444444444444,\"#bd3786\"],[0.5555555555555556,\"#d8576b\"],[0.6666666666666666,\"#ed7953\"],[0.7777777777777778,\"#fb9f3a\"],[0.8888888888888888,\"#fdca26\"],[1.0,\"#f0f921\"]]}],\"choropleth\":[{\"type\":\"choropleth\",\"colorbar\":{\"outlinewidth\":0,\"ticks\":\"\"}}],\"histogram2d\":[{\"type\":\"histogram2d\",\"colorbar\":{\"outlinewidth\":0,\"ticks\":\"\"},\"colorscale\":[[0.0,\"#0d0887\"],[0.1111111111111111,\"#46039f\"],[0.2222222222222222,\"#7201a8\"],[0.3333333333333333,\"#9c179e\"],[0.4444444444444444,\"#bd3786\"],[0.5555555555555556,\"#d8576b\"],[0.6666666666666666,\"#ed7953\"],[0.7777777777777778,\"#fb9f3a\"],[0.8888888888888888,\"#fdca26\"],[1.0,\"#f0f921\"]]}],\"heatmap\":[{\"type\":\"heatmap\",\"colorbar\":{\"outlinewidth\":0,\"ticks\":\"\"},\"colorscale\":[[0.0,\"#0d0887\"],[0.1111111111111111,\"#46039f\"],[0.2222222222222222,\"#7201a8\"],[0.3333333333333333,\"#9c179e\"],[0.4444444444444444,\"#bd3786\"],[0.5555555555555556,\"#d8576b\"],[0.6666666666666666,\"#ed7953\"],[0.7777777777777778,\"#fb9f3a\"],[0.8888888888888888,\"#fdca26\"],[1.0,\"#f0f921\"]]}],\"heatmapgl\":[{\"type\":\"heatmapgl\",\"colorbar\":{\"outlinewidth\":0,\"ticks\":\"\"},\"colorscale\":[[0.0,\"#0d0887\"],[0.1111111111111111,\"#46039f\"],[0.2222222222222222,\"#7201a8\"],[0.3333333333333333,\"#9c179e\"],[0.4444444444444444,\"#bd3786\"],[0.5555555555555556,\"#d8576b\"],[0.6666666666666666,\"#ed7953\"],[0.7777777777777778,\"#fb9f3a\"],[0.8888888888888888,\"#fdca26\"],[1.0,\"#f0f921\"]]}],\"contourcarpet\":[{\"type\":\"contourcarpet\",\"colorbar\":{\"outlinewidth\":0,\"ticks\":\"\"}}],\"contour\":[{\"type\":\"contour\",\"colorbar\":{\"outlinewidth\":0,\"ticks\":\"\"},\"colorscale\":[[0.0,\"#0d0887\"],[0.1111111111111111,\"#46039f\"],[0.2222222222222222,\"#7201a8\"],[0.3333333333333333,\"#9c179e\"],[0.4444444444444444,\"#bd3786\"],[0.5555555555555556,\"#d8576b\"],[0.6666666666666666,\"#ed7953\"],[0.7777777777777778,\"#fb9f3a\"],[0.8888888888888888,\"#fdca26\"],[1.0,\"#f0f921\"]]}],\"surface\":[{\"type\":\"surface\",\"colorbar\":{\"outlinewidth\":0,\"ticks\":\"\"},\"colorscale\":[[0.0,\"#0d0887\"],[0.1111111111111111,\"#46039f\"],[0.2222222222222222,\"#7201a8\"],[0.3333333333333333,\"#9c179e\"],[0.4444444444444444,\"#bd3786\"],[0.5555555555555556,\"#d8576b\"],[0.6666666666666666,\"#ed7953\"],[0.7777777777777778,\"#fb9f3a\"],[0.8888888888888888,\"#fdca26\"],[1.0,\"#f0f921\"]]}],\"mesh3d\":[{\"type\":\"mesh3d\",\"colorbar\":{\"outlinewidth\":0,\"ticks\":\"\"}}],\"scatter\":[{\"fillpattern\":{\"fillmode\":\"overlay\",\"size\":10,\"solidity\":0.2},\"type\":\"scatter\"}],\"parcoords\":[{\"type\":\"parcoords\",\"line\":{\"colorbar\":{\"outlinewidth\":0,\"ticks\":\"\"}}}],\"scatterpolargl\":[{\"type\":\"scatterpolargl\",\"marker\":{\"colorbar\":{\"outlinewidth\":0,\"ticks\":\"\"}}}],\"bar\":[{\"error_x\":{\"color\":\"#2a3f5f\"},\"error_y\":{\"color\":\"#2a3f5f\"},\"marker\":{\"line\":{\"color\":\"#E5ECF6\",\"width\":0.5},\"pattern\":{\"fillmode\":\"overlay\",\"size\":10,\"solidity\":0.2}},\"type\":\"bar\"}],\"scattergeo\":[{\"type\":\"scattergeo\",\"marker\":{\"colorbar\":{\"outlinewidth\":0,\"ticks\":\"\"}}}],\"scatterpolar\":[{\"type\":\"scatterpolar\",\"marker\":{\"colorbar\":{\"outlinewidth\":0,\"ticks\":\"\"}}}],\"histogram\":[{\"marker\":{\"pattern\":{\"fillmode\":\"overlay\",\"size\":10,\"solidity\":0.2}},\"type\":\"histogram\"}],\"scattergl\":[{\"type\":\"scattergl\",\"marker\":{\"colorbar\":{\"outlinewidth\":0,\"ticks\":\"\"}}}],\"scatter3d\":[{\"type\":\"scatter3d\",\"line\":{\"colorbar\":{\"outlinewidth\":0,\"ticks\":\"\"}},\"marker\":{\"colorbar\":{\"outlinewidth\":0,\"ticks\":\"\"}}}],\"scattermapbox\":[{\"type\":\"scattermapbox\",\"marker\":{\"colorbar\":{\"outlinewidth\":0,\"ticks\":\"\"}}}],\"scatterternary\":[{\"type\":\"scatterternary\",\"marker\":{\"colorbar\":{\"outlinewidth\":0,\"ticks\":\"\"}}}],\"scattercarpet\":[{\"type\":\"scattercarpet\",\"marker\":{\"colorbar\":{\"outlinewidth\":0,\"ticks\":\"\"}}}],\"carpet\":[{\"aaxis\":{\"endlinecolor\":\"#2a3f5f\",\"gridcolor\":\"white\",\"linecolor\":\"white\",\"minorgridcolor\":\"white\",\"startlinecolor\":\"#2a3f5f\"},\"baxis\":{\"endlinecolor\":\"#2a3f5f\",\"gridcolor\":\"white\",\"linecolor\":\"white\",\"minorgridcolor\":\"white\",\"startlinecolor\":\"#2a3f5f\"},\"type\":\"carpet\"}],\"table\":[{\"cells\":{\"fill\":{\"color\":\"#EBF0F8\"},\"line\":{\"color\":\"white\"}},\"header\":{\"fill\":{\"color\":\"#C8D4E3\"},\"line\":{\"color\":\"white\"}},\"type\":\"table\"}],\"barpolar\":[{\"marker\":{\"line\":{\"color\":\"#E5ECF6\",\"width\":0.5},\"pattern\":{\"fillmode\":\"overlay\",\"size\":10,\"solidity\":0.2}},\"type\":\"barpolar\"}],\"pie\":[{\"automargin\":true,\"type\":\"pie\"}]},\"layout\":{\"autotypenumbers\":\"strict\",\"colorway\":[\"#636efa\",\"#EF553B\",\"#00cc96\",\"#ab63fa\",\"#FFA15A\",\"#19d3f3\",\"#FF6692\",\"#B6E880\",\"#FF97FF\",\"#FECB52\"],\"font\":{\"color\":\"#2a3f5f\"},\"hovermode\":\"closest\",\"hoverlabel\":{\"align\":\"left\"},\"paper_bgcolor\":\"white\",\"plot_bgcolor\":\"#E5ECF6\",\"polar\":{\"bgcolor\":\"#E5ECF6\",\"angularaxis\":{\"gridcolor\":\"white\",\"linecolor\":\"white\",\"ticks\":\"\"},\"radialaxis\":{\"gridcolor\":\"white\",\"linecolor\":\"white\",\"ticks\":\"\"}},\"ternary\":{\"bgcolor\":\"#E5ECF6\",\"aaxis\":{\"gridcolor\":\"white\",\"linecolor\":\"white\",\"ticks\":\"\"},\"baxis\":{\"gridcolor\":\"white\",\"linecolor\":\"white\",\"ticks\":\"\"},\"caxis\":{\"gridcolor\":\"white\",\"linecolor\":\"white\",\"ticks\":\"\"}},\"coloraxis\":{\"colorbar\":{\"outlinewidth\":0,\"ticks\":\"\"}},\"colorscale\":{\"sequential\":[[0.0,\"#0d0887\"],[0.1111111111111111,\"#46039f\"],[0.2222222222222222,\"#7201a8\"],[0.3333333333333333,\"#9c179e\"],[0.4444444444444444,\"#bd3786\"],[0.5555555555555556,\"#d8576b\"],[0.6666666666666666,\"#ed7953\"],[0.7777777777777778,\"#fb9f3a\"],[0.8888888888888888,\"#fdca26\"],[1.0,\"#f0f921\"]],\"sequentialminus\":[[0.0,\"#0d0887\"],[0.1111111111111111,\"#46039f\"],[0.2222222222222222,\"#7201a8\"],[0.3333333333333333,\"#9c179e\"],[0.4444444444444444,\"#bd3786\"],[0.5555555555555556,\"#d8576b\"],[0.6666666666666666,\"#ed7953\"],[0.7777777777777778,\"#fb9f3a\"],[0.8888888888888888,\"#fdca26\"],[1.0,\"#f0f921\"]],\"diverging\":[[0,\"#8e0152\"],[0.1,\"#c51b7d\"],[0.2,\"#de77ae\"],[0.3,\"#f1b6da\"],[0.4,\"#fde0ef\"],[0.5,\"#f7f7f7\"],[0.6,\"#e6f5d0\"],[0.7,\"#b8e186\"],[0.8,\"#7fbc41\"],[0.9,\"#4d9221\"],[1,\"#276419\"]]},\"xaxis\":{\"gridcolor\":\"white\",\"linecolor\":\"white\",\"ticks\":\"\",\"title\":{\"standoff\":15},\"zerolinecolor\":\"white\",\"automargin\":true,\"zerolinewidth\":2},\"yaxis\":{\"gridcolor\":\"white\",\"linecolor\":\"white\",\"ticks\":\"\",\"title\":{\"standoff\":15},\"zerolinecolor\":\"white\",\"automargin\":true,\"zerolinewidth\":2},\"scene\":{\"xaxis\":{\"backgroundcolor\":\"#E5ECF6\",\"gridcolor\":\"white\",\"linecolor\":\"white\",\"showbackground\":true,\"ticks\":\"\",\"zerolinecolor\":\"white\",\"gridwidth\":2},\"yaxis\":{\"backgroundcolor\":\"#E5ECF6\",\"gridcolor\":\"white\",\"linecolor\":\"white\",\"showbackground\":true,\"ticks\":\"\",\"zerolinecolor\":\"white\",\"gridwidth\":2},\"zaxis\":{\"backgroundcolor\":\"#E5ECF6\",\"gridcolor\":\"white\",\"linecolor\":\"white\",\"showbackground\":true,\"ticks\":\"\",\"zerolinecolor\":\"white\",\"gridwidth\":2}},\"shapedefaults\":{\"line\":{\"color\":\"#2a3f5f\"}},\"annotationdefaults\":{\"arrowcolor\":\"#2a3f5f\",\"arrowhead\":0,\"arrowwidth\":1},\"geo\":{\"bgcolor\":\"white\",\"landcolor\":\"#E5ECF6\",\"subunitcolor\":\"white\",\"showland\":true,\"showlakes\":true,\"lakecolor\":\"white\"},\"title\":{\"x\":0.05},\"mapbox\":{\"style\":\"light\"}}},\"xaxis\":{\"anchor\":\"y\",\"domain\":[0.0,1.0],\"title\":{\"text\":\"value\"}},\"yaxis\":{\"anchor\":\"x\",\"domain\":[0.0,1.0],\"title\":{\"text\":\"count\"}},\"legend\":{\"title\":{\"text\":\"Creditability\"},\"tracegroupgap\":0},\"margin\":{\"t\":60},\"barmode\":\"relative\"},                        {\"responsive\": true}                    ).then(function(){\n",
       "                            \n",
       "var gd = document.getElementById('ec8645ac-c493-4d24-b32c-fe861ad03fef');\n",
       "var x = new MutationObserver(function (mutations, observer) {{\n",
       "        var display = window.getComputedStyle(gd).display;\n",
       "        if (!display || display === 'none') {{\n",
       "            console.log([gd, 'removed!']);\n",
       "            Plotly.purge(gd);\n",
       "            observer.disconnect();\n",
       "        }}\n",
       "}});\n",
       "\n",
       "// Listen for the removal of the full notebook cells\n",
       "var notebookContainer = gd.closest('#notebook-container');\n",
       "if (notebookContainer) {{\n",
       "    x.observe(notebookContainer, {childList: true});\n",
       "}}\n",
       "\n",
       "// Listen for the clearing of the current output cell\n",
       "var outputEl = gd.closest('.output');\n",
       "if (outputEl) {{\n",
       "    x.observe(outputEl, {childList: true});\n",
       "}}\n",
       "\n",
       "                        })                };                });            </script>        </div>"
      ]
     },
     "metadata": {},
     "output_type": "display_data"
    }
   ],
   "source": [
    "Barplot3 = px.histogram(df_risk_credit, x=['Most valuable available asset'],color = 'Creditability',)\n",
    "Barplot3.show()"
   ]
  },
  {
   "cell_type": "code",
   "execution_count": 25,
   "id": "05bcf114",
   "metadata": {},
   "outputs": [
    {
     "data": {
      "image/png": "[encoded data removed]",
      "text/plain": [
       "<Figure size 432x288 with 1 Axes>"
      ]
     },
     "metadata": {
      "needs_background": "light"
     },
     "output_type": "display_data"
    }
   ],
   "source": [
    "BoxPlotDC = sns.boxplot(x=df_risk_credit['Duration of Credit (month)'])"
   ]
  },
  {
   "cell_type": "code",
   "execution_count": 26,
   "id": "4858c7d9",
   "metadata": {},
   "outputs": [
    {
     "data": {
      "image/png": "[encoded data removed]",
      "text/plain": [
       "<Figure size 432x288 with 1 Axes>"
      ]
     },
     "metadata": {
      "needs_background": "light"
     },
     "output_type": "display_data"
    }
   ],
   "source": [
    "BoxPlotMC = sns.boxplot(x=df_risk_credit['Credit Amount'])"
   ]
  },
  {
   "cell_type": "code",
   "execution_count": 27,
   "id": "dbf56fe0",
   "metadata": {},
   "outputs": [
    {
     "data": {
      "image/png": "[encoded data removed]",
      "text/plain": [
       "<Figure size 432x288 with 1 Axes>"
      ]
     },
     "metadata": {
      "needs_background": "light"
     },
     "output_type": "display_data"
    }
   ],
   "source": [
    "BoxPlotI = sns.boxplot(x=df_risk_credit['Age (years)'])"
   ]
  },
  {
   "cell_type": "markdown",
   "id": "b1381364",
   "metadata": {},
   "source": [
    "# Decision tree model for selecting the most important variables "
   ]
  },
  {
   "cell_type": "code",
   "execution_count": 28,
   "id": "3e5d2d58",
   "metadata": {},
   "outputs": [
    {
     "name": "stderr",
     "output_type": "stream",
     "text": [
      "C:\\Users\\gabri\\AppData\\Local\\Temp/ipykernel_2964/2132473543.py:23: DataConversionWarning:\n",
      "\n",
      "A column-vector y was passed when a 1d array was expected. Please change the shape of y to (n_samples,), for example using ravel().\n",
      "\n"
     ]
    },
    {
     "data": {
      "image/png": "[encoded data removed]",
      "text/plain": [
       "<Figure size 800x500 with 1 Axes>"
      ]
     },
     "metadata": {
      "needs_background": "light"
     },
     "output_type": "display_data"
    }
   ],
   "source": [
    "from sklearn.tree import DecisionTreeClassifier\n",
    "from sklearn.ensemble import RandomForestClassifier\n",
    "from sklearn.model_selection import train_test_split\n",
    "#from pycaret.classification import *\n",
    "\n",
    "#s = setup(df_risk_credit, target = 'Credibilidade', session_id=42)\n",
    "#dt = create_model('dt')\n",
    "#model = create_model('rf')\n",
    "#tuned_model = tune_model(model)\n",
    "class_1 = df_risk_credit[df_risk_credit['Creditability']==1]\n",
    "class_0 = df_risk_credit[df_risk_credit['Creditability']==0]\n",
    "\n",
    "class_1_over = class_1.sample(class_0.shape[0], replace=True)\n",
    "\n",
    "df_train_over = pd.concat([class_1_over, class_0], axis=0)\n",
    "\n",
    "rf = RandomForestClassifier()\n",
    "\n",
    "X_train, X_test, y_train, y_test = train_test_split(df_train_over[list(set(df_train_over.columns)-set(['Creditability']))],\n",
    "                                                    df_train_over[['Creditability']],\n",
    "                                                    test_size=0.3, random_state=42)\n",
    "\n",
    "model_rf = RandomForestClassifier(n_estimators=500, max_depth=5).fit(X_train, y_train)\n",
    "\n",
    "import matplotlib.pyplot as plt\n",
    "features = X_train.columns\n",
    "importances = model_rf.feature_importances_\n",
    "indices = np.argsort(importances)\n",
    "\n",
    "plt.figure(figsize=(8,5), dpi=100)\n",
    "plt.title('Feature Importances')\n",
    "plt.barh(range(len(indices)), importances[indices], color='b', align='center')\n",
    "plt.yticks(range(len(indices)), [features[i] for i in indices])\n",
    "plt.xlabel('Relative Importance')\n",
    "plt.show()"
   ]
  },
  {
   "cell_type": "markdown",
   "id": "c6cc8788",
   "metadata": {},
   "source": [
    "Build a decision tree model to select the most important variables"
   ]
  },
  {
   "cell_type": "code",
   "execution_count": null,
   "id": "39436bcc",
   "metadata": {},
   "outputs": [],
   "source": []
  }
 ],
 "metadata": {
  "kernelspec": {
   "display_name": "Python 3 (ipykernel)",
   "language": "python",
   "name": "python3"
  },
  "language_info": {
   "codemirror_mode": {
    "name": "ipython",
    "version": 3
   },
   "file_extension": ".py",
   "mimetype": "text/x-python",
   "name": "python",
   "nbconvert_exporter": "python",
   "pygments_lexer": "ipython3",
   "version": "3.9.7"
  }
 },
 "nbformat": 4,
 "nbformat_minor": 5
}
